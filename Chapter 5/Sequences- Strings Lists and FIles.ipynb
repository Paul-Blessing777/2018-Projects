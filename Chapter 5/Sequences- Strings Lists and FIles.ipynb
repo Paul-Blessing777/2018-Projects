{
 "cells": [
  {
   "cell_type": "markdown",
   "id": "14689eb0",
   "metadata": {},
   "source": [
    "# Sequences: Strings, Lists, and Files"
   ]
  },
  {
   "cell_type": "markdown",
   "id": "d08832e1",
   "metadata": {},
   "source": [
    "## 5.1 The String Data Type"
   ]
  },
  {
   "cell_type": "markdown",
   "id": "1f541a4a",
   "metadata": {},
   "source": [
    "Strings can be \"indexed\" meaning each character in the string has a concomitant index number. The first index is always Zero not 1. Par Exemple - var = \"hello\" the indexes would be 0-h, 1-e, 2-l, 3-l, 4-o. <br /> We can access a particular index of a string with the following syntax: var[0] would return the letter h"
   ]
  },
  {
   "cell_type": "code",
   "execution_count": 4,
   "id": "3720bc27",
   "metadata": {},
   "outputs": [
    {
     "name": "stdout",
     "output_type": "stream",
     "text": [
      "h\n",
      "e l\n"
     ]
    }
   ],
   "source": [
    "var = 'hello'\n",
    "print(var[0])\n",
    "print(var[1], var[2])"
   ]
  },
  {
   "cell_type": "code",
   "execution_count": 7,
   "id": "ddc6e403",
   "metadata": {},
   "outputs": [
    {
     "name": "stdout",
     "output_type": "stream",
     "text": [
      "o\n",
      "l\n"
     ]
    }
   ],
   "source": [
    "# We can also reverse index \n",
    "print(var[-1]) # gives the last character in the string\n",
    "print(var[-2])"
   ]
  },
  {
   "cell_type": "markdown",
   "id": "c1626d40",
   "metadata": {},
   "source": [
    "#### String Sicing"
   ]
  },
  {
   "cell_type": "markdown",
   "id": "523f889e",
   "metadata": {},
   "source": [
    "We can take not only one particular character from a string but can also take ***substrings*** from a string via index slicing."
   ]
  },
  {
   "cell_type": "code",
   "execution_count": 8,
   "id": "4dab8cb2",
   "metadata": {},
   "outputs": [
    {
     "data": {
      "text/plain": [
       "'hel'"
      ]
     },
     "execution_count": 8,
     "metadata": {},
     "output_type": "execute_result"
    }
   ],
   "source": [
    "var[0:3]"
   ]
  },
  {
   "cell_type": "code",
   "execution_count": 11,
   "id": "b82e3952",
   "metadata": {},
   "outputs": [
    {
     "data": {
      "text/plain": [
       "'el'"
      ]
     },
     "execution_count": 11,
     "metadata": {},
     "output_type": "execute_result"
    }
   ],
   "source": [
    "var[1:4:2] # Starts at 1 goes to index 4 and skips every 2 indexes"
   ]
  },
  {
   "cell_type": "code",
   "execution_count": 13,
   "id": "66f88d6e",
   "metadata": {},
   "outputs": [
    {
     "data": {
      "text/plain": [
       "'hell'"
      ]
     },
     "execution_count": 13,
     "metadata": {},
     "output_type": "execute_result"
    }
   ],
   "source": [
    "var[:4] # only goes up to but not including the final index given"
   ]
  },
  {
   "cell_type": "markdown",
   "id": "7e034942",
   "metadata": {},
   "source": [
    "#### String Concatenation and Repitition"
   ]
  },
  {
   "cell_type": "code",
   "execution_count": 16,
   "id": "629b9b1f",
   "metadata": {},
   "outputs": [
    {
     "name": "stdout",
     "output_type": "stream",
     "text": [
      "spameggs\n",
      "hellohellohello\n"
     ]
    }
   ],
   "source": [
    "# Using the + and * operators we can Concatenate and repeat strings\n",
    "print(\"spam\" +\"eggs\")\n",
    "print('hello'*3)"
   ]
  },
  {
   "cell_type": "code",
   "execution_count": 17,
   "id": "b2af02d7",
   "metadata": {},
   "outputs": [
    {
     "data": {
      "text/plain": [
       "5"
      ]
     },
     "execution_count": 17,
     "metadata": {},
     "output_type": "execute_result"
    }
   ],
   "source": [
    "# We can use the len() function to get back the length of a given string\n",
    "len(var)"
   ]
  },
  {
   "cell_type": "markdown",
   "id": "029d30b8",
   "metadata": {},
   "source": [
    "## 5.2 Simple String Processing"
   ]
  },
  {
   "cell_type": "code",
   "execution_count": 22,
   "id": "2cb7168c",
   "metadata": {},
   "outputs": [
    {
     "name": "stdout",
     "output_type": "stream",
     "text": [
      "Ablessin\n"
     ]
    }
   ],
   "source": [
    "# Book has an example of program to make a user name for someone given their first and last name\n",
    "# I'm going to try this on my own first\n",
    "def username(f_name, l_name):\n",
    "    \n",
    "    username = f_name[0] + l_name[:7].lower()\n",
    "    print(username)\n",
    "username('Aurora', \"Blessing\")"
   ]
  },
  {
   "cell_type": "code",
   "execution_count": 23,
   "id": "624e2cd5",
   "metadata": {},
   "outputs": [
    {
     "name": "stdout",
     "output_type": "stream",
     "text": [
      "This program generates computer usernames.\n",
      "\n",
      "Please enter your first name (all lowercase): PAUL\n",
      "Please enter your last name (all lowercase): BLESSING\n",
      "Your username is: PBLESSIN\n"
     ]
    }
   ],
   "source": [
    "# Book's example\n",
    "# username.py\n",
    "#    Simple string processing program to generate usernames. \n",
    "\n",
    "def main():\n",
    "    print(\"This program generates computer usernames.\\n\")\n",
    "\n",
    "    # get user's first and last names\n",
    "    first = input(\"Please enter your first name (all lowercase): \")\n",
    "    last = input(\"Please enter your last name (all lowercase): \")\n",
    "\n",
    "    # concatenate first initial with 7 chars of the last name.\n",
    "    uname = first[0] + last[:7]\n",
    "\n",
    "    # output the username\n",
    "    print(\"Your username is:\", uname)\n",
    "\n",
    "main()"
   ]
  },
  {
   "cell_type": "code",
   "execution_count": 35,
   "id": "4421f89a",
   "metadata": {},
   "outputs": [
    {
     "data": {
      "text/plain": [
       "'May'"
      ]
     },
     "execution_count": 35,
     "metadata": {},
     "output_type": "execute_result"
    }
   ],
   "source": [
    "# Book has another example of grabbing the 3 letter abrv of each month given a month number\n",
    "# It wants to do this without if-else structures; I will try on my own first\n",
    "def month(month_num):\n",
    "    months = \"   JanFebMarAprMayJunJulAugSepOctNovDec\"\n",
    "    \n",
    "    return months[month_num*3:(month_num*3)+3]\n",
    "month(5)"
   ]
  },
  {
   "cell_type": "code",
   "execution_count": 36,
   "id": "e5a4adc3",
   "metadata": {},
   "outputs": [
    {
     "name": "stdout",
     "output_type": "stream",
     "text": [
      "Enter a month number (1-12): 2\n",
      "The month abbreviation is Feb.\n"
     ]
    }
   ],
   "source": [
    "# Book's example\n",
    "# month.py\n",
    "#  A program to print the abbreviation of a month, given its number\n",
    "\n",
    "def main():\n",
    "    # months is used as a lookup table\n",
    "    months = \"JanFebMarAprMayJunJulAugSepOctNovDec\"\n",
    "\n",
    "    n = int(input(\"Enter a month number (1-12): \"))\n",
    "\n",
    "    # compute starting position of month n in months\n",
    "    pos = (n-1) * 3\n",
    "    \n",
    "    # Grab the appropriate slice from months\n",
    "    monthAbbrev = months[pos:pos+3]\n",
    "\n",
    "    # print the result    \n",
    "    print(\"The month abbreviation is\", monthAbbrev + \".\")\n",
    "\n",
    "main()"
   ]
  },
  {
   "cell_type": "markdown",
   "id": "cf2f511a",
   "metadata": {},
   "source": [
    "## 5.3 Lists as Sequences"
   ]
  },
  {
   "cell_type": "markdown",
   "id": "e26940d0",
   "metadata": {},
   "source": [
    "Lists like strings can be concatenated, repeated, sliced and so on. But they are more versatile than strings."
   ]
  },
  {
   "cell_type": "code",
   "execution_count": 37,
   "id": "8d6e32b8",
   "metadata": {},
   "outputs": [
    {
     "data": {
      "text/plain": [
       "[1, 2, 3, 4]"
      ]
     },
     "execution_count": 37,
     "metadata": {},
     "output_type": "execute_result"
    }
   ],
   "source": [
    "[1,2] + [3,4]"
   ]
  },
  {
   "cell_type": "code",
   "execution_count": 38,
   "id": "e1e075dc",
   "metadata": {},
   "outputs": [
    {
     "data": {
      "text/plain": [
       "[1, 2, 1, 2, 1, 2, 1, 2]"
      ]
     },
     "execution_count": 38,
     "metadata": {},
     "output_type": "execute_result"
    }
   ],
   "source": [
    "[1,2] *4"
   ]
  },
  {
   "cell_type": "code",
   "execution_count": 39,
   "id": "ddb36419",
   "metadata": {},
   "outputs": [
    {
     "data": {
      "text/plain": [
       "'B'"
      ]
     },
     "execution_count": 39,
     "metadata": {},
     "output_type": "execute_result"
    }
   ],
   "source": [
    "grades = [\"A\", \"B\", \"C\", \"D\"]\n",
    "grades[1]"
   ]
  },
  {
   "cell_type": "code",
   "execution_count": 40,
   "id": "ba21f6d2",
   "metadata": {},
   "outputs": [
    {
     "data": {
      "text/plain": [
       "['A', 'B']"
      ]
     },
     "execution_count": 40,
     "metadata": {},
     "output_type": "execute_result"
    }
   ],
   "source": [
    "grades[0:2]"
   ]
  },
  {
   "cell_type": "code",
   "execution_count": 42,
   "id": "9b8753ae",
   "metadata": {},
   "outputs": [
    {
     "data": {
      "text/plain": [
       "4"
      ]
     },
     "execution_count": 42,
     "metadata": {},
     "output_type": "execute_result"
    }
   ],
   "source": [
    "len(grades) # Gives back how many things are contained in the list"
   ]
  },
  {
   "cell_type": "markdown",
   "id": "bd6a3fdb",
   "metadata": {},
   "source": [
    "Lists can contain both numbers and strings"
   ]
  },
  {
   "cell_type": "code",
   "execution_count": 44,
   "id": "a753377c",
   "metadata": {},
   "outputs": [
    {
     "data": {
      "text/plain": [
       "['Hello', 777, 'N', 2.33]"
      ]
     },
     "execution_count": 44,
     "metadata": {},
     "output_type": "execute_result"
    }
   ],
   "source": [
    "list2 = [\"Hello\", 777, \"N\", 2.33]\n",
    "list2[:]"
   ]
  },
  {
   "cell_type": "markdown",
   "id": "4dd1288b",
   "metadata": {},
   "source": [
    "Let's rewrite the month program using a list containing each month; this should be much easier"
   ]
  },
  {
   "cell_type": "code",
   "execution_count": 47,
   "id": "78b6a86a",
   "metadata": {},
   "outputs": [
    {
     "name": "stdout",
     "output_type": "stream",
     "text": [
      "Enter a month number (1-12): 7\n",
      "The month abbreviation is Jul.\n"
     ]
    }
   ],
   "source": [
    "# month2.py\n",
    "# A program to print the month abbreviation, given its number.\n",
    "\n",
    "def main():\n",
    "    # months is a list used as a lookup table\n",
    "    months = [\"Jan\", \"Feb\", \"Mar\", \"Apr\", \"May\", \"Jun\",\n",
    "            \"Jul\", \"Aug\", \"Sep\", \"Oct\", \"Nov\", \"Dec\"]\n",
    "\n",
    "    n = int(input(\"Enter a month number (1-12): \"))\n",
    "\n",
    "    print(\"The month abbreviation is\", months[n-1] + \".\")\n",
    "\n",
    "\n",
    "main()"
   ]
  },
  {
   "cell_type": "markdown",
   "id": "0f2a987b",
   "metadata": {},
   "source": [
    "Lists are **Mutable** meaning their contents can be changed in place. Strings however, are not mutable and must be reassigned to change their values"
   ]
  },
  {
   "cell_type": "code",
   "execution_count": 49,
   "id": "58dd7be5",
   "metadata": {},
   "outputs": [
    {
     "data": {
      "text/plain": [
       "[34, 'Yojimbo', 77, 777]"
      ]
     },
     "execution_count": 49,
     "metadata": {},
     "output_type": "execute_result"
    }
   ],
   "source": [
    "my_list = [34,26,77,777]\n",
    "my_list[1] = \"Yojimbo\"\n",
    "my_list"
   ]
  },
  {
   "cell_type": "code",
   "execution_count": 50,
   "id": "711262d0",
   "metadata": {},
   "outputs": [
    {
     "ename": "TypeError",
     "evalue": "'str' object does not support item assignment",
     "output_type": "error",
     "traceback": [
      "\u001b[1;31m---------------------------------------------------------------------------\u001b[0m",
      "\u001b[1;31mTypeError\u001b[0m                                 Traceback (most recent call last)",
      "\u001b[1;32m~\\AppData\\Local\\Temp\\ipykernel_15636\\3385029534.py\u001b[0m in \u001b[0;36m<module>\u001b[1;34m\u001b[0m\n\u001b[0;32m      1\u001b[0m \u001b[0mmy_string\u001b[0m \u001b[1;33m=\u001b[0m \u001b[1;34m\"Aurora Blessing\"\u001b[0m\u001b[1;33m\u001b[0m\u001b[1;33m\u001b[0m\u001b[0m\n\u001b[1;32m----> 2\u001b[1;33m \u001b[0mmy_string\u001b[0m\u001b[1;33m[\u001b[0m\u001b[1;36m0\u001b[0m\u001b[1;33m]\u001b[0m \u001b[1;33m=\u001b[0m \u001b[1;34m\"B\"\u001b[0m\u001b[1;33m\u001b[0m\u001b[1;33m\u001b[0m\u001b[0m\n\u001b[0m",
      "\u001b[1;31mTypeError\u001b[0m: 'str' object does not support item assignment"
     ]
    }
   ],
   "source": [
    "my_string = \"Aurora Blessing\"\n",
    "my_string[0] = \"B\" # This will cause an error as strings are NOT mutable"
   ]
  },
  {
   "cell_type": "markdown",
   "id": "3794ba0f",
   "metadata": {},
   "source": [
    "### 5.4 String Representation and Message Encoding"
   ]
  },
  {
   "cell_type": "markdown",
   "id": "4fdae4f7",
   "metadata": {},
   "source": [
    "Computers store string characters in the same way they store numbers; as binary code. Most computers and computer systems today use the same encoding and deconding process for storing these character values as binary code. <br /> <br />\n",
    "A common standard for this encoding and decoding is known as **ASCII** or American Standard for for Information Interchange. This systmes uses the number 0-127 to represent characters; for example uppercase letters are stored 65-90 and lower case are stored 97-122. <br /> <br />\n",
    "Many modern sytems have switched to **Unicode** since ASCII is American centric and doesn't include many characters used in other languages. Python supports Unicode and ASCII."
   ]
  },
  {
   "cell_type": "code",
   "execution_count": 51,
   "id": "eaf1d8d4",
   "metadata": {},
   "outputs": [
    {
     "name": "stdout",
     "output_type": "stream",
     "text": [
      "80\n",
      "112\n"
     ]
    }
   ],
   "source": [
    "# We can see how characters are encoded with the ord() function\n",
    "print(ord(\"P\"))\n",
    "print(ord('p'))"
   ]
  },
  {
   "cell_type": "code",
   "execution_count": 58,
   "id": "ef3ec71c",
   "metadata": {},
   "outputs": [
    {
     "name": "stdout",
     "output_type": "stream",
     "text": [
      "€\n",
      "7\n",
      "ṡ\n"
     ]
    }
   ],
   "source": [
    "# We can see how characters are decoded via the chr() function\n",
    "print(chr(8364))\n",
    "print(chr(55))\n",
    "print(chr(7777))"
   ]
  },
  {
   "cell_type": "markdown",
   "id": "25b90ca8",
   "metadata": {},
   "source": [
    "Unicode has the same system as ASCII up to the 127 characters defined in it but it also goes much further with many other unique symbols and characters"
   ]
  },
  {
   "cell_type": "code",
   "execution_count": 74,
   "id": "760d73b0",
   "metadata": {},
   "outputs": [
    {
     "name": "stdout",
     "output_type": "stream",
     "text": [
      "[84, 104, 101, 32, 79, 119, 108, 32, 111, 102, 32, 77, 105, 118, 101, 114, 97, 32, 70, 108, 105, 101, 115, 32, 98, 121, 32, 78, 105, 103, 104, 116]\n"
     ]
    }
   ],
   "source": [
    "#Book has an example program to encode a message\n",
    "# I will once again do my own attempt\n",
    "def encode(message):\n",
    "    \n",
    "    encoded_message = []\n",
    "    for char in message:\n",
    "        encoded_message.append(ord(char))\n",
    "    return encoded_message\n",
    "secret = encode(\"The Owl of Mivera Flies by Night\")\n",
    "print(secret)"
   ]
  },
  {
   "cell_type": "code",
   "execution_count": 83,
   "id": "827fab83",
   "metadata": {},
   "outputs": [
    {
     "data": {
      "text/plain": [
       "'The Owl of Mivera Flies by Night'"
      ]
     },
     "execution_count": 83,
     "metadata": {},
     "output_type": "execute_result"
    }
   ],
   "source": [
    "def decode(message):\n",
    "    \n",
    "    decoded_message = \"\"\n",
    "    for num in message:\n",
    "        decoded_message += chr(num)\n",
    "        \n",
    "    return decoded_message\n",
    "decode(secret)"
   ]
  },
  {
   "cell_type": "code",
   "execution_count": 81,
   "id": "a3220a0f",
   "metadata": {},
   "outputs": [
    {
     "name": "stdout",
     "output_type": "stream",
     "text": [
      "This program converts a textual message into a sequence\n",
      "of numbers representing the Unicode encoding of the message.\n",
      "\n",
      "Please enter the message to encode: The Owl of Minerva Flies By Night\n",
      "\n",
      "Here are the Unicode codes:\n",
      "84 104 101 32 79 119 108 32 111 102 32 77 105 110 101 114 118 97 32 70 108 105 101 115 32 66 121 32 78 105 103 104 116 \n"
     ]
    }
   ],
   "source": [
    "# Book's example\n",
    "# text2numbers.py\n",
    "#     A program to convert a textual message into a sequence of\n",
    "#         numbers, utilizing the underlying Unicode encoding.\n",
    "\n",
    "def main():\n",
    "    print(\"This program converts a textual message into a sequence\")\n",
    "    print(\"of numbers representing the Unicode encoding of the message.\\n\")\n",
    "    \n",
    "    # Get the message to encode\n",
    "    message = input(\"Please enter the message to encode: \")\n",
    "\n",
    "    print(\"\\nHere are the Unicode codes:\")\n",
    "\n",
    "    # Loop through the message and print out the Unicode values\n",
    "    for ch in message:\n",
    "        print(ord(ch), end=\" \")\n",
    "        \n",
    "    print() # End line of output\n",
    "\n",
    "main()\n"
   ]
  },
  {
   "cell_type": "markdown",
   "id": "12ad8f5b",
   "metadata": {},
   "source": [
    "## 5.5 String Methods"
   ]
  },
  {
   "cell_type": "markdown",
   "id": "973fc351",
   "metadata": {},
   "source": [
    "We can use the split method to split up a string by a give parameter (spaces are default)."
   ]
  },
  {
   "cell_type": "code",
   "execution_count": 1,
   "id": "c68f1fb9",
   "metadata": {},
   "outputs": [
    {
     "data": {
      "text/plain": [
       "['Hello,', 'string', 'methods!']"
      ]
     },
     "execution_count": 1,
     "metadata": {},
     "output_type": "execute_result"
    }
   ],
   "source": [
    "my_string = \"Hello, string methods!\"\n",
    "my_string.split() # Returns a list with the string split by spaces"
   ]
  },
  {
   "cell_type": "code",
   "execution_count": 3,
   "id": "00666683",
   "metadata": {},
   "outputs": [
    {
     "data": {
      "text/plain": [
       "['32', '24', '25', '57']"
      ]
     },
     "execution_count": 3,
     "metadata": {},
     "output_type": "execute_result"
    }
   ],
   "source": [
    "string2 = \"32,24,25,57\"\n",
    "string2.split(\",\") # Splits on the specified comma character"
   ]
  },
  {
   "cell_type": "markdown",
   "id": "ba834855",
   "metadata": {},
   "source": [
    "Split can be very useful when getting user input (which defaults to string type). For example we could get a user to input an x and y coordinate and split it in a list, then we could index that list to get either the x or y variable like below."
   ]
  },
  {
   "cell_type": "code",
   "execution_count": 4,
   "id": "6fc69eb7",
   "metadata": {},
   "outputs": [
    {
     "name": "stdout",
     "output_type": "stream",
     "text": [
      "Please enter coordinates (x,y): 2,3\n"
     ]
    },
    {
     "data": {
      "text/plain": [
       "'2'"
      ]
     },
     "execution_count": 4,
     "metadata": {},
     "output_type": "execute_result"
    }
   ],
   "source": [
    "coords = input(\"Please enter coordinates (x,y): \").split(\",\")\n",
    "coords[0]"
   ]
  },
  {
   "cell_type": "code",
   "execution_count": 7,
   "id": "04655d01",
   "metadata": {},
   "outputs": [
    {
     "name": "stdout",
     "output_type": "stream",
     "text": [
      "Please enter coordinates (x,y): 4,5\n",
      "4.0\n",
      "5.0\n"
     ]
    }
   ],
   "source": [
    "# we could also use this list to make new variables for the coordinates\n",
    "coords = input(\"Please enter coordinates (x,y): \").split(\",\")\n",
    "x,y = float(coords[0]),  float(coords[1])\n",
    "print(x)\n",
    "print(y)"
   ]
  },
  {
   "cell_type": "code",
   "execution_count": 8,
   "id": "d368b75f",
   "metadata": {},
   "outputs": [
    {
     "name": "stdout",
     "output_type": "stream",
     "text": [
      "This program converts a sequence of Unicode numbers into\n",
      "the string of text that it represents.\n",
      "\n",
      "Please enter the Unicode-encoded message: 84 104 101 32 79 119 108 32 111 102 32 77 105 110 101 114 118 97 32 70 108 105 101 115 32 66 121 32 78 105 103 104 116 \n",
      "\n",
      "The decoded message is: The Owl of Minerva Flies By Night\n"
     ]
    }
   ],
   "source": [
    "# The book goes into a decoder program for its original encoder program.\n",
    "#I'll just copy below as I already made my own decoder method\n",
    "# numbers2text2.py\n",
    "#     A program to convert a sequence of Unicode numbers into\n",
    "#         a string of text. Efficient version using a list accumulator.\n",
    "\n",
    "def main():\n",
    "    print(\"This program converts a sequence of Unicode numbers into\")\n",
    "    print(\"the string of text that it represents.\\n\")\n",
    "    \n",
    "    # Get the message to encode\n",
    "    inString = input(\"Please enter the Unicode-encoded message: \")\n",
    "\n",
    "    # Loop through each substring and build Unicode message\n",
    "    chars = [] \n",
    "    for numStr in inString.split():\n",
    "        codeNum = int(numStr)              # convert digits to a number\n",
    "        chars.append(chr(codeNum))         # accumulate new character\n",
    "\n",
    "    message = \"\".join(chars)\n",
    "    print(\"\\nThe decoded message is:\", message)\n",
    "\n",
    "main()\n"
   ]
  },
  {
   "cell_type": "markdown",
   "id": "5ef4ce16",
   "metadata": {},
   "source": [
    "Some other string methods"
   ]
  },
  {
   "cell_type": "code",
   "execution_count": 38,
   "id": "9ca47631",
   "metadata": {},
   "outputs": [
    {
     "data": {
      "text/plain": [
       "'Hello, i came here for an argument'"
      ]
     },
     "execution_count": 38,
     "metadata": {},
     "output_type": "execute_result"
    }
   ],
   "source": [
    "s = \"hello, I came here for an argument\"\n",
    "s.capitalize() # Capitalizes the first character"
   ]
  },
  {
   "cell_type": "code",
   "execution_count": 26,
   "id": "1a6871a8",
   "metadata": {},
   "outputs": [
    {
     "data": {
      "text/plain": [
       "'Hello, I Came Here For An Argument'"
      ]
     },
     "execution_count": 26,
     "metadata": {},
     "output_type": "execute_result"
    }
   ],
   "source": [
    "s.title() # Capitalizes the first character for each word"
   ]
  },
  {
   "cell_type": "code",
   "execution_count": 27,
   "id": "edef1e50",
   "metadata": {},
   "outputs": [
    {
     "data": {
      "text/plain": [
       "'hello, i came here for an argument'"
      ]
     },
     "execution_count": 27,
     "metadata": {},
     "output_type": "execute_result"
    }
   ],
   "source": [
    "s.lower() # Makes the entire string lower case"
   ]
  },
  {
   "cell_type": "code",
   "execution_count": 28,
   "id": "5b511e3d",
   "metadata": {},
   "outputs": [
    {
     "data": {
      "text/plain": [
       "'HELLO, I CAME HERE FOR AN ARGUMENT'"
      ]
     },
     "execution_count": 28,
     "metadata": {},
     "output_type": "execute_result"
    }
   ],
   "source": [
    "s.upper() # Makes the entire string upper case"
   ]
  },
  {
   "cell_type": "code",
   "execution_count": 29,
   "id": "e4990177",
   "metadata": {},
   "outputs": [
    {
     "data": {
      "text/plain": [
       "'hello, You came here for an argument'"
      ]
     },
     "execution_count": 29,
     "metadata": {},
     "output_type": "execute_result"
    }
   ],
   "source": [
    "s.replace(\"I\", \"You\") # Replaces first parameter with second (everywhere the first character appears)"
   ]
  },
  {
   "cell_type": "code",
   "execution_count": 32,
   "id": "af6a4f29",
   "metadata": {},
   "outputs": [
    {
     "data": {
      "text/plain": [
       "'             hello, I came here for an argument             '"
      ]
     },
     "execution_count": 32,
     "metadata": {},
     "output_type": "execute_result"
    }
   ],
   "source": [
    "s.center(60) # Gives an intial width to the string "
   ]
  },
  {
   "cell_type": "code",
   "execution_count": 34,
   "id": "f8c5602f",
   "metadata": {},
   "outputs": [
    {
     "data": {
      "text/plain": [
       "5"
      ]
     },
     "execution_count": 34,
     "metadata": {},
     "output_type": "execute_result"
    }
   ],
   "source": [
    "s.count('e') # counts how many times the character appears"
   ]
  },
  {
   "cell_type": "code",
   "execution_count": 39,
   "id": "f5381b74",
   "metadata": {},
   "outputs": [
    {
     "data": {
      "text/plain": [
       "5"
      ]
     },
     "execution_count": 39,
     "metadata": {},
     "output_type": "execute_result"
    }
   ],
   "source": [
    "s.find(\",\") # Returns the index the first time the given character is found"
   ]
  },
  {
   "cell_type": "code",
   "execution_count": 41,
   "id": "07f8e815",
   "metadata": {},
   "outputs": [
    {
     "data": {
      "text/plain": [
       "'Number/One/The/Larch'"
      ]
     },
     "execution_count": 41,
     "metadata": {},
     "output_type": "execute_result"
    }
   ],
   "source": [
    "\"/\".join(['Number', \"One\", \"The\", \"Larch\"]) # Joins together the members of a list on a given character"
   ]
  },
  {
   "cell_type": "code",
   "execution_count": 42,
   "id": "9841488f",
   "metadata": {},
   "outputs": [
    {
     "data": {
      "text/plain": [
       "'NumberspamOnespamThespamLarch'"
      ]
     },
     "execution_count": 42,
     "metadata": {},
     "output_type": "execute_result"
    }
   ],
   "source": [
    "\"spam\".join(['Number', \"One\", \"The\", \"Larch\"])"
   ]
  },
  {
   "cell_type": "markdown",
   "id": "3fdf27d7",
   "metadata": {},
   "source": [
    "## 5.6 Lists have Methods Too"
   ]
  },
  {
   "cell_type": "markdown",
   "id": "35932355",
   "metadata": {},
   "source": [
    "The append() method allows us to add new members to a list. Below the book shows how it can be used for the decoder method."
   ]
  },
  {
   "cell_type": "code",
   "execution_count": 43,
   "id": "12baf263",
   "metadata": {},
   "outputs": [
    {
     "name": "stdout",
     "output_type": "stream",
     "text": [
      "This program converts a sequence of Unicode numbers into\n",
      "the string of text that it represents.\n",
      "\n",
      "Please enter the Unicode-encoded message: 84 104 101 32 79 119 108 32 111 102 32 77 105 110 101 114 118 97 32 70 108 105 101 115 32 66 121 32 78 105 103 104 116\n",
      "\n",
      "The decoded message is: The Owl of Minerva Flies By Night\n"
     ]
    }
   ],
   "source": [
    "# numbers2text2.py\n",
    "#     A program to convert a sequence of Unicode numbers into\n",
    "#         a string of text. Efficient version using a list accumulator.\n",
    "\n",
    "def main():\n",
    "    print(\"This program converts a sequence of Unicode numbers into\")\n",
    "    print(\"the string of text that it represents.\\n\")\n",
    "    \n",
    "    # Get the message to encode\n",
    "    inString = input(\"Please enter the Unicode-encoded message: \")\n",
    "\n",
    "    # Loop through each substring and build Unicode message\n",
    "    chars = [] \n",
    "    for numStr in inString.split():\n",
    "        codeNum = int(numStr)              # convert digits to a number\n",
    "        chars.append(chr(codeNum))         # accumulate new character\n",
    "\n",
    "    message = \"\".join(chars)\n",
    "    print(\"\\nThe decoded message is:\", message)\n",
    "\n",
    "main()\n"
   ]
  },
  {
   "cell_type": "markdown",
   "id": "5f4a9f23",
   "metadata": {},
   "source": [
    "## 5.7 From Encoding to Encryption"
   ]
  },
  {
   "cell_type": "markdown",
   "id": "07e02ddd",
   "metadata": {},
   "source": [
    "The process of encoding information for the purpose of keeping it secret or transmitting it provately is called **encryption.** <br />\n",
    "The study of encryption methods is known as **cryptography.**"
   ]
  },
  {
   "cell_type": "markdown",
   "id": "ead371c9",
   "metadata": {},
   "source": [
    "## 5.8 Input/Output as String Manipulation"
   ]
  },
  {
   "cell_type": "code",
   "execution_count": 44,
   "id": "f0c4bfb2",
   "metadata": {},
   "outputs": [
    {
     "name": "stdout",
     "output_type": "stream",
     "text": [
      "Enter a date (mm/dd/yyyy): 09/03/1994\n",
      "The converted date is: September 03, 1994\n"
     ]
    }
   ],
   "source": [
    "# dateconvert.py\n",
    "#    Converts a date in form \"mm/dd/yyyy\" to \"month day, year\" \n",
    "\n",
    "def main():\n",
    "    # get the date\n",
    "    dateStr = input(\"Enter a date (mm/dd/yyyy): \")\n",
    "\n",
    "    # split into components\n",
    "    monthStr, dayStr, yearStr = dateStr.split(\"/\")\n",
    "\n",
    "    # convert monthStr to the month name\n",
    "    months = [\"January\", \"February\", \"March\", \"April\", \n",
    "              \"May\", \"June\", \"July\", \"August\", \n",
    "              \"September\", \"October\", \"November\", \"December\"]\n",
    "    monthStr = months[int(monthStr)-1]\n",
    "\n",
    "    # output result in month day, year format\n",
    "    print(\"The converted date is:\", monthStr, dayStr+\",\", yearStr)\n",
    "\n",
    "main()"
   ]
  },
  {
   "cell_type": "markdown",
   "id": "56e2de16",
   "metadata": {},
   "source": [
    "#### Converting Data Types Functions\n",
    "float(var) Converts the variable to a float <br />\n",
    "int(var) Converts the variable to an int <br />\n",
    "str(var) Converts the variable into a string <br />\n",
    "eval(var) Evaluates a string as an expression"
   ]
  },
  {
   "cell_type": "code",
   "execution_count": 45,
   "id": "0ca08e4b",
   "metadata": {},
   "outputs": [
    {
     "name": "stdout",
     "output_type": "stream",
     "text": [
      "Change Counter\n",
      "\n",
      "Please enter the count of each coin type.\n",
      "Quarters: 22\n",
      "Dimes: 152\n",
      "Nickels: 55\n",
      "Pennies: 23\n",
      "The total value of your change is $23.68\n"
     ]
    }
   ],
   "source": [
    "# change2.py\n",
    "#   A program to calculate the value of some change in dollars\n",
    "#   This version represents the total cash in cents.\n",
    "\n",
    "def main():\n",
    "    print(\"Change Counter\\n\")\n",
    "\n",
    "    print(\"Please enter the count of each coin type.\")\n",
    "    quarters = int(input(\"Quarters: \"))\n",
    "    dimes = int(input(\"Dimes: \"))\n",
    "    nickels = int(input(\"Nickels: \"))\n",
    "    pennies = int(input(\"Pennies: \"))\n",
    "\n",
    "    total = quarters * 25 + dimes * 10 + nickels * 5 + pennies\n",
    "\n",
    "    print(\"The total value of your change is ${0}.{1:0>2}\"\n",
    "          .format(total//100, total%100))\n",
    "\n",
    "main()\n"
   ]
  },
  {
   "cell_type": "markdown",
   "id": "071db3e5",
   "metadata": {},
   "source": [
    "## 5.9 File Processing"
   ]
  },
  {
   "cell_type": "markdown",
   "id": "a891227b",
   "metadata": {},
   "source": [
    "When working with files in Python, we actually store them as file type objects. The Syntax is below: <br />\n",
    "variable = open(\"FileName\", \"mode\") The \"mode\" parameter can be either 'r' or 'w' (read or write). <br /> <br />\n",
    "Python provides three related operations for reading info from a file: <br />\n",
    "**file.read()** - Returns the entire remaining contents of the file as a single string. <br />\n",
    "**file.readline()** - Returns the next line of the file. That is, all text up to and including the next newline (\\n) character. <br />\n",
    "**file.readlines()** - Returns a list of the remaining lines in the file. Each list item is a single line including the newline character at the end."
   ]
  },
  {
   "cell_type": "code",
   "execution_count": 48,
   "id": "1aec0f45",
   "metadata": {},
   "outputs": [
    {
     "name": "stdout",
     "output_type": "stream",
     "text": [
      "Enter filename: test_file.txt\n",
      "Hello World\n"
     ]
    }
   ],
   "source": [
    "# printfile.py\n",
    "#     Prints a file to the screen.\n",
    "\n",
    "def main():\n",
    "    fname = input(\"Enter filename: \")\n",
    "    infile = open(fname,\"r\")\n",
    "    data = infile.read()\n",
    "    print(data)\n",
    "\n",
    "main()\n"
   ]
  },
  {
   "cell_type": "code",
   "execution_count": 50,
   "id": "cd1bd2fc",
   "metadata": {},
   "outputs": [
    {
     "name": "stdout",
     "output_type": "stream",
     "text": [
      "Hello World\n",
      "\n",
      "Aurora Blessing\n",
      "\n",
      "Is the Best\n"
     ]
    }
   ],
   "source": [
    "# Looping through the entire contents of a file\n",
    "infile = open(\"test_file.txt\", 'r')\n",
    "for line in infile.readlines():\n",
    "    print(line)\n",
    "infile.close()\n",
    "\n",
    "# A drawback to this approach is that reading a very large file into a list may take too much memory"
   ]
  },
  {
   "cell_type": "code",
   "execution_count": 51,
   "id": "cbb2d4d2",
   "metadata": {},
   "outputs": [
    {
     "name": "stdout",
     "output_type": "stream",
     "text": [
      "Hello World\n",
      "\n",
      "Aurora Blessing\n",
      "\n",
      "Is the Best\n"
     ]
    }
   ],
   "source": [
    "# SO we can do something a bit more simple like below\n",
    "infile = open(\"test_file.txt\", 'r')\n",
    "for line in infile:\n",
    "    print(line)\n",
    "infile.close()"
   ]
  },
  {
   "cell_type": "markdown",
   "id": "cb6fa813",
   "metadata": {},
   "source": [
    "When writing a file, should that filename not exist, it will be created. If it does exist, the old file will be rewritten, alors prendre soin!"
   ]
  },
  {
   "cell_type": "code",
   "execution_count": 65,
   "id": "adfad7cc",
   "metadata": {},
   "outputs": [],
   "source": [
    "file = open('test_file.txt', 'a')\n",
    "print(\"\\nAnd We Love Her\", file= file)"
   ]
  },
  {
   "cell_type": "code",
   "execution_count": 66,
   "id": "f3339408",
   "metadata": {},
   "outputs": [
    {
     "name": "stdout",
     "output_type": "stream",
     "text": [
      "Hello World\n",
      "\n",
      "Aurora Blessing\n",
      "\n",
      "Is the Best\n",
      "\n",
      "\n",
      "\n",
      "And We Love Her\n",
      "\n"
     ]
    }
   ],
   "source": [
    "file.close()\n",
    "infile = open(\"test_file.txt\", 'r')\n",
    "for line in infile:\n",
    "    print(line)\n",
    "infile.close()"
   ]
  },
  {
   "cell_type": "code",
   "execution_count": 71,
   "id": "61ec91f9",
   "metadata": {},
   "outputs": [
    {
     "name": "stdout",
     "output_type": "stream",
     "text": [
      "This program creates a file of usernames from a\n",
      "file of names.\n",
      "What file are the names in? names.txt\n",
      "What file should the usernames go in? user_names.txt\n",
      "Usernames have been written to user_names.txt\n"
     ]
    }
   ],
   "source": [
    "# userfile.py\n",
    "#    Program to create a file of usernames in batch mode.\n",
    "\n",
    "def main():\n",
    "    print(\"This program creates a file of usernames from a\")\n",
    "    print(\"file of names.\")\n",
    "\n",
    "    # get the file names\n",
    "    infileName = input(\"What file are the names in? \")\n",
    "    outfileName = input(\"What file should the usernames go in? \")\n",
    "\n",
    "    # open the files\n",
    "    infile = open(infileName, \"r\")\n",
    "    outfile = open(outfileName, \"w\")\n",
    "\n",
    "    # process each line of the input file\n",
    "    for line in infile:\n",
    "        # get the first and last names from line\n",
    "        first, last = line.split()\n",
    "        # create the username\n",
    "        uname = (first[0]+last[:7]).lower()\n",
    "        # write it to the output file\n",
    "        print(uname, file=outfile)\n",
    "\n",
    "    # close both files\n",
    "    infile.close()\n",
    "    outfile.close()\n",
    "\n",
    "    print(\"Usernames have been written to\", outfileName)\n",
    "\n",
    "main()"
   ]
  },
  {
   "cell_type": "code",
   "execution_count": 72,
   "id": "6dc62d9e",
   "metadata": {},
   "outputs": [],
   "source": [
    "from tkinter.filedialog import askopenfilename"
   ]
  },
  {
   "cell_type": "code",
   "execution_count": 74,
   "id": "6d243239",
   "metadata": {},
   "outputs": [],
   "source": [
    "inflile = askopenfilename()\n",
    "infile.close()"
   ]
  },
  {
   "cell_type": "markdown",
   "id": "b6dd00d2",
   "metadata": {},
   "source": [
    "# 5.10 Chapter Summary"
   ]
  },
  {
   "cell_type": "markdown",
   "id": "880e9e61",
   "metadata": {},
   "source": [
    "Strings are sequences of characters. String literals can be delimited with either single or double quotes. <br />\n",
    "Strings and lists can be manipulated with built-in operators like: Concatenation (+), Repitition (*)*, Indexing ([]), Slicing ([:]), and length (len()). For loops can iterate through the characters of a string, items in a list, or lines of a file. <br />\n",
    "Encoding Data to keep it private is called **encryption**; the two main systems are private and public key."
   ]
  },
  {
   "cell_type": "markdown",
   "id": "3008498b",
   "metadata": {},
   "source": [
    "## Programming Exercises"
   ]
  },
  {
   "cell_type": "markdown",
   "id": "55d07a44",
   "metadata": {},
   "source": [
    "### 1"
   ]
  },
  {
   "cell_type": "code",
   "execution_count": 1,
   "id": "f1fd002c",
   "metadata": {},
   "outputs": [
    {
     "name": "stdout",
     "output_type": "stream",
     "text": [
      "Enter the day number: 3\n",
      "Enter the month number: 9\n",
      "Enter the year: 1994\n",
      "The date is, 9/3/1994 or, September 3, 1994.\n"
     ]
    }
   ],
   "source": [
    "# dateconvert2.py\n",
    "#     Converts day month and year numbers into two date formats\n",
    "\n",
    "def main():\n",
    "    # get the day month and year as numbers\n",
    "    day = int(input(\"Enter the day number: \"))\n",
    "    month = int(input(\"Enter the month number: \"))\n",
    "    year = int(input(\"Enter the year: \"))\n",
    "\n",
    "    date1 = str(month)+\"/\"+str(day)+\"/\"+str(year)\n",
    "\n",
    "    months = [\"January\", \"February\", \"March\", \"April\", \n",
    "              \"May\", \"June\", \"July\", \"August\", \n",
    "              \"September\", \"October\", \"November\", \"December\"]\n",
    "    monthStr = months[month-1]\n",
    "    date2 = monthStr+\" \" + str(day) + \", \" + str(year)\n",
    "    \n",
    "    #Modified code\n",
    "    print(f\"The date is, {date1} or, {date2}.\")\n",
    "\n",
    "main()"
   ]
  },
  {
   "cell_type": "markdown",
   "id": "a05cab48",
   "metadata": {},
   "source": [
    "### 2/3"
   ]
  },
  {
   "cell_type": "code",
   "execution_count": 16,
   "id": "6a6dfef7",
   "metadata": {},
   "outputs": [
    {
     "name": "stdout",
     "output_type": "stream",
     "text": [
      "The letter grade for the score of: 77 is a C\n"
     ]
    }
   ],
   "source": [
    "def quiz_score(score,grade_type=\"100 Scale\"):\n",
    "    if grade_type == \"100 Scale\":\n",
    "        letter_grade = \"\"\n",
    "\n",
    "        if score >= 90:\n",
    "            letter_grade = \"A\"\n",
    "        elif score >= 80:\n",
    "            letter_grade = \"B\"\n",
    "        elif score >= 70:\n",
    "            letter_grade = \"C\"\n",
    "        elif score >= 60:\n",
    "            letter_grade = \"D\"\n",
    "        elif score < 60:\n",
    "            letter_grade = \"F\"\n",
    "        else:\n",
    "            print(\"Something went wrong; the score wasn't accepted\")\n",
    "\n",
    "        print(f\"The letter grade for the score of: {score} is a {letter_grade}\")\n",
    "        \n",
    "    elif grade_type == '5 Scale':\n",
    "        if score >= 5:\n",
    "            letter_grade = \"A\"\n",
    "        elif score >= 4:\n",
    "            letter_grade = \"B\"\n",
    "        elif score >= 3:\n",
    "            letter_grade = \"C\"\n",
    "        elif score >= 2:\n",
    "            letter_grade = \"D\"\n",
    "        elif score <= 1:\n",
    "            letter_grade = \"F\"\n",
    "        else:\n",
    "            print(\"Something went wrong; the score wasn't accepted\")\n",
    "        \n",
    "        print(f\"The letter grade for the score of: {score} is a {letter_grade}\")\n",
    "        \n",
    "\n",
    "quiz_score(77)"
   ]
  },
  {
   "cell_type": "code",
   "execution_count": 17,
   "id": "386b0041",
   "metadata": {},
   "outputs": [
    {
     "name": "stdout",
     "output_type": "stream",
     "text": [
      "The letter grade for the score of: 4 is a B\n"
     ]
    }
   ],
   "source": [
    "quiz_score(4,grade_type=\"5 Scale\")"
   ]
  },
  {
   "cell_type": "markdown",
   "id": "73a5dac8",
   "metadata": {},
   "source": [
    "### 4"
   ]
  },
  {
   "cell_type": "code",
   "execution_count": 14,
   "id": "e5875f0d",
   "metadata": {},
   "outputs": [
    {
     "name": "stdout",
     "output_type": "stream",
     "text": [
      "RAM\n"
     ]
    }
   ],
   "source": [
    "def acronym(word):\n",
    "    \n",
    "    acro = word.split(\" \")\n",
    "    #print(acro.upper())\n",
    "    final_acro = acro[0][0] + acro[1][0] + acro[2][0]\n",
    "    print(final_acro.upper())\n",
    "    \n",
    "acronym(\"Random Access Memory\")"
   ]
  },
  {
   "cell_type": "markdown",
   "id": "e13d5135",
   "metadata": {},
   "source": [
    "### 5"
   ]
  },
  {
   "cell_type": "code",
   "execution_count": 44,
   "id": "c2d806a0",
   "metadata": {},
   "outputs": [
    {
     "name": "stdout",
     "output_type": "stream",
     "text": [
      "74\n"
     ]
    }
   ],
   "source": [
    "def numerology(name):\n",
    "    \n",
    "    total = 0\n",
    "    name = name.lower()\n",
    "    alpha = ' abcdefghijklmnopqrstuvwxyz'\n",
    "    for letter in name:\n",
    "        total += alpha.index(letter)\n",
    "    print(total)\n",
    "numerology('Aurora')"
   ]
  },
  {
   "cell_type": "markdown",
   "id": "34c2e5c2",
   "metadata": {},
   "source": [
    "### 6"
   ]
  },
  {
   "cell_type": "code",
   "execution_count": 45,
   "id": "3509547d",
   "metadata": {},
   "outputs": [
    {
     "name": "stdout",
     "output_type": "stream",
     "text": [
      "161\n"
     ]
    }
   ],
   "source": [
    "def numerology(name):\n",
    "    \n",
    "    total = 0\n",
    "    name = name.lower()\n",
    "    alpha = ' abcdefghijklmnopqrstuvwxyz'\n",
    "    for letter in name:\n",
    "        total += alpha.index(letter)\n",
    "    print(total)\n",
    "numerology('Aurora Blessing')"
   ]
  },
  {
   "cell_type": "markdown",
   "id": "6884313c",
   "metadata": {},
   "source": [
    "### 7"
   ]
  },
  {
   "cell_type": "code",
   "execution_count": 49,
   "id": "1d581b42",
   "metadata": {},
   "outputs": [],
   "source": [
    "def caesar_cipher1(phrase,code=False):\n",
    "    phrase = phrase.lower()\n",
    "    list_phrase = list(phrase)\n",
    "    \n",
    "    cypher = ['x','y','z','a','b','c','d','e','f','g','h','i','j','k','l','m','n','o','p','q','r','s','t','u','v','w',\" \"]\n",
    "    plain = ['a','b','c','d','e','f','g','h','i','j','k','l','m','n','o','p','q','r','s','t','u','v','w','x','y','z', \" \"]\n",
    "    decrypted_phrase = \"\"\n",
    "    crypted_phrase = \"\"\n",
    "    \n",
    "    if code == False:\n",
    "        for letter in phrase:\n",
    "            decrypted_phrase += plain[cypher.index(letter)]\n",
    "        return decrypted_phrase.capitalize()\n",
    "    \n",
    "    if code == True:\n",
    "        for letter in phrase:\n",
    "            crypted_phrase += cypher[plain.index(letter)]\n",
    "        return crypted_phrase.capitalize()"
   ]
  },
  {
   "cell_type": "code",
   "execution_count": 50,
   "id": "97bc37c2",
   "metadata": {},
   "outputs": [
    {
     "data": {
      "text/plain": [
       "'Wkh rzo ri plqhuyd iolhv eb qljkw'"
      ]
     },
     "execution_count": 50,
     "metadata": {},
     "output_type": "execute_result"
    }
   ],
   "source": [
    "caesar_cipher1(\"The Owl of Minerva Flies By Night\",)"
   ]
  },
  {
   "cell_type": "code",
   "execution_count": 51,
   "id": "322df942",
   "metadata": {},
   "outputs": [
    {
     "data": {
      "text/plain": [
       "'The owl of minerva flies by night'"
      ]
     },
     "execution_count": 51,
     "metadata": {},
     "output_type": "execute_result"
    }
   ],
   "source": [
    "caesar_cipher1('Wkh rzo ri plqhuyd iolhv eb qljkw', code=True)"
   ]
  },
  {
   "cell_type": "code",
   "execution_count": 55,
   "id": "2488a490",
   "metadata": {},
   "outputs": [
    {
     "data": {
      "text/plain": [
       "'Fcjjm'"
      ]
     },
     "execution_count": 55,
     "metadata": {},
     "output_type": "execute_result"
    }
   ],
   "source": [
    "def caesar_cipher(phrase, key=-2, code='encode'):\n",
    "    \n",
    "    if code.lower() == 'encode':\n",
    "        encoded_phrase = \"\"\n",
    "        for letter in phrase:\n",
    "            encoded_phrase += chr(ord(letter) +key)\n",
    "        return encoded_phrase\n",
    "    \n",
    "    if code.lower() == 'decode':\n",
    "        decoded_phrase = \"\"\n",
    "        for letter in phrase:\n",
    "            decoded_phrase += chr(ord(letter) + key)\n",
    "        return decoded_phrase\n",
    "    \n",
    "caesar_cipher(\"Hello\",key=-2,code='encode')"
   ]
  },
  {
   "cell_type": "code",
   "execution_count": 56,
   "id": "85772231",
   "metadata": {},
   "outputs": [
    {
     "data": {
      "text/plain": [
       "'Hello'"
      ]
     },
     "execution_count": 56,
     "metadata": {},
     "output_type": "execute_result"
    }
   ],
   "source": [
    "caesar_cipher(\"Fcjjm\", key = 2, code='decode')"
   ]
  },
  {
   "cell_type": "markdown",
   "id": "f2562ffe",
   "metadata": {},
   "source": [
    "### 9"
   ]
  },
  {
   "cell_type": "code",
   "execution_count": 57,
   "id": "fa5ef5c7",
   "metadata": {},
   "outputs": [
    {
     "name": "stdout",
     "output_type": "stream",
     "text": [
      "There are 7 words in the sentence 'Hello Yo Yo My Name Is Joe'\n"
     ]
    }
   ],
   "source": [
    "def word_counter(sentence):\n",
    "    \n",
    "    list1 = sentence.split(\" \")\n",
    "    \n",
    "    print(f\"There are {len(list1)} words in the sentence '{sentence}'\")    \n",
    "\n",
    "word_counter(\"Hello Yo Yo My Name Is Joe\")"
   ]
  },
  {
   "cell_type": "markdown",
   "id": "8385b9cf",
   "metadata": {},
   "source": [
    "### 10"
   ]
  },
  {
   "cell_type": "code",
   "execution_count": 58,
   "id": "615c26c0",
   "metadata": {},
   "outputs": [
    {
     "name": "stdout",
     "output_type": "stream",
     "text": [
      "The Average word count for this sentence is 3.0\n"
     ]
    }
   ],
   "source": [
    "def avg_word_length(sentence):\n",
    "    \n",
    "    list1 = sentence.split(\" \")\n",
    "    n = 0\n",
    "    total = 0\n",
    "    \n",
    "    for word in list1:\n",
    "        n += 1\n",
    "        total += len(word)\n",
    "        \n",
    "    print(f\"The Average word count for this sentence is {round(total/n,2)}\")\n",
    "        \n",
    "avg_word_length('Hello Yo My Name is Joe')"
   ]
  },
  {
   "cell_type": "markdown",
   "id": "f3bed734",
   "metadata": {},
   "source": [
    "### 11"
   ]
  },
  {
   "cell_type": "code",
   "execution_count": 76,
   "id": "7c60fbd9",
   "metadata": {},
   "outputs": [
    {
     "name": "stdout",
     "output_type": "stream",
     "text": [
      "This program illustrates a chaotic function\n",
      "Input:   0.55      ||      0.56\n",
      "--------------------------------------\n",
      "        0.96525          0.96096\n",
      "        0.13082          0.14631\n",
      "        0.44344          0.48713\n",
      "        0.96252          0.97435\n",
      "        0.14068          0.09745\n",
      "        0.47146          0.34303\n",
      "        0.97182          0.87891\n",
      "        0.10679          0.41507\n",
      "        0.37201          0.94687\n",
      "        0.91111          0.19621\n"
     ]
    }
   ],
   "source": [
    "# File: chaos.py\n",
    "# A simple program illustrating chaotic behavior.\n",
    "\n",
    "def main():\n",
    "    print(\"This program illustrates a chaotic function\")\n",
    "    x = eval(input(\"Enter a number between 0 and 1: \"))\n",
    "    y = eval(input(\"Enter a number between 0 and 1: \"))\n",
    "    print(f\"Input:   {x}      ||      {y}\")\n",
    "    print(\"--------------------------------------\")\n",
    "    for i in range(10):\n",
    "        x = 3.9 * x * (1 - x)\n",
    "        y = 3.9 * y * (1 - y)\n",
    "        print(f\"        {round(x,5)}          {round(y,5)}\")\n",
    "main()"
   ]
  },
  {
   "cell_type": "markdown",
   "id": "1b6576bc",
   "metadata": {},
   "source": [
    "### 12"
   ]
  },
  {
   "cell_type": "code",
   "execution_count": 80,
   "id": "0f3df29c",
   "metadata": {},
   "outputs": [
    {
     "name": "stdout",
     "output_type": "stream",
     "text": [
      "This program calculates the future value\n",
      "of a 10-year investment.\n",
      "Enter the initial principal: 1000\n",
      "Enter the annual interest rate: 11\n",
      "Enter the number of years it will accumulate: 7\n",
      "Year   Value\n",
      "-------------\n",
      "0     $1110.0\n",
      "1     $1232.1\n",
      "2     $1367.63\n",
      "3     $1518.07\n",
      "4     $1685.06\n",
      "5     $1870.41\n",
      "6     $2076.16\n"
     ]
    }
   ],
   "source": [
    "# futval.py\n",
    "#    A program to compute the value of an investment\n",
    "#    carried 10 years into the future\n",
    "\n",
    "def main():\n",
    "    print(\"This program calculates the future value\")\n",
    "    print(\"of a 10-year investment.\")\n",
    "\n",
    "    principal = eval(input(\"Enter the initial principal: \"))\n",
    "    apr = eval(input(\"Enter the annual interest rate: \")) /100\n",
    "    years = eval(input(\"Enter the number of years it will accumulate: \"))\n",
    "    \n",
    "    print(f\"Year   Value\")\n",
    "    print(\"-------------\")\n",
    "    for i in range(years):\n",
    "        principal = principal * (1 + apr)\n",
    "        print(f\"{i}     ${round(principal,2)}\")\n",
    "\n",
    "\n",
    "main()"
   ]
  },
  {
   "cell_type": "markdown",
   "id": "8187baec",
   "metadata": {},
   "source": [
    "### 13"
   ]
  },
  {
   "cell_type": "code",
   "execution_count": 98,
   "id": "e15bdb77",
   "metadata": {},
   "outputs": [
    {
     "name": "stdout",
     "output_type": "stream",
     "text": [
      "The numerological number for Aurora Blessing is 161\n",
      "The numerological number for Paul Blessing is 137\n",
      "The numerological number for Jacob Martin is 106\n",
      "The numerological number for Satoshi Nakamoto is 181\n",
      "The numerological number for Issac Newton is 142\n",
      "The numerological number for Deborah Blessing is 140\n",
      "The numerological number for Karl Blessing is 129\n",
      "The numerological number for Joseph Flinn is 128\n",
      "The numerological number for Noctis Lucis Caelum is 199\n",
      "The numerological number for Claire Farron is 120\n",
      "The numerological number for Leon Kennedy is 124\n",
      "The numerological number for Sora is 53\n"
     ]
    }
   ],
   "source": [
    "def numerology():\n",
    "    infile = open('numerology.txt', \"r\")\n",
    "    \n",
    "    for line in infile:\n",
    "        total = 0\n",
    "        line= line[0:-1]\n",
    "        alpha = ' abcdefghijklmnopqrstuvwxyz'\n",
    "        \n",
    "        for letter in line:\n",
    "            total += alpha.index(letter.lower())\n",
    "        print(f\"The numerological number for {line} is {total}\")\n",
    "    \n",
    "    \n",
    "    infile.close()\n",
    "numerology()"
   ]
  },
  {
   "cell_type": "markdown",
   "id": "385aed37",
   "metadata": {},
   "source": [
    "### 14"
   ]
  },
  {
   "cell_type": "code",
   "execution_count": 113,
   "id": "71ce4ccd",
   "metadata": {},
   "outputs": [
    {
     "name": "stdout",
     "output_type": "stream",
     "text": [
      "In the file: numerology.txt there are 12 Lines, 24 Words and 145 Characters\n"
     ]
    }
   ],
   "source": [
    "def file_data(filename):\n",
    "    \n",
    "    infile = open(filename,'r')\n",
    "    line_count = 0\n",
    "    word_count = 0\n",
    "    character_count = 0\n",
    "    \n",
    "    for line in infile:\n",
    "        line_count += 1\n",
    "        line= line[0:-1]\n",
    "        words = line.split(\" \")\n",
    "        word_count += len(words)\n",
    "        for char in words:\n",
    "            character_count += len(char)\n",
    "    \n",
    "        \n",
    "    print(f\"In the file: {filename} there are\"\n",
    "          f\" {line_count} Lines, {word_count} Words and {character_count} Characters\")\n",
    "    \n",
    "    \n",
    "file_data('numerology.txt')\n",
    "        "
   ]
  },
  {
   "cell_type": "markdown",
   "id": "a0fd4514",
   "metadata": {},
   "source": [
    "### 15"
   ]
  },
  {
   "cell_type": "code",
   "execution_count": 169,
   "id": "3e9bb218",
   "metadata": {},
   "outputs": [],
   "source": [
    "from graphics import *"
   ]
  },
  {
   "cell_type": "code",
   "execution_count": 217,
   "id": "6e68e3bb",
   "metadata": {},
   "outputs": [],
   "source": [
    "def student_scores(filename):\n",
    "    \n",
    "    infile = open(filename,'r')\n",
    "    \n",
    "    student_count = infile.readline()\n",
    "    student_count = int(student_count)\n",
    "    win = GraphWin('Student scores', 500,500)\n",
    "    win.setBackground('White')\n",
    "    x_cord = student_count+2\n",
    "    y_cord = student_count+2\n",
    "    win.setCoords(0,0,x_cord, y_cord)\n",
    "    y_change = 1\n",
    "    for line in infile:\n",
    "        line = line[0:-1]\n",
    "        list_line = line.split(\" \")\n",
    "        text = Text(Point(1,(y_cord-y_change)), list_line[0])\n",
    "        text.draw(win)\n",
    "        bar = Rectangle(Point(2,(y_cord-y_change)), Point((x_cord-2)*(int(list_line[1])/100)+2, (y_cord - y_change)+.25)) \n",
    "        bar.setFill(\"blue\")\n",
    "        bar.draw(win)\n",
    "        y_change += 1\n",
    "\n",
    "    win.getMouse()\n",
    "    win.close()\n",
    "\n",
    "    infile.close()\n",
    "student_scores(\"student_scores.txt\")"
   ]
  },
  {
   "cell_type": "markdown",
   "id": "1990e73a",
   "metadata": {},
   "source": [
    "### 16"
   ]
  },
  {
   "cell_type": "code",
   "execution_count": 216,
   "id": "1414752b",
   "metadata": {},
   "outputs": [],
   "source": [
    "def histo_scores(filename):\n",
    "    infile = open(filename, 'r')\n",
    "    score_list = []\n",
    "    for line in infile:\n",
    "        line = line[0:-1]\n",
    "        score_list.append(int(line))\n",
    "        \n",
    "    win = GraphWin('Student scores', 500,500)\n",
    "    win.setBackground('White')\n",
    "    win.setCoords(0,0,12,8)\n",
    "    text = Text(Point(6.25,1), \"Student Scores\")\n",
    "    text.draw(win)\n",
    "    \n",
    "    counter = 0\n",
    "    for i in range(11):\n",
    "        rec = Rectangle(Point(1+counter,2), Point(1+counter+.5, score_list.count(i)+2))\n",
    "        rec.setFill('green')\n",
    "        rec.draw(win)\n",
    "        text2 = Text(Point(1+counter+.25,1.75), f\"{i}\")\n",
    "        text2.draw(win)\n",
    "        counter += 1\n",
    "        \n",
    "    win.getMouse()\n",
    "    win.close()\n",
    "histo_scores('16_scores.txt')"
   ]
  },
  {
   "cell_type": "markdown",
   "id": "3ae723ff",
   "metadata": {},
   "source": [
    "## C'est Fini"
   ]
  }
 ],
 "metadata": {
  "kernelspec": {
   "display_name": "Python 3 (ipykernel)",
   "language": "python",
   "name": "python3"
  },
  "language_info": {
   "codemirror_mode": {
    "name": "ipython",
    "version": 3
   },
   "file_extension": ".py",
   "mimetype": "text/x-python",
   "name": "python",
   "nbconvert_exporter": "python",
   "pygments_lexer": "ipython3",
   "version": "3.9.13"
  }
 },
 "nbformat": 4,
 "nbformat_minor": 5
}
