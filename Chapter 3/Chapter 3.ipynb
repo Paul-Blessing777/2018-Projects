{
 "cells": [
  {
   "cell_type": "markdown",
   "id": "32171168",
   "metadata": {},
   "source": [
    "# Computing With Numbers"
   ]
  },
  {
   "cell_type": "markdown",
   "id": "a92bcc7b",
   "metadata": {},
   "source": [
    "## 3.1 Numeric Data Types"
   ]
  },
  {
   "cell_type": "code",
   "execution_count": 3,
   "id": "1c37683e",
   "metadata": {},
   "outputs": [],
   "source": [
    "# change.py\n",
    "#   A program to calculate the value of some change in dollars\n",
    "\n",
    "def main():\n",
    "    print(\"Change Counter\")\n",
    "    print()\n",
    "    print(\"Please enter the count of each coin type.\")\n",
    "    quarters = eval(input(\"Quarters: \"))\n",
    "    dimes = eval(input(\"Dimes: \"))\n",
    "    nickels = eval(input(\"Nickels: \"))\n",
    "    pennies = eval(input(\"Pennies: \"))\n",
    "    total = quarters * .25 + dimes * .10 + nickels * .05 + pennies * .01\n",
    "    print()\n",
    "    print(\"The total value of your change is$\", total)"
   ]
  },
  {
   "cell_type": "code",
   "execution_count": 4,
   "id": "5ee29f4f",
   "metadata": {},
   "outputs": [
    {
     "name": "stdout",
     "output_type": "stream",
     "text": [
      "Change Counter\n",
      "\n",
      "Please enter the count of each coin type.\n",
      "Quarters: 5\n",
      "Dimes: 3\n",
      "Nickels: 4\n",
      "Pennies: 6\n",
      "\n",
      "The total value of your change is$ 1.81\n"
     ]
    }
   ],
   "source": [
    "main()"
   ]
  },
  {
   "cell_type": "markdown",
   "id": "e94c55e6",
   "metadata": {},
   "source": [
    "Whole numbers are stored as ***integer*** data types whilst numbers that are part fractional are stored as ***float*** data types"
   ]
  },
  {
   "cell_type": "code",
   "execution_count": 8,
   "id": "c6591c1b",
   "metadata": {},
   "outputs": [
    {
     "name": "stdout",
     "output_type": "stream",
     "text": [
      "<class 'int'>\n",
      "<class 'float'>\n"
     ]
    }
   ],
   "source": [
    "# Example Below\n",
    "num1 = 4\n",
    "num2 = .34\n",
    "print(type(num1)) \n",
    "print(type(num2))"
   ]
  },
  {
   "cell_type": "markdown",
   "id": "823c3ff9",
   "metadata": {},
   "source": [
    "### Operators for numbers\n",
    "'+' addition <br />\n",
    "'-' subtraction <br />\n",
    "'*' multiplication <br />\n",
    "'/' division <br />\n",
    "'**' exponentiation <br />\n",
    "ABS() absolute value <br />\n",
    "'//' integer division <br />\n",
    "'%' remainder"
   ]
  },
  {
   "cell_type": "markdown",
   "id": "9c531577",
   "metadata": {},
   "source": [
    "## 3.2 Type Conversions and Rounding"
   ]
  },
  {
   "cell_type": "markdown",
   "id": "a22afac5",
   "metadata": {},
   "source": [
    "When using a float and an int in an expression, Python will automatically make the int a float and the result will be a float as well."
   ]
  },
  {
   "cell_type": "code",
   "execution_count": 9,
   "id": "5555d475",
   "metadata": {},
   "outputs": [
    {
     "data": {
      "text/plain": [
       "9.0"
      ]
     },
     "execution_count": 9,
     "metadata": {},
     "output_type": "execute_result"
    }
   ],
   "source": [
    "3.0 * 3 # Will give a float result"
   ]
  },
  {
   "cell_type": "markdown",
   "id": "bd69726d",
   "metadata": {},
   "source": [
    "We can perform type conversions ourselves however"
   ]
  },
  {
   "cell_type": "code",
   "execution_count": 11,
   "id": "cdbf4858",
   "metadata": {},
   "outputs": [
    {
     "data": {
      "text/plain": [
       "25"
      ]
     },
     "execution_count": 11,
     "metadata": {},
     "output_type": "execute_result"
    }
   ],
   "source": [
    "int(5.0) * 5 # Since the first number was explicitly converted the result is an int"
   ]
  },
  {
   "cell_type": "markdown",
   "id": "1ff93b1b",
   "metadata": {},
   "source": [
    "We can also round off numbers using the round() function"
   ]
  },
  {
   "cell_type": "code",
   "execution_count": 12,
   "id": "d4cda36a",
   "metadata": {},
   "outputs": [
    {
     "data": {
      "text/plain": [
       "5"
      ]
     },
     "execution_count": 12,
     "metadata": {},
     "output_type": "execute_result"
    }
   ],
   "source": [
    "round(4.98)"
   ]
  },
  {
   "cell_type": "code",
   "execution_count": 14,
   "id": "978a8df5",
   "metadata": {},
   "outputs": [
    {
     "data": {
      "text/plain": [
       "4.99"
      ]
     },
     "execution_count": 14,
     "metadata": {},
     "output_type": "execute_result"
    }
   ],
   "source": [
    "round(4.98976563,2) # the second paramters tells python how many decimals to round to"
   ]
  },
  {
   "cell_type": "markdown",
   "id": "15b13be1",
   "metadata": {},
   "source": [
    "We Can also convert strings into floats or ints"
   ]
  },
  {
   "cell_type": "code",
   "execution_count": 15,
   "id": "81d398a5",
   "metadata": {},
   "outputs": [
    {
     "data": {
      "text/plain": [
       "9"
      ]
     },
     "execution_count": 15,
     "metadata": {},
     "output_type": "execute_result"
    }
   ],
   "source": [
    "int('9')"
   ]
  },
  {
   "cell_type": "code",
   "execution_count": 16,
   "id": "71ac195d",
   "metadata": {},
   "outputs": [
    {
     "data": {
      "text/plain": [
       "9.23"
      ]
     },
     "execution_count": 16,
     "metadata": {},
     "output_type": "execute_result"
    }
   ],
   "source": [
    "float('9.23')"
   ]
  },
  {
   "cell_type": "code",
   "execution_count": 17,
   "id": "d7a9b907",
   "metadata": {},
   "outputs": [],
   "source": [
    "# change2.py\n",
    "#   A program to calculate the value of some change in dollars\n",
    "#   This version avoids the eval function\n",
    "\n",
    "def main():\n",
    "    print(\"Change Counter\")\n",
    "    print()\n",
    "    print(\"Please enter the count of each coin type.\")\n",
    "    quarters = int(input(\"Quarters: \"))\n",
    "    dimes = int(input(\"Dimes: \"))\n",
    "    nickels = int(input(\"Nickels: \"))\n",
    "    pennies = int(input(\"Pennies: \"))\n",
    "    total = .25*quarters + .10*dimes + .05*nickels + .01*pennies\n",
    "    print()\n",
    "    print(\"The total value of your change is\", total)"
   ]
  },
  {
   "cell_type": "markdown",
   "id": "b8c9edd2",
   "metadata": {},
   "source": [
    "Using the int conversion here is safer than eval as it only allows the exact data type we'd like and also helps protect against code injection. <br />\n",
    "The only downside to not using eval is we can't do simultaneous input anymore"
   ]
  },
  {
   "cell_type": "code",
   "execution_count": 19,
   "id": "a8561052",
   "metadata": {},
   "outputs": [
    {
     "name": "stdout",
     "output_type": "stream",
     "text": [
      "Enter (x,y): 2,3\n",
      "2 3\n"
     ]
    }
   ],
   "source": [
    "x,y = eval(input(\"Enter (x,y): \"))\n",
    "print(x,y)"
   ]
  },
  {
   "cell_type": "code",
   "execution_count": 20,
   "id": "eb4b64e5",
   "metadata": {},
   "outputs": [
    {
     "name": "stdout",
     "output_type": "stream",
     "text": [
      "Enter (x,y): 1,2\n"
     ]
    },
    {
     "ename": "ValueError",
     "evalue": "invalid literal for int() with base 10: '1,2'",
     "output_type": "error",
     "traceback": [
      "\u001b[1;31m---------------------------------------------------------------------------\u001b[0m",
      "\u001b[1;31mValueError\u001b[0m                                Traceback (most recent call last)",
      "\u001b[1;32m~\\AppData\\Local\\Temp\\ipykernel_18612\\4092938170.py\u001b[0m in \u001b[0;36m<module>\u001b[1;34m\u001b[0m\n\u001b[1;32m----> 1\u001b[1;33m \u001b[0mx\u001b[0m\u001b[1;33m,\u001b[0m\u001b[0my\u001b[0m \u001b[1;33m=\u001b[0m \u001b[0mint\u001b[0m\u001b[1;33m(\u001b[0m\u001b[0minput\u001b[0m\u001b[1;33m(\u001b[0m\u001b[1;34m\"Enter (x,y): \"\u001b[0m\u001b[1;33m)\u001b[0m\u001b[1;33m)\u001b[0m\u001b[1;33m\u001b[0m\u001b[1;33m\u001b[0m\u001b[0m\n\u001b[0m\u001b[0;32m      2\u001b[0m \u001b[0mprint\u001b[0m\u001b[1;33m(\u001b[0m\u001b[0mx\u001b[0m\u001b[1;33m,\u001b[0m\u001b[0my\u001b[0m\u001b[1;33m)\u001b[0m\u001b[1;33m\u001b[0m\u001b[1;33m\u001b[0m\u001b[0m\n",
      "\u001b[1;31mValueError\u001b[0m: invalid literal for int() with base 10: '1,2'"
     ]
    }
   ],
   "source": [
    "x,y = int(input(\"Enter (x,y): \")) # We will get an error like below\n",
    "print(x,y)"
   ]
  },
  {
   "cell_type": "markdown",
   "id": "007d9a67",
   "metadata": {},
   "source": [
    "## 3.3 Using the Math Library"
   ]
  },
  {
   "cell_type": "code",
   "execution_count": 21,
   "id": "d122e625",
   "metadata": {},
   "outputs": [],
   "source": [
    "# quadratic.py\n",
    "#    A program that computes the real roots of a quadratic equation.\n",
    "#    Illustrates use of the math library.\n",
    "#    Note: this program crashes if the equation has no real roots.\n",
    "\n",
    "import math  # Makes the math library available.\n",
    "\n",
    "def main():\n",
    "    print(\"This program finds the real solutions to a quadratic\")\n",
    "    print()\n",
    "\n",
    "    a = float(input(\"Enter coefficient a: \"))\n",
    "    b = float(input(\"Enter coefficient b: \"))\n",
    "    c = float(input(\"Enter coefficient c: \"))\n",
    "\n",
    "    discRoot = math.sqrt(b * b - 4 * a * c)\n",
    "    root1 = (-b + discRoot) / (2 * a)\n",
    "    root2 = (-b - discRoot) / (2 * a)\n",
    "\n",
    "    print()\n",
    "    print(\"The solutions are:\", root1, root2 )"
   ]
  },
  {
   "cell_type": "code",
   "execution_count": 22,
   "id": "7e939627",
   "metadata": {},
   "outputs": [
    {
     "name": "stdout",
     "output_type": "stream",
     "text": [
      "This program finds the real solutions to a quadratic\n",
      "\n",
      "Enter coefficient a: 3\n",
      "Enter coefficient b: 4\n",
      "Enter coefficient c: -2\n",
      "\n",
      "The solutions are: 0.38742588672279316 -1.7207592200561266\n"
     ]
    }
   ],
   "source": [
    "main()"
   ]
  },
  {
   "cell_type": "markdown",
   "id": "8cc954a0",
   "metadata": {},
   "source": [
    "[Complete Math Library](https://docs.python.org/3/library/math.html)"
   ]
  },
  {
   "cell_type": "code",
   "execution_count": 24,
   "id": "ea4a3729",
   "metadata": {},
   "outputs": [
    {
     "data": {
      "text/plain": [
       "5.0"
      ]
     },
     "execution_count": 24,
     "metadata": {},
     "output_type": "execute_result"
    }
   ],
   "source": [
    "# Note, we can also find the square root using the exponent \n",
    "25**.5"
   ]
  },
  {
   "cell_type": "markdown",
   "id": "44942d89",
   "metadata": {},
   "source": [
    "## 3.4 Accumulating Results: Factorals"
   ]
  },
  {
   "cell_type": "code",
   "execution_count": 25,
   "id": "cae98cc5",
   "metadata": {},
   "outputs": [],
   "source": [
    "def main():\n",
    "    n = int(input(\"Please enter a whole number: \"))\n",
    "    fact = 1\n",
    "    for factor in range(n,1,-1):\n",
    "        fact = fact * factor\n",
    "    print(\"The factorial of\", n, \"is\", fact)"
   ]
  },
  {
   "cell_type": "code",
   "execution_count": 26,
   "id": "487631b2",
   "metadata": {},
   "outputs": [
    {
     "name": "stdout",
     "output_type": "stream",
     "text": [
      "Please enter a whole number: 6\n",
      "The factorial of 6 is 720\n"
     ]
    }
   ],
   "source": [
    "main()"
   ]
  },
  {
   "cell_type": "markdown",
   "id": "570f024c",
   "metadata": {},
   "source": [
    "The range function is reversed with the third parameter -1, so it starts at n (in this case) 6 and goes up to but not including 1."
   ]
  },
  {
   "cell_type": "markdown",
   "id": "a510d6eb",
   "metadata": {},
   "source": [
    "## 3.6 Chapter Summary"
   ]
  },
  {
   "cell_type": "markdown",
   "id": "69062323",
   "metadata": {},
   "source": [
    "Both ints and floats are represented on the underlying computer using a fixed-length sequence of bits. THis imposes certain limits on these representations. Hardware ints must be in the range -2^31 (2^31-1) on a 32 bit machine. Floats have a finite amount of percision and cannot represent most numbers exactly. <br /> <br />\n",
    "Python's int data type may be used to store whole numbers of arbitrary size. Int values are automatically converted to longer representations when they become to large for the underlying hardware int. Calculations involving these long ints are less efficient than those that use only small ints"
   ]
  },
  {
   "cell_type": "markdown",
   "id": "35386968",
   "metadata": {},
   "source": [
    "# Programming Exercises"
   ]
  },
  {
   "cell_type": "markdown",
   "id": "3205fa31",
   "metadata": {},
   "source": [
    "## 1"
   ]
  },
  {
   "cell_type": "code",
   "execution_count": 30,
   "id": "c5c73484",
   "metadata": {},
   "outputs": [],
   "source": [
    "def sphere(radius):\n",
    "    \n",
    "    v = (4/3) * math.pi * radius**3\n",
    "    a = 4 * math.pi * radius**2\n",
    "    \n",
    "    print(f\"THe Volume of this sphere is {round(v,2)} and the surface area is {round(a,2)}\")"
   ]
  },
  {
   "cell_type": "code",
   "execution_count": 31,
   "id": "a8644254",
   "metadata": {},
   "outputs": [
    {
     "name": "stdout",
     "output_type": "stream",
     "text": [
      "THe Volume of this sphere is 268.08 and the surface area is 201.06\n"
     ]
    }
   ],
   "source": [
    "sphere(4)"
   ]
  },
  {
   "cell_type": "markdown",
   "id": "90cf541d",
   "metadata": {},
   "source": [
    "## 2"
   ]
  },
  {
   "cell_type": "code",
   "execution_count": 52,
   "id": "62b07a9e",
   "metadata": {},
   "outputs": [],
   "source": [
    "def pizza_price():\n",
    "    print(\"This program will calculate the cost per square inch of a pizza\")\n",
    "    \n",
    "    diameter = float(input(\"What is the diameter of the pizza? (in inches) \"))\n",
    "    cost = float(input(\"What is the cost of the pizza? (in dollars) \"))\n",
    "    \n",
    "    area = math.pi * (diameter/2)**2\n",
    "    \n",
    "    cost_per_inch = area/cost\n",
    "    \n",
    "    print(f\"The cost per square inch for your pizza is ${round(cost_per_inch,2)}\")"
   ]
  },
  {
   "cell_type": "code",
   "execution_count": 53,
   "id": "1cbbb1ec",
   "metadata": {},
   "outputs": [
    {
     "name": "stdout",
     "output_type": "stream",
     "text": [
      "This program will calculate the cost per square inch of a pizza\n",
      "What is the diameter of the pizza? (in inches) 5\n",
      "What is the cost of the pizza? (in dollars) 20\n",
      "The cost per square inch for your pizza is $0.98\n"
     ]
    }
   ],
   "source": [
    "pizza_price()"
   ]
  },
  {
   "cell_type": "markdown",
   "id": "4e98cd1a",
   "metadata": {},
   "source": [
    "## 3"
   ]
  },
  {
   "cell_type": "code",
   "execution_count": 58,
   "id": "52c7fd85",
   "metadata": {},
   "outputs": [],
   "source": [
    "def molecular_weight_carbs():\n",
    "    print(\"This program will calculate the molecular weight of a Carbohydrate\")\n",
    "    \n",
    "    hydrogen = float(input(\"How many Hydrogen atoms are there? \"))\n",
    "    carbon = float(input(\"How many Carbon atoms are there? \"))\n",
    "    oxygen = float(input(\"How many Oxygen atoms are there? \"))\n",
    "    \n",
    "    result =  (hydrogen * 1.00794) + (carbon * 12.0107) + (oxygen * 15.9994)\n",
    "    \n",
    "    print(f\"The Molecular weight was {round(result,4)} grams per mole\")"
   ]
  },
  {
   "cell_type": "code",
   "execution_count": 59,
   "id": "9c2713e7",
   "metadata": {},
   "outputs": [
    {
     "name": "stdout",
     "output_type": "stream",
     "text": [
      "This program will calculate the molecular weight of a Carbohydrate\n",
      "How many Hydrogen atoms are there? 4\n",
      "How many Carbon atoms are there? 3\n",
      "How many Oxygen atoms are there? 2\n",
      "The Molecular weight was 72.0627 grams per mole\n"
     ]
    }
   ],
   "source": [
    "molecular_weight_carbs()"
   ]
  },
  {
   "cell_type": "markdown",
   "id": "2b941baa",
   "metadata": {},
   "source": [
    "## 4"
   ]
  },
  {
   "cell_type": "code",
   "execution_count": 64,
   "id": "1ae13256",
   "metadata": {},
   "outputs": [],
   "source": [
    "def lightning_distance(sound_seconds):\n",
    "    '''\n",
    "    Finds the distance of a lightning strike based on seconds it took to hear the resulting thunder\n",
    "    '''\n",
    "    \n",
    "    distance_miles = (1100*sound_seconds) / 5280\n",
    "    \n",
    "    print(f\"It took {sound_seconds} for the thunder to be heard, so the lightning was {round(distance_miles,2)} miles away\")\n",
    "    "
   ]
  },
  {
   "cell_type": "code",
   "execution_count": 65,
   "id": "364d8858",
   "metadata": {},
   "outputs": [
    {
     "name": "stdout",
     "output_type": "stream",
     "text": [
      "It took 20 for the thunder to be heard, so the lightning was 4.17 miles away\n"
     ]
    }
   ],
   "source": [
    "lightning_distance(20)"
   ]
  },
  {
   "cell_type": "markdown",
   "id": "0bcce5a4",
   "metadata": {},
   "source": [
    "## 5"
   ]
  },
  {
   "cell_type": "code",
   "execution_count": 69,
   "id": "739ba865",
   "metadata": {},
   "outputs": [],
   "source": [
    "def coffee_order(pounds_coffee):\n",
    "    '''\n",
    "    Calculates the total cost of a order of coffee\n",
    "    '''\n",
    "    \n",
    "    coffee_cost = pounds_coffee * 10.50\n",
    "    shipping_cost = (pounds_coffee * .86) + 1.50\n",
    "    total = coffee_cost + shipping_cost\n",
    "    \n",
    "    print(f\"The total cost is ${total} the coffee costs ${coffee_cost} and the shipping costs ${shipping_cost}\")"
   ]
  },
  {
   "cell_type": "code",
   "execution_count": 70,
   "id": "3e09264c",
   "metadata": {},
   "outputs": [
    {
     "name": "stdout",
     "output_type": "stream",
     "text": [
      "The total cost is $228.7 the coffee costs $210.0 and the shipping costs $18.7\n"
     ]
    }
   ],
   "source": [
    "coffee_order(20)"
   ]
  },
  {
   "cell_type": "markdown",
   "id": "da6eac12",
   "metadata": {},
   "source": [
    "## 6"
   ]
  },
  {
   "cell_type": "code",
   "execution_count": 72,
   "id": "513e1390",
   "metadata": {},
   "outputs": [],
   "source": [
    "def slope():\n",
    "    print(\"This program will calculate the slope given (x1,y2) and (x2,y2)\")\n",
    "    x1,y1 = eval(input(\"Give coordinates x1,y1 separated by a comma: \"))\n",
    "    x2,y2 = eval(input(\"Give coordinates x2,x2 separated by a comma: \"))\n",
    "    \n",
    "    slope = (y2-y1) / (x2-x1)\n",
    "    \n",
    "    print(f\"The slope of this line is {slope}\")"
   ]
  },
  {
   "cell_type": "code",
   "execution_count": 74,
   "id": "0d659c24",
   "metadata": {},
   "outputs": [
    {
     "name": "stdout",
     "output_type": "stream",
     "text": [
      "This program will calculate the slope given (x1,y2) and (x2,y2)\n",
      "Give coordinates x1,y1 separated by a comma: 2,5\n",
      "Give coordinates x2,x2 separated by a comma: 7,9\n",
      "The slope of this line is 0.8\n"
     ]
    }
   ],
   "source": [
    "slope()"
   ]
  },
  {
   "cell_type": "markdown",
   "id": "eaf1a610",
   "metadata": {},
   "source": [
    "## 7"
   ]
  },
  {
   "cell_type": "code",
   "execution_count": 78,
   "id": "06404c56",
   "metadata": {},
   "outputs": [],
   "source": [
    "def distance():\n",
    "    print(\"This program will calculate the distance b/w two coordinates (x1,y2) and (x2,y2)\")\n",
    "    x1,y1 = eval(input(\"Give coordinates x1,y1 separated by a comma: \"))\n",
    "    x2,y2 = eval(input(\"Give coordinates x2,x2 separated by a comma: \"))\n",
    "    \n",
    "    corr_distance = math.sqrt((x2-x1)**2 + (y2-y1)**2)\n",
    "    \n",
    "    print(f\"The distance b/w these two corrdinates {x1,y1} and {x2,y2} is {round(corr_distance,2)}\")"
   ]
  },
  {
   "cell_type": "code",
   "execution_count": 79,
   "id": "0c0ee0a6",
   "metadata": {},
   "outputs": [
    {
     "name": "stdout",
     "output_type": "stream",
     "text": [
      "This program will calculate the distance b/w two coordinates (x1,y2) and (x2,y2)\n",
      "Give coordinates x1,y1 separated by a comma: 2,4\n",
      "Give coordinates x2,x2 separated by a comma: 6,9\n",
      "The distance b/w these two corrdinates (2, 4) and (6, 9) is 6.4\n"
     ]
    }
   ],
   "source": [
    "distance()"
   ]
  },
  {
   "cell_type": "markdown",
   "id": "5d0b2a1c",
   "metadata": {},
   "source": [
    "## 8"
   ]
  },
  {
   "cell_type": "code",
   "execution_count": 81,
   "id": "7f76c405",
   "metadata": {},
   "outputs": [
    {
     "data": {
      "text/plain": [
       "1"
      ]
     },
     "execution_count": 81,
     "metadata": {},
     "output_type": "execute_result"
    }
   ],
   "source": [
    "5//3"
   ]
  },
  {
   "cell_type": "code",
   "execution_count": 83,
   "id": "c79c27ca",
   "metadata": {},
   "outputs": [],
   "source": [
    "def epact():\n",
    "    print(\"This program calculates the number of days b/w Jan 1st and the previous new moon; which determies Easter\")\n",
    "    \n",
    "    year = int(input(\"Please give a year: \"))\n",
    "    \n",
    "    c = year // 100\n",
    "    epact_value = (8 + (c // 4) - c + ((8*c + 13) // 25) +11 * (year % 19)) % 30\n",
    "    \n",
    "    print(f\"The epact value is {round(epact_value,2)}\")"
   ]
  },
  {
   "cell_type": "code",
   "execution_count": 84,
   "id": "cb665bb6",
   "metadata": {},
   "outputs": [
    {
     "name": "stdout",
     "output_type": "stream",
     "text": [
      "This program calculates the number of days b/w Jan 1st and the previous new moon; which determies Easter\n",
      "Please give a year: 1994\n",
      "The epact value is 17\n"
     ]
    }
   ],
   "source": [
    "epact()"
   ]
  },
  {
   "cell_type": "markdown",
   "id": "bd666b7f",
   "metadata": {},
   "source": [
    "## 9"
   ]
  },
  {
   "cell_type": "code",
   "execution_count": 90,
   "id": "a67e25fd",
   "metadata": {},
   "outputs": [],
   "source": [
    "def area_triangle(a,b,c):\n",
    "    \"\"\"\n",
    "    Calculates the area of a triangle given sides a,b,c\n",
    "    \"\"\"\n",
    "    \n",
    "    s = (a + b + c) / 2\n",
    "    \n",
    "    area = math.sqrt(s * (s - a) * (s - b) * (s - c))\n",
    "    \n",
    "    print(f\"The area given sides a:{a}, b:{b}, and c:{c} is {round(area,2)}\")"
   ]
  },
  {
   "cell_type": "code",
   "execution_count": 100,
   "id": "c564a2ae",
   "metadata": {},
   "outputs": [
    {
     "name": "stdout",
     "output_type": "stream",
     "text": [
      "The area given sides a:5, b:4, and c:7 is 9.8\n"
     ]
    }
   ],
   "source": [
    "area_triangle(5,4,7)"
   ]
  },
  {
   "cell_type": "markdown",
   "id": "ac944bcb",
   "metadata": {},
   "source": [
    "## 10"
   ]
  },
  {
   "cell_type": "code",
   "execution_count": 109,
   "id": "ee8b7dde",
   "metadata": {},
   "outputs": [],
   "source": [
    "def length_ladder(height,angle):\n",
    "    \"\"\"\n",
    "    Calculates the length of a ladder required to reach a height when leaned against a house\n",
    "    \"\"\"\n",
    "    \n",
    "    radians_angle = (math.pi * angle) / 180\n",
    "    length = height / math.sin(radians_angle)\n",
    "    \n",
    "    print(f\"The length required for a height of {height}ft is {round(length,2)}ft\")"
   ]
  },
  {
   "cell_type": "code",
   "execution_count": 110,
   "id": "35957325",
   "metadata": {},
   "outputs": [
    {
     "name": "stdout",
     "output_type": "stream",
     "text": [
      "The length required for a height of 10ft is 11.55ft\n"
     ]
    }
   ],
   "source": [
    "length_ladder(10,60)"
   ]
  },
  {
   "cell_type": "markdown",
   "id": "7263bee4",
   "metadata": {},
   "source": [
    "## 11"
   ]
  },
  {
   "cell_type": "code",
   "execution_count": 113,
   "id": "0a504a15",
   "metadata": {},
   "outputs": [],
   "source": [
    "def sum_n():\n",
    "    \"\"\"\n",
    "    Calculates the sum of the first n natural numbers\n",
    "    \"\"\"\n",
    "    \n",
    "    n = int(input(\"Please provide a whole number: \"))\n",
    "    total = 0\n",
    "    \n",
    "    for num in range(n+1):\n",
    "        total += num\n",
    "        \n",
    "    print(total)"
   ]
  },
  {
   "cell_type": "code",
   "execution_count": 114,
   "id": "49a0da17",
   "metadata": {},
   "outputs": [
    {
     "name": "stdout",
     "output_type": "stream",
     "text": [
      "Please provide a whole number: 5\n",
      "15\n"
     ]
    }
   ],
   "source": [
    "sum_n()"
   ]
  },
  {
   "cell_type": "markdown",
   "id": "9d168b3f",
   "metadata": {},
   "source": [
    "## 12"
   ]
  },
  {
   "cell_type": "code",
   "execution_count": 116,
   "id": "41e4e59d",
   "metadata": {},
   "outputs": [],
   "source": [
    "def sum_n_cubed():\n",
    "    \"\"\"\n",
    "    Calculates the sum of the cubes of the first n natural numbers\n",
    "    \"\"\"\n",
    "    \n",
    "    n = int(input(\"Please provide a whole number: \"))\n",
    "    total = 0\n",
    "    \n",
    "    for num in range(n+1):\n",
    "        total += num**3\n",
    "        \n",
    "    print(total)"
   ]
  },
  {
   "cell_type": "code",
   "execution_count": 118,
   "id": "c02a6e73",
   "metadata": {},
   "outputs": [
    {
     "name": "stdout",
     "output_type": "stream",
     "text": [
      "Please provide a whole number: 5\n",
      "225\n"
     ]
    }
   ],
   "source": [
    "sum_n_cubed()"
   ]
  },
  {
   "cell_type": "markdown",
   "id": "a2624b1a",
   "metadata": {},
   "source": [
    "## 13"
   ]
  },
  {
   "cell_type": "code",
   "execution_count": 122,
   "id": "b9708fb2",
   "metadata": {},
   "outputs": [],
   "source": [
    "def running_total():\n",
    "    print(\"This program will give the total of n numbers provided \\n\")\n",
    "    total = 0\n",
    "    \n",
    "    n = int(input(\"Please provide a whole number n: \"))\n",
    "    \n",
    "    for i in range(n):\n",
    "        num = float(input(\"Please provide a number: \"))\n",
    "        total += num\n",
    "        print(f\"Total is now {total}\")\n",
    "        print('\\n')"
   ]
  },
  {
   "cell_type": "code",
   "execution_count": 123,
   "id": "8a1db935",
   "metadata": {},
   "outputs": [
    {
     "name": "stdout",
     "output_type": "stream",
     "text": [
      "This program will give the total of n numbers provided \n",
      "\n",
      "Please provide a whole number n: 5\n",
      "Please provide a number1\n",
      "Total is now 1.0\n",
      "\n",
      "\n",
      "Please provide a number2\n",
      "Total is now 3.0\n",
      "\n",
      "\n",
      "Please provide a number3\n",
      "Total is now 6.0\n",
      "\n",
      "\n",
      "Please provide a number4\n",
      "Total is now 10.0\n",
      "\n",
      "\n",
      "Please provide a number5\n",
      "Total is now 15.0\n",
      "\n",
      "\n"
     ]
    }
   ],
   "source": [
    "running_total()"
   ]
  },
  {
   "cell_type": "markdown",
   "id": "1249d2f0",
   "metadata": {},
   "source": [
    "## 14"
   ]
  },
  {
   "cell_type": "code",
   "execution_count": 131,
   "id": "bb51d047",
   "metadata": {},
   "outputs": [],
   "source": [
    "def average():\n",
    "    print(\"This program will give the average of n numbers provided \\n\")\n",
    "    total = 0\n",
    "    \n",
    "    n = int(input(\"Please provide a whole number n: \"))\n",
    "    \n",
    "    for i in range(n):\n",
    "        num = float(input(\"Please provide a number: \"))\n",
    "        total += num\n",
    "    \n",
    "    avg = total / n\n",
    "    \n",
    "    print('\\n')\n",
    "    print(f\"The average was {round(avg,2)}\")"
   ]
  },
  {
   "cell_type": "code",
   "execution_count": 132,
   "id": "5c974133",
   "metadata": {},
   "outputs": [
    {
     "name": "stdout",
     "output_type": "stream",
     "text": [
      "This program will give the average of n numbers provided \n",
      "\n",
      "Please provide a whole number n: 4\n",
      "Please provide a number: 3\n",
      "Please provide a number: 4\n",
      "Please provide a number: 7\n",
      "Please provide a number: 5\n",
      "\n",
      "\n",
      "The average was 4.75\n"
     ]
    }
   ],
   "source": [
    "average()"
   ]
  },
  {
   "cell_type": "markdown",
   "id": "89d0958b",
   "metadata": {},
   "source": [
    "## 15"
   ]
  },
  {
   "cell_type": "code",
   "execution_count": 141,
   "id": "3e461969",
   "metadata": {},
   "outputs": [],
   "source": [
    "def pi_approx(n):\n",
    "    \"\"\"\n",
    "    Approximates pi\n",
    "    \"\"\"\n",
    "    \n",
    "    summation = 4/1\n",
    "    switcher = False\n",
    "    counter = 1\n",
    "    \n",
    "    for num in range(1,n):\n",
    "        if switcher == False:\n",
    "            counter += 2\n",
    "            summation -= 4/(counter)\n",
    "            switcher = True\n",
    "        elif switcher == True:\n",
    "            counter += 2\n",
    "            summation += 4/(counter)\n",
    "            switcher = False\n",
    "            \n",
    "    print(f\"Approximation of pi is {summation} and the difference is {summation-math.pi}\")\n",
    "            \n"
   ]
  },
  {
   "cell_type": "code",
   "execution_count": 142,
   "id": "5ce4d8f0",
   "metadata": {},
   "outputs": [
    {
     "name": "stdout",
     "output_type": "stream",
     "text": [
      "Approximation of pi is 3.136592684838816 and the difference is -0.004999968750976969\n"
     ]
    }
   ],
   "source": [
    "pi_approx(200)"
   ]
  },
  {
   "cell_type": "markdown",
   "id": "c0b79a34",
   "metadata": {},
   "source": [
    "## 16"
   ]
  },
  {
   "cell_type": "code",
   "execution_count": 162,
   "id": "38c1661a",
   "metadata": {},
   "outputs": [],
   "source": [
    "def fibonacci(n):\n",
    "    \n",
    "    prev_num = 1\n",
    "    current_num = 1\n",
    "    total = 0\n",
    "    \n",
    "    for num in range(n-3):\n",
    "        #print(prev_num,current_num)\n",
    "        prev_num, current_num = current_num, prev_num+current_num\n",
    "        \n",
    "    print(prev_num+current_num)"
   ]
  },
  {
   "cell_type": "code",
   "execution_count": 163,
   "id": "5f80e53f",
   "metadata": {},
   "outputs": [
    {
     "name": "stdout",
     "output_type": "stream",
     "text": [
      "6765\n"
     ]
    }
   ],
   "source": [
    "fibonacci(20)"
   ]
  },
  {
   "cell_type": "markdown",
   "id": "da7d289a",
   "metadata": {},
   "source": [
    "## 17"
   ]
  },
  {
   "cell_type": "code",
   "execution_count": 172,
   "id": "d9180fca",
   "metadata": {},
   "outputs": [],
   "source": [
    "def square_approx(n,number):\n",
    "    \n",
    "    guess = number/2\n",
    "    \n",
    "    for num in range(n):\n",
    "        guess = (guess + (number/guess))/2\n",
    "        \n",
    "    print(f\"The approx sqrt is {round(guess,5)} and the difference is {round(guess-math.sqrt(number),5)}\")"
   ]
  },
  {
   "cell_type": "code",
   "execution_count": 173,
   "id": "48524541",
   "metadata": {},
   "outputs": [
    {
     "name": "stdout",
     "output_type": "stream",
     "text": [
      "The approx sqrt is 9.94992 and the difference is 4e-05\n"
     ]
    }
   ],
   "source": [
    "square_approx(5,99)"
   ]
  },
  {
   "cell_type": "markdown",
   "id": "36b79f45",
   "metadata": {},
   "source": [
    "***C'est Fini!***"
   ]
  }
 ],
 "metadata": {
  "kernelspec": {
   "display_name": "Python 3 (ipykernel)",
   "language": "python",
   "name": "python3"
  },
  "language_info": {
   "codemirror_mode": {
    "name": "ipython",
    "version": 3
   },
   "file_extension": ".py",
   "mimetype": "text/x-python",
   "name": "python",
   "nbconvert_exporter": "python",
   "pygments_lexer": "ipython3",
   "version": "3.9.13"
  }
 },
 "nbformat": 4,
 "nbformat_minor": 5
}
