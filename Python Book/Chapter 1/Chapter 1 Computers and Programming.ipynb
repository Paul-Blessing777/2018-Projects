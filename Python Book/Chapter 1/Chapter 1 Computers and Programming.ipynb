{
 "cells": [
  {
   "cell_type": "markdown",
   "id": "e1195795",
   "metadata": {},
   "source": [
    "# Chapter 1: Computers and Programs"
   ]
  },
  {
   "cell_type": "markdown",
   "id": "d92a376d",
   "metadata": {},
   "source": [
    "**Programming Languages:** Languages designed to be unambiguous but readable by humans; they are higher-level or more abstract languages from the lower level machine language, i.e. binary code. <br /> <br />\n",
    "**Compiler:** Complex computer program that takes a high-level language and translates it into an equivalent program in the machine language of the computer <br /> <br />\n",
    "**Interpreter:** A program that simulates a computer and understands a high-level language. e.g. Pycharm, Jupyter"
   ]
  },
  {
   "cell_type": "code",
   "execution_count": 1,
   "id": "e856abc2",
   "metadata": {},
   "outputs": [],
   "source": [
    "# First Function\n",
    "def hello_world():\n",
    "    print(\"Hello World!\")"
   ]
  },
  {
   "cell_type": "code",
   "execution_count": 3,
   "id": "3c6f7723",
   "metadata": {},
   "outputs": [
    {
     "name": "stdout",
     "output_type": "stream",
     "text": [
      "Hello World!\n"
     ]
    }
   ],
   "source": [
    "hello_world() # Call a function by putting () right after it"
   ]
  },
  {
   "cell_type": "code",
   "execution_count": 7,
   "id": "418642fe",
   "metadata": {},
   "outputs": [],
   "source": [
    "def greet(name): # can use \"Parameters\" and allow them to be changed\n",
    "    print(\"Hello \", name)"
   ]
  },
  {
   "cell_type": "code",
   "execution_count": 8,
   "id": "87e4cb77",
   "metadata": {},
   "outputs": [
    {
     "name": "stdout",
     "output_type": "stream",
     "text": [
      "Hello  Aurora\n"
     ]
    }
   ],
   "source": [
    "greet(\"Aurora\")"
   ]
  },
  {
   "cell_type": "code",
   "execution_count": 23,
   "id": "01b55aac",
   "metadata": {},
   "outputs": [],
   "source": [
    "# File: chaos.py\n",
    "# A simple program illustrating chaotic behavior.\n",
    "\n",
    "def main():\n",
    "    while True: # Adding some controls to protect against an invalid number\n",
    "        print(\"This program illustrates a chaotic function\")\n",
    "        x = eval(input(\"Enter a number between 0 and 1: \"))\n",
    "        if x < 1 and x > 0: \n",
    "            for i in range(10):\n",
    "                x = 3.9 * x * (1 - x)\n",
    "                print(x)\n",
    "            break\n",
    "            "
   ]
  },
  {
   "cell_type": "code",
   "execution_count": 15,
   "id": "d91e37f7",
   "metadata": {},
   "outputs": [
    {
     "name": "stdout",
     "output_type": "stream",
     "text": [
      "This program illustrates a chaotic function\n",
      "Enter a number between 0 and 1: .25\n",
      "0.73125\n",
      "0.76644140625\n",
      "0.6981350104385375\n",
      "0.8218958187902304\n",
      "0.5708940191969317\n",
      "0.9553987483642099\n",
      "0.166186721954413\n",
      "0.5404179120617926\n",
      "0.9686289302998042\n",
      "0.11850901017563877\n"
     ]
    }
   ],
   "source": [
    "main()"
   ]
  },
  {
   "cell_type": "code",
   "execution_count": 16,
   "id": "cc63ac5d",
   "metadata": {},
   "outputs": [],
   "source": [
    "# Comments are made with the pound sign and are ignored by python but help human readers"
   ]
  },
  {
   "cell_type": "markdown",
   "id": "e3f5350a",
   "metadata": {},
   "source": [
    "## 1.7 Inside a Python Program"
   ]
  },
  {
   "cell_type": "markdown",
   "id": "30de48d7",
   "metadata": {},
   "source": [
    "**Variable:** Used to give a name to a value so that we can refer to it at other points in the program <br />\n",
    "**Loop:** Device that tells python to do the same thing over and over again"
   ]
  },
  {
   "cell_type": "markdown",
   "id": "585e28bb",
   "metadata": {},
   "source": [
    "## 1.8 Chaos and Computers"
   ]
  },
  {
   "cell_type": "code",
   "execution_count": 17,
   "id": "a1eee38a",
   "metadata": {},
   "outputs": [
    {
     "name": "stdout",
     "output_type": "stream",
     "text": [
      "This program illustrates a chaotic function\n",
      "Enter a number between 0 and 1: .26\n",
      "0.75036\n",
      "0.73054749456\n",
      "0.7677066257332165\n",
      "0.6954993339002887\n",
      "0.8259420407337192\n",
      "0.5606709657211202\n",
      "0.9606442322820199\n",
      "0.14744687593470315\n",
      "0.49025454937601765\n",
      "0.9746296021493285\n"
     ]
    }
   ],
   "source": [
    "main()"
   ]
  },
  {
   "cell_type": "markdown",
   "id": "be87d695",
   "metadata": {},
   "source": [
    "We see that the results of this vs .25 start quite similarly but then end up divigating quite a bit"
   ]
  },
  {
   "cell_type": "markdown",
   "id": "2dbe2559",
   "metadata": {},
   "source": [
    "Python is an interpreted language and not compiled; meaning it compiles and runs the code without storing the machine code being created in a form that you can easily use."
   ]
  },
  {
   "cell_type": "markdown",
   "id": "5a7d5008",
   "metadata": {},
   "source": [
    "# Exercises"
   ]
  },
  {
   "cell_type": "markdown",
   "id": "eaa6d398",
   "metadata": {},
   "source": [
    "### 1"
   ]
  },
  {
   "cell_type": "code",
   "execution_count": 19,
   "id": "795b5536",
   "metadata": {},
   "outputs": [
    {
     "name": "stdout",
     "output_type": "stream",
     "text": [
      "Hello, World!\n",
      "Hello world\n",
      "3\n",
      "3.0\n",
      "5\n",
      "23\n",
      "2+3= 5\n",
      "6\n",
      "8\n",
      "2.3333333333333335\n",
      "2\n"
     ]
    }
   ],
   "source": [
    "print(\"Hello, World!\")\n",
    "print(\"Hello\", \"world\")\n",
    "print(3)\n",
    "print(3.0)\n",
    "print(2+3)\n",
    "print('2' + '3')\n",
    "print(\"2+3=\", 2+3)\n",
    "print(2*3)\n",
    "print(2**3)\n",
    "print(7/3)\n",
    "print(7//3) # Floor division, 3 goes into 7 twice (remainder ignored)"
   ]
  },
  {
   "cell_type": "markdown",
   "id": "e1ef88cd",
   "metadata": {},
   "source": [
    "### 2"
   ]
  },
  {
   "cell_type": "code",
   "execution_count": 20,
   "id": "61a92fed",
   "metadata": {},
   "outputs": [
    {
     "name": "stdout",
     "output_type": "stream",
     "text": [
      "This program illustrates a chaotic function\n",
      "Enter a number between 0 and 1: .00000001\n",
      "3.8999999609999997e-08\n",
      "1.520999925471001e-07\n",
      "5.931898807095002e-07\n",
      "2.3134391624575364e-06\n",
      "9.022391860781434e-06\n",
      "3.518701078318353e-05\n",
      "0.00013722451336407713\n",
      "0.0005351021629083357\n",
      "0.0020857817314759875\n",
      "0.00811758185957405\n"
     ]
    }
   ],
   "source": [
    "main()"
   ]
  },
  {
   "cell_type": "markdown",
   "id": "399e26fc",
   "metadata": {},
   "source": [
    "### 3"
   ]
  },
  {
   "cell_type": "code",
   "execution_count": 22,
   "id": "0306841a",
   "metadata": {},
   "outputs": [],
   "source": [
    "# File: chaos.py\n",
    "# A simple program illustrating chaotic behavior.\n",
    "\n",
    "def main2():\n",
    "    while True: # Adding some controls to protect against an invalid number\n",
    "        print(\"This program illustrates a chaotic function\")\n",
    "        x = eval(input(\"Enter a number between 0 and 1: \"))\n",
    "        if x < 1 and x > 0: \n",
    "            for i in range(10):\n",
    "                x = 2.0 * x * (1 - x)\n",
    "                print(x)\n",
    "            break"
   ]
  },
  {
   "cell_type": "code",
   "execution_count": 24,
   "id": "d7033f57",
   "metadata": {},
   "outputs": [
    {
     "name": "stdout",
     "output_type": "stream",
     "text": [
      "This program illustrates a chaotic function\n",
      "Enter a number between 0 and 1: .356\n",
      "0.8941296\n",
      "0.3691812477749761\n",
      "0.9082571708585224\n",
      "0.3249717215261214\n",
      "0.8555238967644346\n",
      "0.48205075943478337\n",
      "0.9737435165762147\n",
      "0.09971161395780691\n",
      "0.35009991119897116\n",
      "0.8873668571720303\n"
     ]
    }
   ],
   "source": [
    "main()"
   ]
  },
  {
   "cell_type": "code",
   "execution_count": 25,
   "id": "493f1328",
   "metadata": {},
   "outputs": [
    {
     "name": "stdout",
     "output_type": "stream",
     "text": [
      "This program illustrates a chaotic function\n",
      "Enter a number between 0 and 1: .356\n",
      "0.458528\n",
      "0.49656014643199997\n",
      "0.4999763348148614\n",
      "0.4999999988799181\n",
      "0.5\n",
      "0.5\n",
      "0.5\n",
      "0.5\n",
      "0.5\n",
      "0.5\n"
     ]
    }
   ],
   "source": [
    "main2()"
   ]
  },
  {
   "cell_type": "markdown",
   "id": "0b07e21e",
   "metadata": {},
   "source": [
    "### 4"
   ]
  },
  {
   "cell_type": "code",
   "execution_count": 26,
   "id": "e1e4c2e0",
   "metadata": {},
   "outputs": [],
   "source": [
    "# File: chaos.py\n",
    "# A simple program illustrating chaotic behavior.\n",
    "\n",
    "def main3():\n",
    "    while True: # Adding some controls to protect against an invalid number\n",
    "        print(\"This program illustrates a chaotic function\")\n",
    "        x = eval(input(\"Enter a number between 0 and 1: \"))\n",
    "        if x < 1 and x > 0: \n",
    "            for i in range(20):\n",
    "                x = 2.0 * x * (1 - x)\n",
    "                print(x)\n",
    "            break"
   ]
  },
  {
   "cell_type": "code",
   "execution_count": 27,
   "id": "0f12c66a",
   "metadata": {},
   "outputs": [
    {
     "name": "stdout",
     "output_type": "stream",
     "text": [
      "This program illustrates a chaotic function\n",
      "Enter a number between 0 and 1: .12\n",
      "0.2112\n",
      "0.33318911999999995\n",
      "0.4443482606272512\n",
      "0.4938057678095753\n",
      "0.4999232629751422\n",
      "0.499999988222858\n",
      "0.49999999999999967\n",
      "0.5\n",
      "0.5\n",
      "0.5\n",
      "0.5\n",
      "0.5\n",
      "0.5\n",
      "0.5\n",
      "0.5\n",
      "0.5\n",
      "0.5\n",
      "0.5\n",
      "0.5\n",
      "0.5\n"
     ]
    }
   ],
   "source": [
    "main3()"
   ]
  },
  {
   "cell_type": "markdown",
   "id": "f9b44be8",
   "metadata": {},
   "source": [
    "### 5"
   ]
  },
  {
   "cell_type": "code",
   "execution_count": 30,
   "id": "14edfc72",
   "metadata": {},
   "outputs": [],
   "source": [
    "# File: chaos.py\n",
    "# A simple program illustrating chaotic behavior.\n",
    "\n",
    "def main4():\n",
    "    n = eval(input(\"How many numbers should I print? \"))\n",
    "    while True: # Adding some controls to protect against an invalid number\n",
    "        print(\"This program illustrates a chaotic function\")\n",
    "        x = eval(input(\"Enter a number between 0 and 1: \"))\n",
    "        if x < 1 and x > 0: \n",
    "            for i in range(n):\n",
    "                x = 2.0 * x * (1 - x)\n",
    "                print(x)\n",
    "            break"
   ]
  },
  {
   "cell_type": "code",
   "execution_count": 31,
   "id": "28e03408",
   "metadata": {},
   "outputs": [
    {
     "name": "stdout",
     "output_type": "stream",
     "text": [
      "How many numbers should I print? 5\n",
      "This program illustrates a chaotic function\n",
      "Enter a number between 0 and 1: .22\n",
      "0.3432\n",
      "0.45082752000000004\n",
      "0.4951641344212992\n",
      "0.4999532288082095\n",
      "0.4999999956249112\n"
     ]
    }
   ],
   "source": [
    "main4()"
   ]
  },
  {
   "cell_type": "markdown",
   "id": "418e2262",
   "metadata": {},
   "source": [
    "### 7"
   ]
  },
  {
   "cell_type": "code",
   "execution_count": 46,
   "id": "c9e1cbad",
   "metadata": {},
   "outputs": [],
   "source": [
    "# File: chaos.py\n",
    "# A simple program illustrating chaotic behavior.\n",
    "\n",
    "def main():\n",
    "    print(\"This program illustrates a chaotic function\")\n",
    "    x = eval(input(\"Enter a number between 0 and 1: \"))\n",
    "    y = eval(input(\"Enter a number between 0 and 1: \"))\n",
    "    print(f\"Input:   {x}      ||      {y}\")\n",
    "    print(\"------------------------------\")\n",
    "    for i in range(10):\n",
    "        x = 3.9 * x * (1 - x)\n",
    "        y = 3.9 * y * (1 - y)\n",
    "        print(x,\" \", y)\n"
   ]
  },
  {
   "cell_type": "code",
   "execution_count": 47,
   "id": "0c61ac5d",
   "metadata": {},
   "outputs": [
    {
     "name": "stdout",
     "output_type": "stream",
     "text": [
      "This program illustrates a chaotic function\n",
      "Enter a number between 0 and 1: .22\n",
      "Enter a number between 0 and 1: .23\n",
      "Input:   0.22      ||      0.23\n",
      "------------------------------\n",
      "0.6692400000000001   0.69069\n",
      "0.8632955073599998   0.8331855632099999\n",
      "0.4602638598949572   0.5420507838268971\n",
      "0.9688420527612543   0.9681037531602199\n",
      "0.11772980529419146   0.12042761748153206\n",
      "0.4050910431343746   0.41310674507409\n",
      "0.9398699306360475   0.9455532927686853\n",
      "0.22040633207673113   0.20078082688163068\n",
      "0.6701267853431301   0.6258247571096014\n",
      "0.8621218199443689   0.9132557089434082\n"
     ]
    }
   ],
   "source": [
    "main()"
   ]
  },
  {
   "cell_type": "code",
   "execution_count": null,
   "id": "634d4b86",
   "metadata": {},
   "outputs": [],
   "source": []
  }
 ],
 "metadata": {
  "kernelspec": {
   "display_name": "Python 3 (ipykernel)",
   "language": "python",
   "name": "python3"
  },
  "language_info": {
   "codemirror_mode": {
    "name": "ipython",
    "version": 3
   },
   "file_extension": ".py",
   "mimetype": "text/x-python",
   "name": "python",
   "nbconvert_exporter": "python",
   "pygments_lexer": "ipython3",
   "version": "3.9.13"
  }
 },
 "nbformat": 4,
 "nbformat_minor": 5
}
