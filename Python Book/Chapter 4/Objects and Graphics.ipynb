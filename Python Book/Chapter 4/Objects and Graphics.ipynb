{
 "cells": [
  {
   "cell_type": "markdown",
   "id": "f399c5b7",
   "metadata": {},
   "source": [
    "# Chapter 4: Objects and Graphics"
   ]
  },
  {
   "cell_type": "markdown",
   "id": "4ef20ba2",
   "metadata": {},
   "source": [
    "We will use creating and working with graphics and GUI interfaces to learn about Objects and Object Oriented Programming in this chapter."
   ]
  },
  {
   "cell_type": "markdown",
   "id": "2301a581",
   "metadata": {},
   "source": [
    "## 4.2 The Object of Objects"
   ]
  },
  {
   "cell_type": "markdown",
   "id": "ad632f77",
   "metadata": {},
   "source": [
    "Objects ***know things*** (contain data/attributes) and they ***do things*** (have operations/methods)."
   ]
  },
  {
   "cell_type": "markdown",
   "id": "b959b24a",
   "metadata": {},
   "source": [
    "## 4.3 Simple Graphics Programming"
   ]
  },
  {
   "cell_type": "code",
   "execution_count": 2,
   "id": "605e9f81",
   "metadata": {},
   "outputs": [],
   "source": [
    "import graphics"
   ]
  },
  {
   "cell_type": "code",
   "execution_count": 2,
   "id": "32581ff0",
   "metadata": {},
   "outputs": [],
   "source": [
    "win = graphics.GraphWin() # Creates a window object"
   ]
  },
  {
   "cell_type": "code",
   "execution_count": 3,
   "id": "91a31b74",
   "metadata": {},
   "outputs": [],
   "source": [
    "win.close() # Closes said object"
   ]
  },
  {
   "cell_type": "markdown",
   "id": "717ca562",
   "metadata": {},
   "source": [
    "The .close() at the end of our window object above is called a **method** this is a function built into the object type that can be called to perform certain operations; some methods take in ***paramaters***"
   ]
  },
  {
   "cell_type": "markdown",
   "id": "a2c22ffe",
   "metadata": {},
   "source": [
    "It becomes tedious to constantly invoke the graphics library so we can instead import the entire library and shorten the code necessary to create graphics objects"
   ]
  },
  {
   "cell_type": "code",
   "execution_count": 4,
   "id": "fcd3e3c5",
   "metadata": {},
   "outputs": [],
   "source": [
    "from graphics import * # This imports all of the graphics library"
   ]
  },
  {
   "cell_type": "code",
   "execution_count": 8,
   "id": "0c4a199c",
   "metadata": {},
   "outputs": [],
   "source": [
    "win = GraphWin() # Now we just invoke the object type without mentioning the graphics library"
   ]
  },
  {
   "cell_type": "code",
   "execution_count": 9,
   "id": "c31a61aa",
   "metadata": {},
   "outputs": [],
   "source": [
    "win.close()"
   ]
  },
  {
   "cell_type": "markdown",
   "id": "db49e3d1",
   "metadata": {},
   "source": [
    "The default window objects are 200 by 200 pixels wide and high. We can perform operations to change pixels and thus the size/color, etc... of the window object"
   ]
  },
  {
   "cell_type": "markdown",
   "id": "1394eb92",
   "metadata": {},
   "source": [
    "The simplest object in this library is the ***point*** object which represents one particular pixel and has an (x,y) value"
   ]
  },
  {
   "cell_type": "code",
   "execution_count": 12,
   "id": "95c4178c",
   "metadata": {},
   "outputs": [
    {
     "name": "stdout",
     "output_type": "stream",
     "text": [
      "50.0\n",
      "60.0\n"
     ]
    },
    {
     "data": {
      "text/plain": [
       "Point(140.0, 100.0)"
      ]
     },
     "execution_count": 12,
     "metadata": {},
     "output_type": "execute_result"
    }
   ],
   "source": [
    "# Example\n",
    "p = Point(50,60)\n",
    "\n",
    "print(p.getX()) # Methods for getting the x and y values from p\n",
    "print(p.getY())\n",
    "\n",
    "win=GraphWin()\n",
    "\n",
    "p.draw(win)\n",
    "p2 = Point(140,100)\n",
    "p2.draw(win)"
   ]
  },
  {
   "cell_type": "code",
   "execution_count": 13,
   "id": "9f4e516b",
   "metadata": {},
   "outputs": [],
   "source": [
    "win.close()"
   ]
  },
  {
   "cell_type": "code",
   "execution_count": 3,
   "id": "1933980c",
   "metadata": {},
   "outputs": [
    {
     "data": {
      "text/plain": [
       "Oval(Point(20.0, 150.0), Point(180.0, 199.0))"
      ]
     },
     "execution_count": 3,
     "metadata": {},
     "output_type": "execute_result"
    }
   ],
   "source": [
    "# More advanced example\n",
    "\n",
    "### Open a Graphics Window\n",
    "win = GraphWin('Shapes')\n",
    "### Draw a red circle centered at point (100,100) with radius 30\n",
    "center = Point(100,100)\n",
    "circ = Circle(center,30)\n",
    "circ.setFill('red')\n",
    "circ.draw(win)\n",
    "### Put a textual label in the center of the circle\n",
    "label = Text(center, \"Red Circle\")\n",
    "label.draw(win)\n",
    "### Draw a square using a Rectangle object\n",
    "rect = Rectangle(Point(30,30), Point(30,30))\n",
    "rect.draw(win)\n",
    "### Draw a line segment using a Line Object\n",
    "line = Line(Point(20,30), Point(180,165))\n",
    "line.draw(win)\n",
    "### Draw an oval using the Oval object\n",
    "oval  = Oval(Point(20,150), Point(180,199))\n",
    "oval.draw(win)"
   ]
  },
  {
   "cell_type": "code",
   "execution_count": 4,
   "id": "a8d0650d",
   "metadata": {},
   "outputs": [],
   "source": [
    "win.close()"
   ]
  },
  {
   "cell_type": "markdown",
   "id": "0d7b7a53",
   "metadata": {},
   "source": [
    "## 4.4 Using Graphical Objects"
   ]
  },
  {
   "cell_type": "markdown",
   "id": "2da36538",
   "metadata": {},
   "source": [
    "Every Object is an instance of some ***class*** and the class describes the properties the instance will have"
   ]
  },
  {
   "cell_type": "markdown",
   "id": "d303941b",
   "metadata": {},
   "source": [
    "To create a new instance of a class we use a **constructor**"
   ]
  },
  {
   "cell_type": "code",
   "execution_count": 5,
   "id": "4972537b",
   "metadata": {},
   "outputs": [],
   "source": [
    "# Example\n",
    "p = Point(100,100) # Point() is the constructor for an instance of the point class"
   ]
  },
  {
   "cell_type": "markdown",
   "id": "1435fdc9",
   "metadata": {},
   "source": [
    "To perform an operation on an object, we send the object a message. The set of messages that an object responds to are called ***Methods*** of the object. AN easy way to think of methods, is as functions that live within the object."
   ]
  },
  {
   "cell_type": "markdown",
   "id": "157e393c",
   "metadata": {},
   "source": [
    "Some methods are **accessors** as they give information about an object; others change the state of an object and are called **Mutators**."
   ]
  },
  {
   "cell_type": "code",
   "execution_count": 6,
   "id": "576a0867",
   "metadata": {},
   "outputs": [],
   "source": [
    "# Accessor methods\n",
    "p.getX()\n",
    "\n",
    "# Change of state methods \"Mutators\"\n",
    "p.move(10,0) # Moves the point 10 pixels right"
   ]
  },
  {
   "cell_type": "markdown",
   "id": "b64ff97a",
   "metadata": {},
   "source": [
    "## 4.5 Graphing Future Value"
   ]
  },
  {
   "cell_type": "code",
   "execution_count": 2,
   "id": "d4dc7387",
   "metadata": {},
   "outputs": [],
   "source": [
    "def finance_calc():\n",
    "    print(\"THis program will calculate the future value of an investment in 10 years\")\n",
    "    principal = float(input(\"What is the starting Principal: \"))\n",
    "    apr = float(input(\"Provide the apr: \"))/ 100\n",
    "    value = 0\n",
    "    \n",
    "    win = GraphWin(title=\"Investment Growth Chart\",width=320,height=240)\n",
    "    win.setBackground('white')\n",
    "\n",
    "    Text(Point(20,230),\"0.0K\").draw(win)\n",
    "    Text(Point(20,180),\"2.5K\").draw(win)\n",
    "    Text(Point(20,130),\"5.0K\").draw(win)\n",
    "    Text(Point(20,80),\"7.5K\").draw(win)\n",
    "    Text(Point(20,30),\"10.0K\").draw(win)\n",
    "    \n",
    "    Rectangle(Point(40,230), Point(65,230-principal*.02)) # Year zero principal bar\n",
    "    \n",
    "    for i in range(1,11):\n",
    "        principal = principal * (1+apr)\n",
    "        xll = (25*i) +40\n",
    "        bar = Rectangle(Point(xll,230), Point(xll+25,230-principal*.02))\n",
    "        bar.setFill('green')\n",
    "        bar.setWidth(2)\n",
    "        bar.draw(win)\n",
    "        \n",
    "    input(\"Press Enter to quite\")\n",
    "    win.close()\n",
    "        "
   ]
  },
  {
   "cell_type": "code",
   "execution_count": 3,
   "id": "f127f4a5",
   "metadata": {},
   "outputs": [
    {
     "name": "stdout",
     "output_type": "stream",
     "text": [
      "THis program will calculate the future value of an investment in 10 years\n",
      "What is the starting Principal: 2000\n",
      "Provide the apr: 5\n",
      "Press Enter to quite\n"
     ]
    }
   ],
   "source": [
    "finance_calc()"
   ]
  },
  {
   "cell_type": "markdown",
   "id": "54ec658e",
   "metadata": {},
   "source": [
    "## 4.6 Choosing Coordinates"
   ]
  },
  {
   "cell_type": "markdown",
   "id": "c43e7d31",
   "metadata": {},
   "source": [
    "We can set coordinates to simplify drawing on a graphics window"
   ]
  },
  {
   "cell_type": "code",
   "execution_count": 16,
   "id": "edc1c1e5",
   "metadata": {},
   "outputs": [
    {
     "data": {
      "text/plain": [
       "Line(Point(0.0, 2.0), Point(3.0, 2.0))"
      ]
     },
     "execution_count": 16,
     "metadata": {},
     "output_type": "execute_result"
    }
   ],
   "source": [
    "# Example\n",
    "# Create a default window\n",
    "win = GraphWin(\"Tic-Tac-Toe\",width=500, height=600) # Since we set the coordinates below, no matter what size we\n",
    "# make the window, the graphics will adjust appropriately\n",
    "\n",
    "# Set coordinates to go from (0,0) in top left corner to (3,3) in bottom right corner\n",
    "win.setCoords(0.0, 0.0, 3.0, 3.0)\n",
    "\n",
    "# Draw vertical Lines\n",
    "Line(Point(1,0), Point(1,3)).draw(win)\n",
    "Line(Point(2,0), Point(2,3)).draw(win)\n",
    "\n",
    "# Draw Horizantal Lines\n",
    "#Line(Point(0,1), Point(3,1)).draw(win)\n",
    "Line(Point(0,2), Point(3,2)).draw(win)"
   ]
  },
  {
   "cell_type": "code",
   "execution_count": 17,
   "id": "f1072f5c",
   "metadata": {},
   "outputs": [],
   "source": [
    "win.close()"
   ]
  },
  {
   "cell_type": "code",
   "execution_count": 15,
   "id": "2a81f2b8",
   "metadata": {},
   "outputs": [
    {
     "name": "stdout",
     "output_type": "stream",
     "text": [
      "This program plots the growth of a 10-year investment.\n",
      "Enter the initial principal: 2000\n",
      "Enter the annualized interest rate: 5\n",
      "Press <Enter> to quit.\n"
     ]
    }
   ],
   "source": [
    "# futval_graph2.py\n",
    "\n",
    "from graphics import *\n",
    "\n",
    "def main():\n",
    "    # Introduction\n",
    "    print(\"This program plots the growth of a 10-year investment.\")\n",
    "\n",
    "    # Get principal and interest rate\n",
    "    principal = float(input(\"Enter the initial principal: \"))\n",
    "    apr = float(input(\"Enter the annualized interest rate: \"))/100\n",
    "\n",
    "    # Create a graphics window with labels on left edge\n",
    "    win = GraphWin(\"Investment Growth Chart\", 320, 240)\n",
    "    win.setBackground(\"white\")\n",
    "    win.setCoords(-1.75,-200, 11.5, 10400)\n",
    "    Text(Point(-1, 0), ' 0.0K').draw(win)\n",
    "    Text(Point(-1, 2500), ' 2.5K').draw(win)\n",
    "    Text(Point(-1, 5000), ' 5.0K').draw(win)\n",
    "    Text(Point(-1, 7500), ' 7.5k').draw(win)\n",
    "    Text(Point(-1, 10000), '10.0K').draw(win)\n",
    "\n",
    "    # Draw bar for initial principal\n",
    "    bar = Rectangle(Point(0, 0), Point(1, principal))\n",
    "    bar.setFill(\"green\")\n",
    "    bar.setWidth(2)\n",
    "    bar.draw(win)\n",
    "    \n",
    "    # Draw a bar for each subsequent year\n",
    "    for year in range(1, 11):\n",
    "        principal = principal * (1 + apr)\n",
    "        bar = Rectangle(Point(year, 0), Point(year+1, principal))\n",
    "        bar.setFill(\"green\")\n",
    "        bar.setWidth(2)\n",
    "        bar.draw(win)\n",
    "\n",
    "    input(\"Press <Enter> to quit.\")\n",
    "    win.close()\n",
    "\n",
    "main()\n"
   ]
  },
  {
   "cell_type": "markdown",
   "id": "87a4f3a0",
   "metadata": {},
   "source": [
    "## 4.7 Interactive Graphics"
   ]
  },
  {
   "cell_type": "markdown",
   "id": "03641bc1",
   "metadata": {},
   "source": [
    "**Event Driven Programming:** Allows users to interact with a GUI in a variety of ways"
   ]
  },
  {
   "cell_type": "markdown",
   "id": "657b3faf",
   "metadata": {},
   "source": [
    "**Getting Mouse Clicks:** We can use the getMouse() method to get a user's mouse click. When invoked the program pauses and waits for the user to click the mouse somewhere in the window. The spot that is clicked is returned as a Point object."
   ]
  },
  {
   "cell_type": "code",
   "execution_count": 20,
   "id": "1afa2d87",
   "metadata": {},
   "outputs": [
    {
     "name": "stdout",
     "output_type": "stream",
     "text": [
      "You clicked at: 111.0 107.0\n",
      "You clicked at: 61.0 54.0\n",
      "You clicked at: 97.0 91.0\n",
      "You clicked at: 43.0 104.0\n",
      "You clicked at: 53.0 61.0\n",
      "You clicked at: 89.0 55.0\n",
      "You clicked at: 106.0 39.0\n",
      "You clicked at: 120.0 72.0\n",
      "You clicked at: 88.0 107.0\n",
      "You clicked at: 61.0 141.0\n",
      "Press <Enter> to quit.\n"
     ]
    }
   ],
   "source": [
    "# Example\n",
    "# click.py\n",
    "from graphics import *\n",
    "\n",
    "def main():\n",
    "    win = GraphWin(\"Click Me!\")\n",
    "    for i in range(10):\n",
    "        p = win.getMouse()\n",
    "        print(\"You clicked at:\", p.getX(), p.getY())\n",
    "    input(\"Press <Enter> to quit.\")\n",
    "    win.close()\n",
    "main()"
   ]
  },
  {
   "cell_type": "code",
   "execution_count": null,
   "id": "2988b6e8",
   "metadata": {},
   "outputs": [],
   "source": [
    "# Another Example\n",
    "# triangle.py\n",
    "from graphics import *\n",
    "\n",
    "def main():\n",
    "    win = GraphWin(\"Draw a Triangle\")\n",
    "    win.setCoords(0.0, 0.0, 10.0, 10.0)\n",
    "    message = Text(Point(5, 0.5), \"Click on three points\")\n",
    "    message.draw(win)\n",
    "\n",
    "    # Get and draw three vertices of triangle\n",
    "    p1 = win.getMouse()\n",
    "    p1.draw(win)\n",
    "    p2 = win.getMouse()\n",
    "    p2.draw(win)\n",
    "    p3 = win.getMouse()\n",
    "    p3.draw(win)\n",
    "\n",
    "    # Use Polygon object to draw the triangle\n",
    "    triangle = Polygon(p1,p2,p3)\n",
    "    triangle.setFill(\"peachpuff\")\n",
    "    triangle.setOutline(\"cyan\")\n",
    "    triangle.draw(win)\n",
    "\n",
    "    # Wait for another click to exit\n",
    "    message.setText(\"Click anywhere to quit.\")\n",
    "    win.getMouse()\n",
    "    win.close()\n",
    "    \n",
    "main()"
   ]
  },
  {
   "cell_type": "markdown",
   "id": "c83750cc",
   "metadata": {},
   "source": [
    "We can also get user input via the keyboard via the getKey() method in Python."
   ]
  },
  {
   "cell_type": "code",
   "execution_count": 24,
   "id": "41bf8af5",
   "metadata": {},
   "outputs": [],
   "source": [
    "# clickntype.py\n",
    "# Graphics program illustrating mouse and keypress inputs\n",
    "\n",
    "from graphics import *\n",
    "\n",
    "def main():\n",
    "    win = GraphWin(\"Click and Type\", 400, 400)\n",
    "    for i in range(10):\n",
    "        pt = win.getMouse()\n",
    "        key = win.getKey()\n",
    "        field = Text(pt, key)\n",
    "        field.draw(win)\n",
    "    win.getMouse()\n",
    "    win.close()\n",
    "main()"
   ]
  },
  {
   "cell_type": "markdown",
   "id": "453905df",
   "metadata": {},
   "source": [
    "We can alternatively use the Entry method to get multiple characters from a user"
   ]
  },
  {
   "cell_type": "code",
   "execution_count": 28,
   "id": "4e852120",
   "metadata": {},
   "outputs": [],
   "source": [
    "# convert_gui.pyw\n",
    "# Program to convert Celsius to Fahrenheit using a simple\n",
    "#   graphical interface.\n",
    "\n",
    "from graphics import *\n",
    "\n",
    "def main():\n",
    "    win = GraphWin(\"Celsius Converter\", 400, 300)\n",
    "    win.setCoords(0.0, 0.0, 3.0, 4.0)\n",
    "    \n",
    "    # Draw the interface\n",
    "    Text(Point(1,3), \"   Celsius Temperature:\").draw(win)\n",
    "    Text(Point(1,1), \"Fahrenheit Temperature:\").draw(win)\n",
    "    inputText = Entry(Point(2.25,3), 5)\n",
    "    inputText.setText(\"0.0\")\n",
    "    inputText.draw(win)\n",
    "    outputText = Text(Point(2.25,1),\"\")\n",
    "    outputText.draw(win)\n",
    "    button = Text(Point(1.5,2.0),\"Convert It\")\n",
    "    button.draw(win)\n",
    "    Rectangle(Point(1,1.5), Point(2,2.5)).draw(win)\n",
    "\n",
    "    # wait for a mouse click\n",
    "    win.getMouse()\n",
    "\n",
    "    # convert input\n",
    "    celsius = float(inputText.getText())\n",
    "    fahrenheit = 9.0/5.0 * celsius + 32\n",
    "\n",
    "    # display output and change button\n",
    "    outputText.setText(round(fahrenheit,2))\n",
    "    button.setText(\"Quit\")\n",
    "\n",
    "    # wait for click and then quit\n",
    "    win.getMouse()\n",
    "    win.close()\n",
    "    \n",
    "main()"
   ]
  },
  {
   "cell_type": "markdown",
   "id": "f0d7350a",
   "metadata": {},
   "source": [
    "## 4.9 Chapter Summary"
   ]
  },
  {
   "cell_type": "markdown",
   "id": "569632d0",
   "metadata": {},
   "source": [
    "1. An Object is an entity that combines data and operations; they know and do stuff. Their data is stored in instance variables and their operations are called methods.\n",
    "2. Every object is an instance of some class; it is the class which will determine what methods an object will have. An instance is created by calling a constructor method.\n",
    "3. Object's attributes are accessed via .dot notation."
   ]
  },
  {
   "cell_type": "markdown",
   "id": "9846ef90",
   "metadata": {},
   "source": [
    "# Programming Exercises"
   ]
  },
  {
   "cell_type": "code",
   "execution_count": 28,
   "id": "8a4ce7b1",
   "metadata": {},
   "outputs": [],
   "source": [
    "from graphics import *"
   ]
  },
  {
   "cell_type": "markdown",
   "id": "cde347df",
   "metadata": {},
   "source": [
    "## 1"
   ]
  },
  {
   "cell_type": "code",
   "execution_count": 2,
   "id": "9915f72b",
   "metadata": {},
   "outputs": [],
   "source": [
    "def main():\n",
    "    win = GraphWin()\n",
    "    shape = Rectangle(Point(50,50), Point(70,70))\n",
    "    shape.setOutline('red')\n",
    "    shape.setFill('red')\n",
    "    shape.draw(win)\n",
    "    \n",
    "    for i in range(10):\n",
    "        p = win.getMouse()\n",
    "        c = shape.getCenter()\n",
    "        shape = Rectangle(Point(p.getX(),p.getY()), Point(p.getX()+20,p.getY()+20),)\n",
    "        shape.setOutline('red')\n",
    "        shape.setFill('red')\n",
    "        shape.draw(win)\n",
    "        #print(f\"X,y 1 new square: {shape.getP1()} and x,y2: {shape.getP2()}\")\n",
    "    text = Text(Point(95,180), \"Click Again to Quit\")\n",
    "    text.draw(win)\n",
    "    win.getMouse()\n",
    "    win.close()\n",
    "main()"
   ]
  },
  {
   "cell_type": "markdown",
   "id": "1514ab20",
   "metadata": {},
   "source": [
    "## 2"
   ]
  },
  {
   "cell_type": "code",
   "execution_count": null,
   "id": "1bc3ca7a",
   "metadata": {},
   "outputs": [],
   "source": [
    "def target():\n",
    "    win = GraphWin(title=\"Target\",width=300,height=300)\n",
    "    w_circle = Circle(Point(150,150),60)\n",
    "    w_circle.setFill(\"white\")\n",
    "    w_circle.draw(win)\n",
    "    \n",
    "    b_circle = Circle(Point(150,150),50)\n",
    "    b_circle.setFill(\"black\")\n",
    "    b_circle.draw(win)\n",
    "    \n",
    "    bl_circle = Circle(Point(150,150),40)\n",
    "    bl_circle.setFill(\"blue\")\n",
    "    bl_circle.draw(win)\n",
    "    \n",
    "    r_circle = Circle(Point(150,150),30)\n",
    "    r_circle.setFill(\"red\")\n",
    "    r_circle.draw(win)\n",
    "    \n",
    "    y_circle = Circle(Point(150,150),20)\n",
    "    y_circle.setFill(\"Yellow\")\n",
    "    y_circle.draw(win)\n",
    "    \n",
    "    center = Circle(Point(150,150),10)\n",
    "    center.setFill(\"green\")\n",
    "    center.draw(win)\n",
    "    p = win.getMouse()\n",
    "    shot = Circle(Point(p.getX(), p.getY()),5)\n",
    "    shot.setFill('purple')\n",
    "    shot.draw(win)\n",
    "    win.getMouse()\n",
    "    win.close()\n",
    "target()"
   ]
  },
  {
   "cell_type": "markdown",
   "id": "ee69e372",
   "metadata": {},
   "source": [
    "## 3"
   ]
  },
  {
   "cell_type": "code",
   "execution_count": 3,
   "id": "57b49286",
   "metadata": {},
   "outputs": [],
   "source": [
    "def smile():\n",
    "    win = GraphWin(\"Archery Target\", 400, 400)\n",
    "    win.setCoords(-5, -5, 5, 5)\n",
    "    \n",
    "    eye1 = Circle(Point(-3,3),.5)\n",
    "    eye1.setFill('black')\n",
    "    eye1.setOutline('white')\n",
    "    eye1.draw(win)\n",
    "    \n",
    "    eye2 = eye1.clone()\n",
    "    eye2.move(6,0)\n",
    "    eye2.draw(win)\n",
    "    \n",
    "    smile_f = Line(Point(-3,0), Point(0,-1))\n",
    "    smile_f.draw(win)\n",
    "    smile_l = Line(Point(0,-1), Point(3,0))\n",
    "    smile_l.draw(win)\n",
    "    win.getMouse()\n",
    "    win.close()\n",
    "smile()"
   ]
  },
  {
   "cell_type": "code",
   "execution_count": 4,
   "id": "e68d7638",
   "metadata": {},
   "outputs": [],
   "source": [
    "# c04ex03.pyw\n",
    "# Draws a face\n",
    "# Author: Cody Leistikow (10/4/02)\n",
    "\n",
    "from graphics import *\n",
    "\n",
    "def main():\n",
    "    win=GraphWin('Face',400,420)\n",
    "    win.setBackground(\"white\")\n",
    "    neck = Polygon(Point(177,352),Point(176,371),Point(162,398),Point(170,400),Point(185,391),Point(231,373),Point(260,368),Point(287,357),Point(312,333),Point(235,311))\n",
    "    neck.setFill(color_rgb(239,222,215))\n",
    "    head = Polygon(Point(136,228),Point(107,260),Point(110,279),Point(129,302),Point(140,321),Point(175,350),Point(193,348),Point(234,312),Point(238,296),Point(255,291),Point(272,266),Point(271,240),Point(264,226),Point(253,224),Point(239,239),Point(243,193))\n",
    "    head.setFill(color_rgb(239,222,215))\n",
    "    headdark1 = Polygon(Point(184,212),Point(190,217),Point(194,261),Point(173,286),Point(198,284),Point(204,310),Point(203,321),Point(200,333),Point(192,346),Point(202,352),Point(206,351),Point(206,372),Point(225,339),Point(218,377),Point(236,371),Point(252,344),Point(258,342),Point(257,369),Point(286,358),Point(294,339),Point(300,343),Point(312,334),Point(295,319),Point(282,313),Point(276,292),Point(258,289),Point(242,296),Point(236,291),Point(240,284),Point(242,278),Point(247,278),Point(249,268),Point(240,265),Point(242,258),Point(234,261),Point(258,185))\n",
    "    headdark1.setFill(color_rgb(226,179,154))\n",
    "    headdark2 = Polygon(Point(133,231),Point(123,241),Point(112,273),Point(117,275),Point(148,227))\n",
    "    headdark2.setFill(color_rgb(226,179,154))\n",
    "    headdark3 = Polygon(Point(177,218),Point(161,279),Point(168,221))\n",
    "    headdark3.setFill(color_rgb(226,179,154))\n",
    "    neckline1 = Line(Point(182,365),Point(185,390))\n",
    "    neckline2 = Line(Point(199,385),Point(219,350))\n",
    "    neckline3 = Line(Point(219,350),Point(230,324))\n",
    "    neckline4 = Line(Point(225,374),Point(235,340))\n",
    "    neckline5 = Line(Point(282,313),Point(288,334))\n",
    "    throat = Polygon(Point(189,366),Point(192,381),Point(186,373))\n",
    "    throat.setFill(color_rgb(117,110,105))\n",
    "    headline1 = Line(Point(193,349),Point(212,334))\n",
    "    headline2 = Line(Point(212,334),Point(234,312))\n",
    "    headline3 = Line(Point(234,312),Point(241,294))\n",
    "    headline4 = Line(Point(135,279),Point(140,292))\n",
    "    headline5 = Line(Point(149,279),Point(154,289))\n",
    "    innerear = Polygon(Point(263,249),Point(262,240),Point(257,234),Point(241,259),Point(242,267),Point(248,269),Point(249,277),Point(242,279),Point(241,283),Point(260,271),Point(263,265),Point(253,260),Point(254,251))\n",
    "    innerear.setFill(color_rgb(201,153,145))\n",
    "    earline1 = Line(Point(247,249),Point(258,249))\n",
    "    earline2 = Line(Point(248,268),Point(255,264))\n",
    "    earline3 = Line(Point(241,261),Point(255,261))\n",
    "    earline4 = Line(Point(255,261),Point(257,272))\n",
    "    earline5 = Line(Point(257,272),Point(265,264))\n",
    "    chin = Polygon(Point(161,326),Point(176,327),Point(179,330),Point(165,330))\n",
    "    chin.setFill(color_rgb(215,178,182))\n",
    "    mouthline1 = Line(Point(154,320),Point(158,322))\n",
    "    mouthline2 = Line(Point(158,322),Point(171,318))\n",
    "    mouthline3 = Line(Point(171,318),Point(179,318))\n",
    "    noseline1 = Line(Point(146,303),Point(146,311))\n",
    "    noseline2 = Line(Point(146,311),Point(141,319))\n",
    "    noseline3 = Line(Point(141,319),Point(156,312))\n",
    "    lefteye = Polygon(Point(120,282),Point(140,293),Point(128,293))\n",
    "    lefteye.setFill(color_rgb(255,255,255))\n",
    "    righteye = Polygon(Point(163,286),Point(166,289),Point(197,277),Point(199,264))\n",
    "    righteye.setFill(color_rgb(255,255,255))\n",
    "    leftiris = Polygon(Point(128,287),Point(131,291),Point(137,290))\n",
    "    leftiris.setFill(color_rgb(100,150,131))\n",
    "    rightiris = Polygon(Point(168,282),Point(172,284),Point(179,275))\n",
    "    rightiris.setFill(color_rgb(100,150,131))\n",
    "    lefteyebrow = Polygon(Point(111,272),Point(140,290),Point(140,292),Point(111,276))\n",
    "    lefteyebrow.setFill(color_rgb(247,218,116))\n",
    "    righteyebrow = Polygon(Point(156,288),Point(209,251),Point(212,258),Point(157,288))\n",
    "    righteyebrow.setFill(color_rgb(247,218,116))    \n",
    "    hairbg = Polygon(Point(49,110),Point(74,155),Point(89,103),Point(117,43),Point(127,96),Point(144,65),Point(198,21),Point(180,70),Point(230,32),Point(276,13),Point(241,77),Point(335,34),Point(310,74),Point(323,71),Point(331,65),Point(332,68),Point(363,45),Point(340,136),Point(356,125),Point(350,144),Point(381,124),Point(337,222),Point(309,240),Point(359,249),Point(294,276),Point(334,286),Point(275,297),Point(258,287),Point(272,264),Point(268,233),Point(264,225),Point(252,225),Point(239,238),Point(226,230),Point(228,219),Point(197,260),Point(210,221),Point(210,205),Point(175,217),Point(166,248),Point(142,294),Point(162,221),Point(136,230),Point(106,261),Point(110,277),Point(114,289),Point(116,317),Point(93,288),Point(94,278),Point(75,318),Point(76,274),Point(62,273),Point(69,247),Point(18,253),Point(67,215),Point(53,191))\n",
    "    hairbg.setFill(color_rgb(247,218,116))\n",
    "    hairdark1 = Polygon(Point(50,114),Point(74,156),Point(71,177))\n",
    "    hairdark1.setFill(color_rgb(235,161,56))\n",
    "    hairdark2 = Polygon(Point(47,243),Point(93,225),Point(89,239))\n",
    "    hairdark2.setFill(color_rgb(235,161,56))\n",
    "    hairdark3 = Polygon(Point(128,214),Point(94,256),Point(75,317),Point(99,270))\n",
    "    hairdark3.setFill(color_rgb(235,161,56))\n",
    "    hairdark4 = Polygon(Point(105,266),Point(116,313),Point(114,283))\n",
    "    hairdark4.setFill(color_rgb(235,161,56))\n",
    "    hairdark5 = Polygon(Point(119,45),Point(107,106),Point(112,170),Point(124,203),Point(129,200),Point(130,164),Point(121,139),Point(125,91),Point(117,43))\n",
    "    hairdark5.setFill(color_rgb(235,161,56))\n",
    "    hairdark6 = Polygon(Point(173,126),Point(145,193),Point(157,201),Point(157,216),Point(169,204),Point(186,176),Point(201,161),Point(213,122),Point(223,79),Point(234,55),Point(204,109),Point(160,186),Point(155,187),Point(179,117))\n",
    "    hairdark6.setFill(color_rgb(235,161,56))\n",
    "    hairdark7 = Polygon(Point(176,217),Point(253,115),Point(225,194),Point(212,192),Point(203,207))\n",
    "    hairdark7.setFill(color_rgb(235,161,56))\n",
    "    hairdark8 = Polygon(Point(222,86),Point(272,19),Point(240,77))\n",
    "    hairdark8.setFill(color_rgb(235,161,56))\n",
    "    hairdark9 = Polygon(Point(217,111),Point(284,65),Point(209,138))\n",
    "    hairdark9.setFill(color_rgb(235,161,56))\n",
    "    hairdark10 = Polygon(Point(217,192),Point(219,230),Point(230,216),Point(224,193))\n",
    "    hairdark10.setFill(color_rgb(235,161,56))\n",
    "    hairdark11 = Polygon(Point(216,109),Point(252,84),Point(283,66),Point(208,141))\n",
    "    hairdark11.setFill(color_rgb(235,161,56))\n",
    "    hairdark12 = Polygon(Point(238,161),Point(274,140),Point(228,185))\n",
    "    hairdark12.setFill(color_rgb(235,161,56))\n",
    "    hairdark13 = Polygon(Point(248,144),Point(298,73),Point(335,33),Point(307,77),Point(303,97))\n",
    "    hairdark13.setFill(color_rgb(235,161,56))\n",
    "    hairdark14 = Polygon(Point(249,205),Point(300,142),Point(331,67),Point(321,152))\n",
    "    hairdark14.setFill(color_rgb(235,161,56))\n",
    "    hairdark15 = Polygon(Point(321,152),Point(324,137),Point(357,65),Point(340,135))\n",
    "    hairdark15.setFill(color_rgb(235,161,56))\n",
    "    hairdark16 = Polygon(Point(142,138),Point(160,77),Point(180,48),Point(166,87),Point(166,114))\n",
    "    hairdark16.setFill(color_rgb(235,161,56))\n",
    "    hairdark17 = Polygon(Point(226,198),Point(252,183),Point(242,203),Point(246,216),Point(301,184),Point(282,219),Point(331,174),Point(349,144),Point(322,210),Point(358,174),Point(338,221),Point(308,240),Point(294,239),Point(283,256),Point(357,250),Point(276,282),Point(331,286),Point(276,296),Point(258,287),Point(273,265),Point(270,239),Point(265,224),Point(254,224),Point(240,238),Point(227,231),Point(228,220),Point(227,207))\n",
    "    hairdark17.setFill(color_rgb(235,161,56))\n",
    "    hairline1 = Line(Point(72,176),Point(84,206))\n",
    "    hairline2 = Line(Point(68,215),Point(84,206))\n",
    "    hairline3 = Line(Point(84,206),Point(109,208))\n",
    "    hairline4 = Line(Point(70,246),Point(86,246))\n",
    "    hairline5 = Line(Point(98,214),Point(77,276))\n",
    "    hairline6 = Line(Point(98,214),Point(146,194))\n",
    "    hairline7 = Line(Point(128,196),Point(133,147))\n",
    "    hairline8 = Line(Point(133,147),Point(207,72))\n",
    "    hairline9 = Line(Point(207,72),Point(235,53))\n",
    "    hairline10 = Line(Point(137,230),Point(158,215))\n",
    "    hairline11 = Line(Point(127,95),Point(141,140))\n",
    "    hairline12 = Line(Point(180,70),Point(174,104))\n",
    "    hairline13 = Line(Point(22,252),Point(94,225))\n",
    "    hairline14 = Line(Point(202,160),Point(254,113))\n",
    "    hairline15 = Line(Point(173,125),Point(210,79))\n",
    "    hairline16 = Line(Point(175,217),Point(171,205))\n",
    "    hairline17 = Line(Point(171,205),Point(165,208))\n",
    "    hairline18 = Line(Point(305,96),Point(332,64))\n",
    "    hairline19 = Line(Point(275,139),Point(315,94))\n",
    "    hairline20 = Line(Point(98,112),Point(91,174))\n",
    "    hairline21 = Line(Point(91,174),Point(99,208))\n",
    "    hairline22 = Line(Point(128,214),Point(156,201))\n",
    "    hairline23 = Line(Point(132,113),Point(163,50))\n",
    "    hairline24 = Line(Point(185,92),Point(240,32))\n",
    "    hairline25 = Line(Point(271,245),Point(295,233))\n",
    "    hairline26 = Line(Point(295,233),Point(322,209))\n",
    "    hairline27 = Line(Point(227,190),Point(286,139))\n",
    "    hairline28 = Line(Point(302,183),Point(326,164))\n",
    "\n",
    "    neck.draw(win)\n",
    "    head.draw(win)\n",
    "    headdark1.draw(win)\n",
    "    headdark2.draw(win)\n",
    "    headdark3.draw(win)\n",
    "    headline1.draw(win)\n",
    "    headline2.draw(win)\n",
    "    headline3.draw(win)\n",
    "    headline4.draw(win)\n",
    "    headline5.draw(win)\n",
    "    neckline1.draw(win)\n",
    "    neckline2.draw(win)\n",
    "    neckline3.draw(win)\n",
    "    neckline4.draw(win)\n",
    "    neckline5.draw(win)\n",
    "    throat.draw(win)\n",
    "    innerear.draw(win)\n",
    "    earline1.draw(win)\n",
    "    earline2.draw(win)\n",
    "    earline3.draw(win)\n",
    "    earline4.draw(win)\n",
    "    earline5.draw(win)\n",
    "    chin.draw(win)\n",
    "    mouthline1.draw(win)\n",
    "    mouthline2.draw(win)\n",
    "    mouthline3.draw(win)\n",
    "    noseline1.draw(win)\n",
    "    noseline2.draw(win)\n",
    "    noseline3.draw(win)\n",
    "    lefteye.draw(win)\n",
    "    righteye.draw(win)\n",
    "    leftiris.draw(win)\n",
    "    rightiris.draw(win)\n",
    "    lefteyebrow.draw(win)\n",
    "    righteyebrow.draw(win)\n",
    "    hairbg.draw(win)\n",
    "    hairdark1.draw(win)\n",
    "    hairdark2.draw(win)\n",
    "    hairdark3.draw(win)\n",
    "    hairdark4.draw(win)\n",
    "    hairdark5.draw(win)\n",
    "    hairdark6.draw(win)\n",
    "    hairdark7.draw(win)\n",
    "    hairdark8.draw(win)\n",
    "    hairdark9.draw(win)\n",
    "    hairdark10.draw(win)\n",
    "    hairdark11.draw(win)\n",
    "    hairdark12.draw(win)\n",
    "    hairdark13.draw(win)\n",
    "    hairdark14.draw(win)\n",
    "    hairdark15.draw(win)\n",
    "    hairdark16.draw(win)\n",
    "    hairdark17.draw(win)\n",
    "    hairline1.draw(win)\n",
    "    hairline2.draw(win)\n",
    "    hairline3.draw(win)\n",
    "    hairline4.draw(win)\n",
    "    hairline5.draw(win)\n",
    "    hairline6.draw(win)\n",
    "    hairline7.draw(win)\n",
    "    hairline8.draw(win)\n",
    "    hairline9.draw(win)\n",
    "    hairline10.draw(win)\n",
    "    hairline11.draw(win)\n",
    "    hairline12.draw(win)\n",
    "    hairline13.draw(win)\n",
    "    hairline14.draw(win)\n",
    "    hairline15.draw(win)\n",
    "    hairline16.draw(win)\n",
    "    hairline17.draw(win)\n",
    "    hairline18.draw(win)\n",
    "    hairline19.draw(win)\n",
    "    hairline20.draw(win)\n",
    "    hairline21.draw(win)\n",
    "    hairline22.draw(win)\n",
    "    hairline23.draw(win)\n",
    "    hairline24.draw(win)\n",
    "    hairline25.draw(win)\n",
    "    hairline26.draw(win)\n",
    "    hairline27.draw(win)\n",
    "    hairline28.draw(win)\n",
    "    win.getMouse()\n",
    "    \n",
    "main()"
   ]
  },
  {
   "cell_type": "markdown",
   "id": "232575ba",
   "metadata": {},
   "source": [
    "## 4"
   ]
  },
  {
   "cell_type": "code",
   "execution_count": 3,
   "id": "05b7f473",
   "metadata": {},
   "outputs": [],
   "source": [
    "# c04ex04.py\n",
    "# Winter scene\n",
    "# By: Megan Neuendorf\n",
    "\n",
    "from graphics import *\n",
    "\n",
    "def main():\n",
    "    win=GraphWin(\"Winter Scene\",500,500)\n",
    "    win.setCoords(0,0,200,200)\n",
    "    win.setBackground(\"blue\")\n",
    "\n",
    "    # Body of the snowman\n",
    "    c1 = Circle(Point(50,40),40)\n",
    "    c1.draw(win)\n",
    "    c1.setFill(\"white\")\n",
    "    c1.setOutline(\"white\")\n",
    "\n",
    "    c2 = Circle(Point(50,100),30)\n",
    "    c2.draw(win)\n",
    "    c2.setFill(\"white\")\n",
    "    c2.setOutline(\"white\")\n",
    "\n",
    "    c3 = Circle(Point(50,145),20)\n",
    "    c3.draw(win)\n",
    "    c3.setFill(\"white\")\n",
    "    c3.setOutline(\"white\")\n",
    "\n",
    "    # Top Hat of Snowman\n",
    "    r1 = Rectangle(Point(30,160),Point(70,165))\n",
    "    r1.draw(win)\n",
    "    r1.setFill(\"black\")\n",
    "\n",
    "    r2 = Rectangle(Point(40,165),Point(60,185))\n",
    "    r2.draw(win)\n",
    "    r2.setFill(\"black\")\n",
    "\n",
    "    # Eyes of the Snowman\n",
    "    e1 = Circle(Point(42.5,150),2.5)\n",
    "    e1.draw(win)\n",
    "    e1.setFill(\"black\")\n",
    "\n",
    "    e2 = Circle(Point(57.5,150),2.5)\n",
    "    e2.draw(win)\n",
    "    e2.setFill(\"black\")\n",
    "\n",
    "    # Nose of the Snowman\n",
    "    n = Polygon(Point(50,142.5),Point(50,137.5),Point(57.5,140))\n",
    "    n.draw(win)\n",
    "    n.setOutline(\"orange\")\n",
    "    n.setFill(\"orange\")\n",
    "\n",
    "    # Mouth of the Snowman\n",
    "    m1 = Circle(Point(40,135),1)\n",
    "    m1.draw(win)\n",
    "    m1.setFill(\"black\")\n",
    "\n",
    "    m2 = Circle(Point(45,130),1)\n",
    "    m2.draw(win)\n",
    "    m2.setFill(\"black\")\n",
    "\n",
    "    m3 = Circle(Point(50,127.5),1)\n",
    "    m3.draw(win)\n",
    "    m3.setFill(\"black\")\n",
    "\n",
    "    m4 = Circle(Point(55,130),1)\n",
    "    m4.draw(win)\n",
    "    m4.setFill(\"black\")\n",
    "\n",
    "    m5 = Circle(Point(60,135),1)\n",
    "    m5.draw(win)\n",
    "    m5.setFill(\"black\")\n",
    "\n",
    "    # Buttons on the Snowman\n",
    "    b1 = Circle(Point(50,115),3)\n",
    "    b1.draw(win)\n",
    "    b1.setFill(\"black\")\n",
    "\n",
    "    b2 = Circle(Point(50,105),3)\n",
    "    b2.draw(win)\n",
    "    b2.setFill(\"black\")\n",
    "\n",
    "    b3 = Circle(Point(50,95),3)\n",
    "    b3.draw(win)\n",
    "    b3.setFill(\"black\")\n",
    "\n",
    "    # Christmas Tree\n",
    "    rect1 = Rectangle(Point(140,0),Point(160,25))\n",
    "    rect1.draw(win)\n",
    "    rect1.setOutline(\"brown\")\n",
    "    rect1.setFill(\"brown\")\n",
    "    \n",
    "    t1 = Polygon(Point(100,25),Point(200,25),Point(150,65))\n",
    "    t1.draw(win)\n",
    "    t1.setOutline(\"forest green\")\n",
    "    t1.setFill(\"forest green\")\n",
    "\n",
    "    t2 = Polygon(Point(110,60),Point(190,60),Point(150,100))\n",
    "    t2.draw(win)\n",
    "    t2.setOutline(\"forest green\")\n",
    "    t2.setFill(\"forest green\")\n",
    "\n",
    "    t3 = Polygon(Point(120,90),Point(180,90),Point(150,120))\n",
    "    t3.draw(win)\n",
    "    t3.setOutline(\"forest green\")\n",
    "    t3.setFill(\"forest green\")\n",
    "\n",
    "    t4 = Polygon(Point(130,115),Point(170,115),Point(150,135))\n",
    "    t4.draw(win)\n",
    "    t4.setOutline(\"forest green\")\n",
    "    t4.setFill(\"forest green\")\n",
    "\n",
    "    t5 = Polygon(Point(135,132.5),Point(165,132.5),Point(150,155))\n",
    "    t5.draw(win)\n",
    "    t5.setOutline(\"forest green\")\n",
    "    t5.setFill(\"forest green\")\n",
    "\n",
    "    # Star on the Christmas Tree\n",
    "    n = Polygon(Point(150,152.5),Point(147.5,160),Point(140,162.5),Point(147.5,165),Point(150,172.5),Point(152.5,165),Point(160,162.5),Point(152.5,160))\n",
    "    n.draw(win)\n",
    "    n.setOutline(\"gold\")\n",
    "    n.setFill(\"gold\")\n",
    "\n",
    "    # Circular Ornaments on Christmas Tree\n",
    "    o1 = Circle(Point(150,142.5),2.5)\n",
    "    o1.draw(win)\n",
    "    o1.setOutline(\"red\")\n",
    "    o1.setFill(\"gold\")\n",
    "\n",
    "    o2 = Circle(Point(135,115),2.5)\n",
    "    o2.draw(win)\n",
    "    o2.setOutline(\"red\")\n",
    "    o2.setFill(\"gold\")\n",
    "\n",
    "    o3 = Circle(Point(165,115),2.5)\n",
    "    o3.draw(win)\n",
    "    o3.setOutline(\"red\")\n",
    "    o3.setFill(\"gold\")\n",
    "\n",
    "    o4 = Circle(Point(150,95),2.5)\n",
    "    o4.draw(win)\n",
    "    o4.setOutline(\"red\")\n",
    "    o4.setFill(\"gold\")\n",
    "\n",
    "    o5 = Circle(Point(135,75),2.5)\n",
    "    o5.draw(win)\n",
    "    o5.setOutline(\"red\")\n",
    "    o5.setFill(\"gold\")\n",
    "\n",
    "    o6 = Circle(Point(165,75),2.5)\n",
    "    o6.draw(win)\n",
    "    o6.setOutline(\"red\")\n",
    "    o6.setFill(\"gold\")\n",
    "\n",
    "    o7 = Circle(Point(115,60),2.5)\n",
    "    o7.draw(win)\n",
    "    o7.setOutline(\"red\")\n",
    "    o7.setFill(\"gold\")\n",
    "\n",
    "    o8 = Circle(Point(185,60),2.5)\n",
    "    o8.draw(win)\n",
    "    o8.setOutline(\"red\")\n",
    "    o8.setFill(\"gold\")\n",
    "\n",
    "    o9 = Circle(Point(150,30),2.5)\n",
    "    o9.draw(win)\n",
    "    o9.setOutline(\"red\")\n",
    "    o9.setFill(\"gold\")\n",
    "\n",
    "    # Diamond Ornaments on Christmas Tree\n",
    "    d1 = Polygon(Point(140,135),Point(142.5,132.5),Point(140,130),Point(137.5,132.5))\n",
    "    d1.draw(win)\n",
    "    d1.setOutline(\"gold\")\n",
    "    d1.setFill(\"red\")\n",
    "\n",
    "    d2 = Polygon(Point(160,135),Point(162.5,132.5),Point(160,130),Point(157.5,132.5))\n",
    "    d2.draw(win)\n",
    "    d2.setOutline(\"gold\")\n",
    "    d2.setFill(\"red\")\n",
    "\n",
    "    d3 = Polygon(Point(150,122.5),Point(152.5,120),Point(150,117.5),Point(147.5,120))\n",
    "    d3.draw(win)\n",
    "    d3.setOutline(\"gold\")\n",
    "    d3.setFill(\"red\")\n",
    "\n",
    "    d4 = Polygon(Point(125,92.5),Point(127.5,90),Point(125,87.5),Point(122.5,90))\n",
    "    d4.draw(win)\n",
    "    d4.setOutline(\"gold\")\n",
    "    d4.setFill(\"red\")\n",
    "\n",
    "    d5 = Polygon(Point(175,92.5),Point(177.5,90),Point(175,87.5),Point(172.5,90))\n",
    "    d5.draw(win)\n",
    "    d5.setOutline(\"gold\")\n",
    "    d5.setFill(\"red\")\n",
    "\n",
    "    d6 = Polygon(Point(150,67.5),Point(152.5,65),Point(150,62.5),Point(147.5,65))\n",
    "    d6.draw(win)\n",
    "    d6.setOutline(\"gold\")\n",
    "    d6.setFill(\"red\")\n",
    "\n",
    "    d7 = Polygon(Point(130,47.5),Point(132.5,45),Point(130,42.5),Point(127.5,45))\n",
    "    d7.draw(win)\n",
    "    d7.setOutline(\"gold\")\n",
    "    d7.setFill(\"red\")\n",
    "\n",
    "    d8 = Polygon(Point(170,47.5),Point(172.5,45),Point(170,42.5),Point(167.5,45))\n",
    "    d8.draw(win)\n",
    "    d8.setOutline(\"gold\")\n",
    "    d8.setFill(\"red\")\n",
    "\n",
    "    d9 = Polygon(Point(105,27.5),Point(107.5,25),Point(105,22.5),Point(102.5,25))\n",
    "    d9.draw(win)\n",
    "    d9.setOutline(\"gold\")\n",
    "    d9.setFill(\"red\")\n",
    "\n",
    "    d10 = Polygon(Point(195,27.5),Point(197.5,25),Point(195,22.5),Point(192.5,25))\n",
    "    d10.draw(win)\n",
    "    d10.setOutline(\"gold\")\n",
    "    d10.setFill(\"red\")\n",
    "\n",
    "    win.getMouse()\n",
    "    win.close()\n",
    "    \n",
    "main()\n",
    "    "
   ]
  },
  {
   "cell_type": "markdown",
   "id": "e1b296ce",
   "metadata": {},
   "source": [
    "# 5"
   ]
  },
  {
   "cell_type": "code",
   "execution_count": 29,
   "id": "e5035c35",
   "metadata": {},
   "outputs": [],
   "source": [
    "def main():\n",
    "    win=GraphWin(\"Dice\",500,500)\n",
    "    win.setCoords(0,0,10,10)\n",
    "    win.setBackground(\"yellow\")\n",
    "    \n",
    "    counter = 0\n",
    "    for i in range(5):\n",
    "        die = Rectangle(Point(2+counter,5), Point(4+counter,7))\n",
    "        label = Text(Point(2.5+counter,6), f\"{i+1}\")\n",
    "        die.draw(win)\n",
    "        label.draw(win)\n",
    "        counter += 1\n",
    "    win.getMouse()\n",
    "    win.close()\n",
    "main()"
   ]
  },
  {
   "cell_type": "markdown",
   "id": "f6204958",
   "metadata": {},
   "source": [
    "## 6"
   ]
  },
  {
   "cell_type": "code",
   "execution_count": 13,
   "id": "6fd6a58e",
   "metadata": {},
   "outputs": [
    {
     "name": "stdout",
     "output_type": "stream",
     "text": [
      "This program plots the growth of a 10-year investment.\n"
     ]
    }
   ],
   "source": [
    "from graphics import *\n",
    "\n",
    "def main():\n",
    "    # Introduction\n",
    "    print(\"This program plots the growth of a 10-year investment.\")\n",
    "\n",
    "    # Get principal and interest rate\n",
    "    win = GraphWin(\"Principal and Interest Rate\", 500,500)\n",
    "    win.setBackground('white')\n",
    "    win.setCoords(0,0,10,10)\n",
    "    \n",
    "    principal_entry = Entry(Point(3,6), 5)\n",
    "    interest_entry = Entry(Point(3,5), 5)\n",
    "    principal_text = Text(Point(5.5,6), \"Enter the initial principal: \")\n",
    "    interest_text = Text(Point(6,5), \"Enter the annualized interest rate: \")\n",
    "    principal_text.draw(win)\n",
    "    interest_text.draw(win)\n",
    "    \n",
    "    principal_entry.draw(win)\n",
    "    interest_entry.draw(win)\n",
    "    info_text = Text(Point(5,8), \"Enter requested fields then click\")\n",
    "    info_text.draw(win)\n",
    "    win.getMouse()\n",
    "    principal = float(principal_entry.getText())\n",
    "    apr = float(interest_entry.getText()) / 100\n",
    "\n",
    "    win.close()\n",
    "    # Create a graphics window with labels on left edge\n",
    "    win = GraphWin(\"Investment Growth Chart\", 320, 240)\n",
    "    win.setBackground(\"white\")\n",
    "    win.setCoords(-1.75,-200, 11.5, 10400)\n",
    "    Text(Point(-1, 0), ' 0.0K').draw(win)\n",
    "    Text(Point(-1, 2500), ' 2.5K').draw(win)\n",
    "    Text(Point(-1, 5000), ' 5.0K').draw(win)\n",
    "    Text(Point(-1, 7500), ' 7.5k').draw(win)\n",
    "    Text(Point(-1, 10000), '10.0K').draw(win)\n",
    "\n",
    "    # Draw bar for initial principal\n",
    "    bar = Rectangle(Point(0, 0), Point(1, principal))\n",
    "    bar.setFill(\"green\")\n",
    "    bar.setWidth(2)\n",
    "    bar.draw(win)\n",
    "    \n",
    "    # Draw a bar for each subsequent year\n",
    "    for year in range(1, 11):\n",
    "        principal = principal * (1 + apr)\n",
    "        bar = Rectangle(Point(year, 0), Point(year+1, principal))\n",
    "        bar.setFill(\"green\")\n",
    "        bar.setWidth(2)\n",
    "        bar.draw(win)\n",
    "\n",
    "    win.getMouse()\n",
    "    win.close()\n",
    "\n",
    "main()\n"
   ]
  },
  {
   "cell_type": "code",
   "execution_count": 12,
   "id": "bdbf7911",
   "metadata": {},
   "outputs": [],
   "source": [
    "# c04ex06.pyw\n",
    "#    Future value with graphical input.\n",
    "\n",
    "from graphics import *\n",
    "\n",
    "def main():\n",
    "    win = GraphWin(\"Investment Growth Chart\", 640, 480)\n",
    "    win.setBackground(\"white\")\n",
    "    # Set coordinates for easy display of prompts.\n",
    "    win.setCoords(0,0,10,10)\n",
    "\n",
    "    # Display prompts\n",
    "    t1 = Text(Point(5,8), \"Plotting a 10 year investment\")\n",
    "    t1.setSize(14)\n",
    "    t1.draw(win)\n",
    "\n",
    "    t2 = Text(Point(5,7.5), \"Enter the information below and then click anywhere\")\n",
    "    t2.setSize(14)\n",
    "    t2.draw(win)\n",
    "\n",
    "    t3 = Text(Point(2,6), \"Initial Principal:\")\n",
    "    t3.setSize(14)\n",
    "    t3.draw(win)\n",
    "\n",
    "    prinBox = Entry(Point(4.5,6), 6)\n",
    "    prinBox.draw(win)\n",
    "    prinBox.setText(\"2000\")\n",
    "\n",
    "    t4 = Text(Point(2,4), \"Annual Interest Rate:\")\n",
    "    t4.setSize(14)\n",
    "    t4.draw(win)\n",
    "\n",
    "    aprBox = Entry(Point(4.5,4), 6)\n",
    "    aprBox.setText(\"0.05\")\n",
    "    aprBox.draw(win)\n",
    "\n",
    "    # wait for mouse click and get values\n",
    "    win.getMouse()\n",
    "    principal = float(prinBox.getText())\n",
    "    apr = float(aprBox.getText())\n",
    "\n",
    "    # Erase the prompts\n",
    "    t1.undraw()\n",
    "    t2.undraw()\n",
    "    t3.undraw()\n",
    "    t4.undraw()\n",
    "    prinBox.undraw()\n",
    "    aprBox.undraw()\n",
    "\n",
    "\n",
    "    # Set Window coords for drawing the graph.\n",
    "    win.setCoords(-1.75,-200, 11.5, 10400)\n",
    "\n",
    "    # Create a graphics window with labels on left edge\n",
    "    Text(Point(-1, 0), ' 0.0K').draw(win)\n",
    "    Text(Point(-1, 2500), ' 2.5K').draw(win)\n",
    "    Text(Point(-1, 5000), ' 5.0K').draw(win)\n",
    "    Text(Point(-1, 7500), ' 7.5k').draw(win)\n",
    "    Text(Point(-1, 10000), '10.0K').draw(win)\n",
    "\n",
    "    # Draw bar for initial principal\n",
    "    bar = Rectangle(Point(0, 0), Point(1, principal))\n",
    "    bar.setFill(\"green\")\n",
    "    bar.setWidth(2)\n",
    "    bar.draw(win)\n",
    "    \n",
    "    # Draw a bar for each subsequent year\n",
    "    for year in range(1, 11):\n",
    "        principal = principal * (1 + apr)\n",
    "        bar = Rectangle(Point(year, 0), Point(year+1, principal))\n",
    "        bar.setFill(\"green\")\n",
    "        bar.setWidth(2)\n",
    "        bar.draw(win)\n",
    "\n",
    "    win.getMouse()\n",
    "    win.close()\n",
    "\n",
    "main()\n"
   ]
  },
  {
   "cell_type": "markdown",
   "id": "479b3068",
   "metadata": {},
   "source": [
    "## 7"
   ]
  },
  {
   "cell_type": "code",
   "execution_count": 1,
   "id": "53b8e15b",
   "metadata": {},
   "outputs": [],
   "source": [
    "from graphics import *\n",
    "def circle_intersection(radius,y_int):\n",
    "    \"\"\"\n",
    "    This program will draw a hortizantal line across a circle and highlight the two points it intersects on said circle\n",
    "    \"\"\"\n",
    "    \n",
    "    win = GraphWin(\"Circle Intersection\", 200,200)\n",
    "    win.setBackground('white')\n",
    "    win.setCoords(-10,-10,10,10)\n",
    "    \n",
    "    circle = Circle(Point(0,0), radius)\n",
    "    circle.draw(win)\n",
    "    \n",
    "    x1 = (radius**2 - y_int**2)**.5\n",
    "    x2 = -1 * ((radius**2 - y_int**2)**.5)\n",
    "    \n",
    "    p1 = Point(x1,y_int)\n",
    "    p1.setFill('red')\n",
    "    p1.draw(win)\n",
    "    \n",
    "    p2 = Point(x2,y_int)\n",
    "    p2.setFill('red')\n",
    "    p2.draw(win)\n",
    "    \n",
    "    line = Line(p1, p2)\n",
    "    line.draw(win)\n",
    "    \n",
    "    win.getMouse()\n",
    "    win.close()\n",
    "circle_intersection(3,2)"
   ]
  },
  {
   "cell_type": "code",
   "execution_count": 7,
   "id": "2a86fd05",
   "metadata": {},
   "outputs": [
    {
     "name": "stdout",
     "output_type": "stream",
     "text": [
      "This program computes the intersection of a circle and\n",
      "a horizontal line.\n",
      "\n",
      "Please enter the radius of the circle: 3\n",
      "Please enter the y-intercept of the line: 2\n",
      "X values of intersection -2.23606797749979 2.23606797749979\n"
     ]
    }
   ],
   "source": [
    "# c04ex07.pyw\n",
    "\n",
    "from graphics import *\n",
    "import math\n",
    "\n",
    "def main():\n",
    "    print(\"This program computes the intersection of a circle and\")\n",
    "    print(\"a horizontal line.\")\n",
    "    print()\n",
    "\n",
    "    radius = float(input(\"Please enter the radius of the circle: \"))\n",
    "    yinter = float(input(\"Please enter the y-intercept of the line: \"))\n",
    "\n",
    "    win = GraphWin(\"Circle Intersection\")\n",
    "    win.setCoords(-10,-10,10,10)\n",
    "\n",
    "    Circle(Point(0,0), radius).draw(win)\n",
    "    Line(Point(-10,yinter), Point(10,yinter)).draw(win)\n",
    "\n",
    "    x = math.sqrt(radius * radius - yinter * yinter)\n",
    "    print(\"X values of intersection\", -x, x)\n",
    "\n",
    "    p1 = Circle(Point(x,yinter),0.25)\n",
    "    p1.setOutline(\"red\")\n",
    "    p1.setFill(\"red\")\n",
    "    p1.draw(win)\n",
    "\n",
    "    p2 = p1.clone()\n",
    "    p2.move(-2*x, 0)\n",
    "    p2.draw(win)\n",
    "\n",
    "    win.getMouse()\n",
    "    win.close()\n",
    "\n",
    "main()"
   ]
  },
  {
   "cell_type": "markdown",
   "id": "1fe4163b",
   "metadata": {},
   "source": [
    "## 8"
   ]
  },
  {
   "cell_type": "code",
   "execution_count": 24,
   "id": "2850f621",
   "metadata": {},
   "outputs": [
    {
     "name": "stdout",
     "output_type": "stream",
     "text": [
      "Point(0.4008016032064128, 0.34068136272545146) Point(8.897795591182364, 8.136272545090181)\n",
      "8.496993987975952 7.7955911823647295\n",
      "The Slope was 0.92\n",
      "The Length was 11.53\n"
     ]
    }
   ],
   "source": [
    "from graphics import *\n",
    "def line_segment():\n",
    "    win = GraphWin(\"Line Segment\", 500,500)\n",
    "    win.setBackground('white')\n",
    "    win.setCoords(0,0,10,10)\n",
    "    \n",
    "    text = Text(Point(5,9), \"Please click twice anywhere in the window\")\n",
    "    text.draw(win)\n",
    "    \n",
    "    p1 = win.getMouse()\n",
    "    p2 = win.getMouse()\n",
    "    print(p1,p2)\n",
    "    text.undraw()\n",
    "    text = Text(Point(5,9), \"Click again to close window\")\n",
    "    text.draw(win)\n",
    "    dx = p2.getX() - p1.getX()\n",
    "    dy = p2.getY() - p1.getY()\n",
    "    print(dx,dy)\n",
    "    line = Line(p1,p2)\n",
    "    middle = Circle(Point((p1.getX() + p2.getX())/2,(p2.getY() + p1.getY())/2),.25)\n",
    "    middle.setFill('orange')\n",
    "    middle.draw(win)\n",
    "    line.draw(win)\n",
    "    \n",
    "    slope = dy / dx\n",
    "    length = (dx**2 + dy**2)**.5\n",
    "    print(f\"The Slope was {round(slope,2)}\")\n",
    "    print(f\"The Length was {round(length,2)}\")\n",
    "    \n",
    "    win.getMouse()\n",
    "    win.close()\n",
    "line_segment()"
   ]
  },
  {
   "cell_type": "code",
   "execution_count": 23,
   "id": "f560e4ab",
   "metadata": {},
   "outputs": [],
   "source": [
    "# c04ex08.pyw\n",
    "#    Line segment info.\n",
    "\n",
    "import math\n",
    "\n",
    "from graphics import *\n",
    "\n",
    "def main():\n",
    "    win = GraphWin(\"Line Segment Info\", 400, 400)\n",
    "    win.setCoords(-10,-10,10,10)\n",
    "\n",
    "    msg = Text(Point(0,-9.5), \"Click on endpoints of a line segment.\")\n",
    "    msg.draw(win)\n",
    "\n",
    "    p1 = win.getMouse()\n",
    "    p1.draw(win)\n",
    "\n",
    "    p2 = win.getMouse()\n",
    "    p2.draw(win)\n",
    "\n",
    "    line = Line(p1,p2)\n",
    "    line.draw(win)\n",
    "\n",
    "    mark = Circle(line.getCenter(),0.15)\n",
    "    mark.setFill(\"cyan\")\n",
    "    mark.draw(win)\n",
    "\n",
    "    dx = p2.getX() - p1.getX()\n",
    "    dy = p2.getY() - p1.getY()\n",
    "    slope = float(dy)/dx\n",
    "    length = math.sqrt(dx*dx + dy*dy)\n",
    "\n",
    "    msg.setText(\"Length: \"+str(round(length,2))+\"   Slope: \"+ str(round(slope,2)))\n",
    "    win.getMouse()\n",
    "    win.close()\n",
    "\n",
    "main()"
   ]
  },
  {
   "cell_type": "markdown",
   "id": "f3b515df",
   "metadata": {},
   "source": [
    "## 9"
   ]
  },
  {
   "cell_type": "code",
   "execution_count": 9,
   "id": "d68b9073",
   "metadata": {},
   "outputs": [
    {
     "name": "stdout",
     "output_type": "stream",
     "text": [
      "The area of the rectangle is 27.89\n",
      "The perimeter of the rectangle is 21.56\n"
     ]
    }
   ],
   "source": [
    "from graphics import *\n",
    "def draw_rectangle():\n",
    "    win = GraphWin(\"Rectangle\", 500,500)\n",
    "    win.setBackground('blue')\n",
    "    win.setCoords(0,0,10,10)\n",
    "    \n",
    "    text = Text(Point(5,9), \"Please click twice anywhere in the window\")\n",
    "    text.draw(win)\n",
    "    \n",
    "    p1 = win.getMouse()\n",
    "    p1.draw(win)\n",
    "\n",
    "    p2 = win.getMouse()\n",
    "    p2.draw(win)\n",
    "    \n",
    "    text.undraw()\n",
    "    text = Text(Point(5,9), \"Click again to close window\")\n",
    "    text.draw(win)\n",
    "    \n",
    "    rectangle = Rectangle(Point(p1.getX(),p1.getY()), Point(p2.getX(), p2.getY()))\n",
    "    rectangle.setFill('yellow')\n",
    "    rectangle.draw(win)\n",
    "    \n",
    "    width = p2.getX() - p1.getX()\n",
    "    length = p2.getY() - p1.getY()\n",
    "    \n",
    "    print(f\"The area of the rectangle is {round(abs(length * width),2)}\")\n",
    "    print(f\"The perimeter of the rectangle is {round(abs(2*(length+width)),2)}\")\n",
    "\n",
    "    win.getMouse()\n",
    "    win.close()\n",
    "draw_rectangle()"
   ]
  },
  {
   "cell_type": "code",
   "execution_count": 8,
   "id": "944baeaa",
   "metadata": {},
   "outputs": [],
   "source": [
    "# c04ex09.py\n",
    "# creates a rectangle\n",
    "\n",
    "from graphics import *\n",
    "import math\n",
    "\n",
    "def main():\n",
    "\n",
    "    win = GraphWin(\"Rectangle!\",500,500)\n",
    "\n",
    "    win.setCoords(0,0,10,10)\n",
    "    msg = Text(Point(5,1),\"Click opposite corners of a rectangle\").draw(win)\n",
    "    \n",
    "    p1 = win.getMouse()\n",
    "    p1.draw(win)\n",
    "    p2 = win.getMouse()\n",
    "\n",
    "    rect = Rectangle(p1,p2)\n",
    "    rect.setWidth(2)\n",
    "    rect.draw(win)    \n",
    "\n",
    "    length = abs(p2.getX()- p1.getX())\n",
    "    height = abs(p2.getY()- p1.getY())\n",
    "    area = length * height\n",
    "    perimeter = 2 * (length + height)\n",
    "        \n",
    "    msg.setText(\"The perimeter is \"+str(perimeter))\n",
    "    Text(Point(5,.5),\"The area is \"+str(area)).draw(win)\n",
    "    \n",
    "    win.getMouse()\n",
    "    win.close()\n",
    "\n",
    "main()"
   ]
  },
  {
   "cell_type": "markdown",
   "id": "f2537d38",
   "metadata": {},
   "source": [
    "## 10"
   ]
  },
  {
   "cell_type": "code",
   "execution_count": 13,
   "id": "3ee052a2",
   "metadata": {},
   "outputs": [
    {
     "name": "stdout",
     "output_type": "stream",
     "text": [
      "51.27\n"
     ]
    }
   ],
   "source": [
    "from graphics import *\n",
    "def draw_triangle():\n",
    "    win = GraphWin(\"Triangle\", 500,500)\n",
    "    win.setBackground('blue')\n",
    "    win.setCoords(0,0,10,10)\n",
    "    \n",
    "    text = Text(Point(5,9), \"Please click thrice anywhere in the window\")\n",
    "    text.draw(win)\n",
    "    \n",
    "    p1 = win.getMouse()\n",
    "    p1.draw(win)\n",
    "\n",
    "    p2 = win.getMouse()\n",
    "    p2.draw(win)\n",
    "    \n",
    "    p3 = win.getMouse()\n",
    "    p3.draw(win)\n",
    "    \n",
    "    text.undraw()\n",
    "    text = Text(Point(5,9), \"Click again to close window\")\n",
    "    text.draw(win)\n",
    "    \n",
    "    triangle = Polygon(p1,p2,p3)\n",
    "    triangle.setFill('yellow')\n",
    "    triangle.draw(win)\n",
    "    \n",
    "    a = (abs(p2.getX() - p1.getX())) + abs((p2.getY() - p1.getY()))\n",
    "    b = (abs(p3.getX() - p2.getX())) + abs((p3.getY() - p2.getY()))\n",
    "    c = abs((p3.getX() - p1.getX())) + abs((p3.getY() - p1.getY()))\n",
    "    s = (a+b+c) / 2\n",
    "    \n",
    "    area = (s* (s-a) * (s-b) * (s-c))**.5\n",
    "    text2 = Text(Point(5,7.8), f\"The Area is {round(area,2)}\")\n",
    "    text2.draw(win)\n",
    "    print(round(area,2))\n",
    "    win.getMouse()\n",
    "    win.close()\n",
    "    \n",
    "draw_triangle()"
   ]
  },
  {
   "cell_type": "code",
   "execution_count": 3,
   "id": "5b2efb98",
   "metadata": {},
   "outputs": [
    {
     "name": "stdout",
     "output_type": "stream",
     "text": [
      "10.825317547305483\n"
     ]
    }
   ],
   "source": [
    "s = 7.5\n",
    "a = 5\n",
    "b = 5\n",
    "c = 5\n",
    "area = (s* (s-a) * (s-b) * (s-c))**.5\n",
    "print(area)"
   ]
  },
  {
   "cell_type": "markdown",
   "id": "d483e31b",
   "metadata": {},
   "source": [
    "## 11"
   ]
  },
  {
   "cell_type": "code",
   "execution_count": 8,
   "id": "dac04951",
   "metadata": {},
   "outputs": [],
   "source": [
    "from graphics import *\n",
    "def draw_house():\n",
    "    win = GraphWin(\"House\", 500,500)\n",
    "    win.setBackground('white')\n",
    "    win.setCoords(0,0,10,10)\n",
    "    \n",
    "    p1 = win.getMouse()\n",
    "    p1.draw(win)\n",
    "\n",
    "    p2 = win.getMouse()\n",
    "    p2.draw(win)\n",
    "    \n",
    "    foundation = Rectangle(p1,p2)\n",
    "    foundation.setFill('blue')\n",
    "    foundation.draw(win)\n",
    "    \n",
    "    p3 = win.getMouse()\n",
    "    p3.draw(win)\n",
    "    \n",
    "    one_fifth = (abs(p2.getX() - p1.getX())) * (1/5)\n",
    "    \n",
    "    door1 = Rectangle(Point(p3.getX() - (one_fifth / 2), p3.getY()), Point(p3.getX() + (one_fifth/2), p1.getY()))\n",
    "    door1.setFill('red')\n",
    "    door1.draw(win)\n",
    "    \n",
    "    p4 = win.getMouse()\n",
    "    p4.draw(win)\n",
    "    \n",
    "    half = abs(door1.getP2().getX() - door1.getP1().getX()) /2\n",
    "    \n",
    "    window = Rectangle(Point(p4.getX() - (half/2), p4.getY()), Point(p4.getX() + (half/2), p4.getY()-1))\n",
    "    window.setFill('yellow')\n",
    "    window.draw(win)\n",
    "    \n",
    "    p5 = win.getMouse()\n",
    "    p5.draw(win)\n",
    "    \n",
    "    roof = Polygon(Point(foundation.getP1().getX(), foundation.getP2().getY()), foundation.getP2(), p5)\n",
    "    roof.setFill('green')\n",
    "    roof.draw(win)\n",
    "    \n",
    "    text = Text(Point(5,.5), \"House Completed!\")\n",
    "    text.draw(win)\n",
    "\n",
    "    \n",
    "    win.getMouse()\n",
    "    win.close()\n",
    "    \n",
    "draw_house()"
   ]
  },
  {
   "cell_type": "markdown",
   "id": "c4d67e0f",
   "metadata": {},
   "source": [
    "## C'est Fini!"
   ]
  }
 ],
 "metadata": {
  "kernelspec": {
   "display_name": "Python 3 (ipykernel)",
   "language": "python",
   "name": "python3"
  },
  "language_info": {
   "codemirror_mode": {
    "name": "ipython",
    "version": 3
   },
   "file_extension": ".py",
   "mimetype": "text/x-python",
   "name": "python",
   "nbconvert_exporter": "python",
   "pygments_lexer": "ipython3",
   "version": "3.9.13"
  }
 },
 "nbformat": 4,
 "nbformat_minor": 5
}
