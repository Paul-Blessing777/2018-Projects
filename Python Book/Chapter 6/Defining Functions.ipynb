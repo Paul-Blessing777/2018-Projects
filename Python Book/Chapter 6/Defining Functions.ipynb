{
 "cells": [
  {
   "cell_type": "markdown",
   "id": "40b30df0",
   "metadata": {},
   "source": [
    "# Chapter 6: Defining Functions"
   ]
  },
  {
   "cell_type": "markdown",
   "id": "c8835286",
   "metadata": {},
   "source": [
    "## 6.1 The Function of Functions"
   ]
  },
  {
   "cell_type": "markdown",
   "id": "20cb6c09",
   "metadata": {},
   "source": [
    "If we Look back at our future value function, we see that its starting to have many lines of code; some of which do the same things twice in different places (making the intial bar and subsequent bars)."
   ]
  },
  {
   "cell_type": "code",
   "execution_count": 1,
   "id": "afd6b21d",
   "metadata": {},
   "outputs": [
    {
     "name": "stdout",
     "output_type": "stream",
     "text": [
      "This program plots the growth of a 10-year investment.\n",
      "Enter the initial principal: 2\n",
      "Enter the annualized interest rate: 2\n",
      "Press <Enter> to quit.\n"
     ]
    }
   ],
   "source": [
    "# futval_graph2.py\n",
    "\n",
    "from graphics import *\n",
    "\n",
    "def main():\n",
    "    # Introduction\n",
    "    print(\"This program plots the growth of a 10-year investment.\")\n",
    "\n",
    "    # Get principal and interest rate\n",
    "    principal = float(input(\"Enter the initial principal: \"))\n",
    "    apr = float(input(\"Enter the annualized interest rate: \"))\n",
    "\n",
    "    # Create a graphics window with labels on left edge\n",
    "    win = GraphWin(\"Investment Growth Chart\", 320, 240)\n",
    "    win.setBackground(\"white\")\n",
    "    win.setCoords(-1.75,-200, 11.5, 10400)\n",
    "    Text(Point(-1, 0), ' 0.0K').draw(win)\n",
    "    Text(Point(-1, 2500), ' 2.5K').draw(win)\n",
    "    Text(Point(-1, 5000), ' 5.0K').draw(win)\n",
    "    Text(Point(-1, 7500), ' 7.5k').draw(win)\n",
    "    Text(Point(-1, 10000), '10.0K').draw(win)\n",
    "\n",
    "    # Draw bar for initial principal\n",
    "    bar = Rectangle(Point(0, 0), Point(1, principal))\n",
    "    bar.setFill(\"green\")\n",
    "    bar.setWidth(2)\n",
    "    bar.draw(win)\n",
    "    \n",
    "    # Draw a bar for each subsequent year\n",
    "    for year in range(1, 11):\n",
    "        principal = principal * (1 + apr)\n",
    "        bar = Rectangle(Point(year, 0), Point(year+1, principal))\n",
    "        bar.setFill(\"green\")\n",
    "        bar.setWidth(2)\n",
    "        bar.draw(win)\n",
    "\n",
    "    input(\"Press <Enter> to quit.\")\n",
    "    win.close()\n",
    "\n",
    "main()"
   ]
  },
  {
   "cell_type": "markdown",
   "id": "a7ad87c5",
   "metadata": {},
   "source": [
    "Ideally we'd like to break this code up into smaller parts (functions) and call them as need be. This simplifies the main() program and removes some complexity."
   ]
  },
  {
   "cell_type": "markdown",
   "id": "c4b6c965",
   "metadata": {},
   "source": [
    "## 6.2 Functions, Informally"
   ]
  },
  {
   "cell_type": "markdown",
   "id": "6d00a27f",
   "metadata": {},
   "source": [
    "The part of the program that creates a function is called a ***function Definition***. When a function is used in a program we say it is **Called** or **Invoked**. <br />\n",
    "We use **Parameters** in functions. A Parameter is a variable that is initalized when the function is called."
   ]
  },
  {
   "cell_type": "code",
   "execution_count": 4,
   "id": "73af619e",
   "metadata": {},
   "outputs": [
    {
     "name": "stdout",
     "output_type": "stream",
     "text": [
      "Happy Birthday Aurora!!!\n"
     ]
    }
   ],
   "source": [
    "# Example\n",
    "def happy_birthday(name):\n",
    "    print(f'Happy Birthday {name}!!!')\n",
    "happy_birthday('Aurora')"
   ]
  },
  {
   "cell_type": "markdown",
   "id": "906af3cd",
   "metadata": {},
   "source": [
    "## 6.3 Future Value with a Function"
   ]
  },
  {
   "cell_type": "markdown",
   "id": "1f2adfb3",
   "metadata": {},
   "source": [
    "We add some new functions to our future value program to better paramaterize it. This makes making changes in the future easier."
   ]
  },
  {
   "cell_type": "code",
   "execution_count": 1,
   "id": "457a7224",
   "metadata": {},
   "outputs": [
    {
     "name": "stdout",
     "output_type": "stream",
     "text": [
      "This program plots the growth of a 10-year investment.\n",
      "Enter the initial principal: 2000\n",
      "Enter the annualized interest rate: 22\n",
      "Press <Enter> to quit.\n"
     ]
    }
   ],
   "source": [
    "# futval_graph3.py\n",
    "from graphics import *\n",
    "\n",
    "def drawBar(window, year, height):\n",
    "    # Draw a bar in window starting at year with given height\n",
    "    bar = Rectangle(Point(year, 0), Point(year+1, height))\n",
    "    bar.setFill(\"green\")\n",
    "    bar.setWidth(2)\n",
    "    bar.draw(window)\n",
    "    \n",
    "def main():\n",
    "    # Introduction\n",
    "    print(\"This program plots the growth of a 10-year investment.\")\n",
    "\n",
    "    # Get principal and interest rate\n",
    "    principal = float(input(\"Enter the initial principal: \"))\n",
    "    apr = float(input(\"Enter the annualized interest rate: \"))\n",
    "\n",
    "    # Create a graphics window with labels on left edge\n",
    "    win = GraphWin(\"Investment Growth Chart\", 320, 240)\n",
    "    win.setBackground(\"white\")\n",
    "    win.setCoords(-1.75,-200, 11.5, 10400)\n",
    "    Text(Point(-1, 0), ' 0.0K').draw(win)\n",
    "    Text(Point(-1, 2500), ' 2.5K').draw(win)\n",
    "    Text(Point(-1, 5000), ' 5.0K').draw(win)\n",
    "    Text(Point(-1, 7500), ' 7.5k').draw(win)\n",
    "    Text(Point(-1, 10000), '10.0K').draw(win)\n",
    "\n",
    "    drawBar(win, 0, principal)\n",
    "    for year in range(1, 11):\n",
    "        principal = principal * (1 + apr)\n",
    "        drawBar(win, year, principal)\n",
    "\n",
    "    input(\"Press <Enter> to quit.\")\n",
    "    win.close()\n",
    "main()"
   ]
  },
  {
   "cell_type": "markdown",
   "id": "0b11ee77",
   "metadata": {},
   "source": [
    "## 6.4 Functions and Parameters: The Exciting Details"
   ]
  },
  {
   "cell_type": "markdown",
   "id": "b2488095",
   "metadata": {},
   "source": [
    "When Python comes to a function call, it initiates a four step process: <br />\n",
    "1. The Calling program suspends execution at the point of the call\n",
    "2. The formal parameters of the function get assigned the values supplied by the actual parameters in the call.\n",
    "3. The body of the function is executed\n",
    "4. Control returns to the point just after where the function was called."
   ]
  },
  {
   "cell_type": "markdown",
   "id": "c4616fca",
   "metadata": {},
   "source": [
    "## 6.6 Functions that Modify Parameters"
   ]
  },
  {
   "cell_type": "code",
   "execution_count": 2,
   "id": "0f54abd7",
   "metadata": {},
   "outputs": [
    {
     "name": "stdout",
     "output_type": "stream",
     "text": [
      "1000\n"
     ]
    }
   ],
   "source": [
    "#If we wanted to make a simple bank account program we could do so like below\n",
    "def addInterest(balance, rate):\n",
    "    newBalance = balance * (1+rate)\n",
    "    balance = newBalance\n",
    "    \n",
    "def test():\n",
    "    amount = 1000\n",
    "    rate = .05\n",
    "    addInterest(amount,rate)\n",
    "    print(amount)\n",
    "test()"
   ]
  },
  {
   "cell_type": "markdown",
   "id": "54e1ed7f",
   "metadata": {},
   "source": [
    "Why did the program return the intial amount and not the expected 1050? <br>\n",
    "This is because the variable amount was never changed; Python passes all paramters by value so amount was only changed in the function but not in the overall program. We can fix this by having addInterest() return its value"
   ]
  },
  {
   "cell_type": "code",
   "execution_count": 4,
   "id": "62aa261b",
   "metadata": {},
   "outputs": [
    {
     "name": "stdout",
     "output_type": "stream",
     "text": [
      "1050.0\n"
     ]
    }
   ],
   "source": [
    "def addInterest(balance, rate):\n",
    "    newBalance = balance * (1+rate)\n",
    "    balance = newBalance\n",
    "    return balance\n",
    "    \n",
    "def test():\n",
    "    amount = 1000\n",
    "    rate = .05\n",
    "    amount = addInterest(amount,rate)\n",
    "    print(amount)\n",
    "test()"
   ]
  },
  {
   "cell_type": "code",
   "execution_count": 22,
   "id": "7bf307ac",
   "metadata": {},
   "outputs": [
    {
     "name": "stdout",
     "output_type": "stream",
     "text": [
      "[105.0, 210.0, 315.0, 420.0, 525.0, 630.0, 815.85]\n"
     ]
    }
   ],
   "source": [
    "#Challenge: Make a similar program that will change the balances in a list\n",
    "def addInterest(balance_list, rate):\n",
    "    for i in range(len(balance_list)):\n",
    "        balance_list[i] = balance_list[i] * (1+rate)\n",
    "    return balance_list\n",
    "    \n",
    "def test2():\n",
    "    balance_list = [100,200,300,400,500,600,777]\n",
    "    rate = .05\n",
    "    balance_list = addInterest(balance_list,rate)\n",
    "    print(balance_list)\n",
    "    \n",
    "test2()"
   ]
  },
  {
   "cell_type": "markdown",
   "id": "57d8ff4c",
   "metadata": {},
   "source": [
    "## 6.7 Functions and Program Structure"
   ]
  },
  {
   "cell_type": "markdown",
   "id": "dcb10b9b",
   "metadata": {},
   "source": [
    "One the best uses of Functions is to modularize our programs; giving each specific mechanism of our program a particular function that is called when needed. Let's look at an improved version of futval that captures this idea."
   ]
  },
  {
   "cell_type": "code",
   "execution_count": 25,
   "id": "c28b4fe4",
   "metadata": {},
   "outputs": [
    {
     "name": "stdout",
     "output_type": "stream",
     "text": [
      "This program plots the growth of a 10 year investment.\n",
      "Enter the initial principal: 1000\n",
      "Enter the annualized interest rate: .05\n",
      "Press <Enter> to quit.\n"
     ]
    }
   ],
   "source": [
    "# futval_graph4.py\n",
    "\n",
    "from graphics import *\n",
    "\n",
    "def createLabeledWindow():\n",
    "    window = GraphWin(\"Investment Growth Chart\", 320, 240)\n",
    "    window.setBackground(\"white\")\n",
    "    window.setCoords(-1.75,-200, 11.5, 10400)\n",
    "    Text(Point(-1, 0), ' 0.0K').draw(window)\n",
    "    Text(Point(-1, 2500), ' 2.5K').draw(window)\n",
    "    Text(Point(-1, 5000), ' 5.0K').draw(window)\n",
    "    Text(Point(-1, 7500), ' 7.5k').draw(window)\n",
    "    Text(Point(-1, 10000), '10.0K').draw(window)\n",
    "    return window\n",
    "\n",
    "def drawBar(window, year, height):\n",
    "    bar = Rectangle(Point(year, 0), Point(year+1, height))\n",
    "    bar.setFill(\"green\")\n",
    "    bar.setWidth(2)\n",
    "    bar.draw(window)\n",
    "    \n",
    "def main():\n",
    "    print(\"This program plots the growth of a 10 year investment.\")\n",
    "\n",
    "    principal = float(input(\"Enter the initial principal: \"))\n",
    "    apr = float(input(\"Enter the annualized interest rate: \"))\n",
    "\n",
    "    win = createLabeledWindow()\n",
    "    drawBar(win, 0, principal)    \n",
    "    for year in range(1, 11):\n",
    "        principal = principal * (1 + apr)\n",
    "        drawBar(win, year, principal)\n",
    "\n",
    "    input(\"Press <Enter> to quit.\")\n",
    "    win.close()\n",
    "\n",
    "main()"
   ]
  },
  {
   "cell_type": "markdown",
   "id": "0e36323f",
   "metadata": {},
   "source": [
    "## Chapter Summary:\n",
    "1. The Scope of a variable is the area of the program where it may be referenced. Formal parameters and other variables inside function definitions are local to the function. Local variables are distinct for variables of the same name that may be used elsewhere in the program.\n",
    "2. Functions can communicate information back to the caller through return values. In Python, functions may return multiple values. Value-returning functions should generally be called from inside an expression. Functions that don't explicitly return a value return the special object None.\n",
    "3. Python Passes parameters by value. If the value being passed is a mutable object, then changes made to the object may be visible to the caller."
   ]
  },
  {
   "cell_type": "markdown",
   "id": "af113a4d",
   "metadata": {},
   "source": [
    "# Exercises"
   ]
  },
  {
   "cell_type": "markdown",
   "id": "8c841aaa",
   "metadata": {},
   "source": [
    "### Exercise 1"
   ]
  },
  {
   "cell_type": "code",
   "execution_count": 50,
   "id": "e4117f79",
   "metadata": {},
   "outputs": [],
   "source": [
    "def old_macdonald(animals,calls):\n",
    "    for i in range(len(animals)):\n",
    "        print(\"Old MacDonald had a farm, Ee-igh, Ee-igh, Oh!\")\n",
    "        print(f\"And on that farm he had a {animals[i]}, Ee-igh, Ee-igh, Oh!\")\n",
    "        print(f\"With a {calls[i]}, {calls[i]}, here and a {calls[i]}, {calls[i]}, there.\")\n",
    "        print(f\"Here a {calls[i]}, there a {calls[i]}, everywhere a {calls[i]}, {calls[i]}\")\n",
    "        print(\"Old MacDonald had a farm, Ee-igh, Ee-igh, Oh!\")\n",
    "        print(\"\\n\")"
   ]
  },
  {
   "cell_type": "code",
   "execution_count": 52,
   "id": "4b7b4f5b",
   "metadata": {},
   "outputs": [
    {
     "name": "stdout",
     "output_type": "stream",
     "text": [
      "Old MacDonald had a farm, Ee-igh, Ee-igh, Oh!\n",
      "And on that farm he had a Cow, Ee-igh, Ee-igh, Oh!\n",
      "With a moo, moo, here and a moo, moo, there.\n",
      "Here a moo, there a moo, everywhere a moo, moo\n",
      "Old MacDonald had a farm, Ee-igh, Ee-igh, Oh!\n",
      "\n",
      "\n",
      "Old MacDonald had a farm, Ee-igh, Ee-igh, Oh!\n",
      "And on that farm he had a Monkey, Ee-igh, Ee-igh, Oh!\n",
      "With a ook, ook, here and a ook, ook, there.\n",
      "Here a ook, there a ook, everywhere a ook, ook\n",
      "Old MacDonald had a farm, Ee-igh, Ee-igh, Oh!\n",
      "\n",
      "\n",
      "Old MacDonald had a farm, Ee-igh, Ee-igh, Oh!\n",
      "And on that farm he had a Chicken, Ee-igh, Ee-igh, Oh!\n",
      "With a bacock, bacock, here and a bacock, bacock, there.\n",
      "Here a bacock, there a bacock, everywhere a bacock, bacock\n",
      "Old MacDonald had a farm, Ee-igh, Ee-igh, Oh!\n",
      "\n",
      "\n",
      "Old MacDonald had a farm, Ee-igh, Ee-igh, Oh!\n",
      "And on that farm he had a Pig, Ee-igh, Ee-igh, Oh!\n",
      "With a oink, oink, here and a oink, oink, there.\n",
      "Here a oink, there a oink, everywhere a oink, oink\n",
      "Old MacDonald had a farm, Ee-igh, Ee-igh, Oh!\n",
      "\n",
      "\n"
     ]
    }
   ],
   "source": [
    "animals = [\"Cow\",\"Monkey\",\"Chicken\", \"Pig\"]\n",
    "calls = [\"moo\",\"ook\", \"bacock\", 'oink']\n",
    "old_macdonald(animals,calls)"
   ]
  },
  {
   "cell_type": "markdown",
   "id": "0e947c33",
   "metadata": {},
   "source": [
    "## Exercise 2"
   ]
  },
  {
   "cell_type": "code",
   "execution_count": 56,
   "id": "c536a27e",
   "metadata": {},
   "outputs": [
    {
     "name": "stdout",
     "output_type": "stream",
     "text": [
      "The Ants go marching 1 by 1, hurrah! hurrah!\n",
      "The Ants go marching 1 by 1, hurrah! hurrah!\n",
      "The Ants go marching 1 by 1,\n",
      "The Little one stops to suck his thumb,\n",
      "And they all go marching down...\n",
      "In the ground...\n",
      "To get out...\n",
      "Of the rain!\n",
      "Boom! Boom! Boom!\n",
      "The Ants go marching 2 by 2, hurrah! hurrah!\n",
      "The Ants go marching 2 by 2, hurrah! hurrah!\n",
      "The Ants go marching 2 by 2,\n",
      "The Little one stops to tie his shoe,\n",
      "And they all go marching down...\n",
      "In the ground...\n",
      "To get out...\n",
      "Of the rain!\n",
      "Boom! Boom! Boom!\n",
      "The Ants go marching 3 by 3, hurrah! hurrah!\n",
      "The Ants go marching 3 by 3, hurrah! hurrah!\n",
      "The Ants go marching 3 by 3,\n",
      "The Little one stops to take a pee,\n",
      "And they all go marching down...\n",
      "In the ground...\n",
      "To get out...\n",
      "Of the rain!\n",
      "Boom! Boom! Boom!\n",
      "The Ants go marching 4 by 4, hurrah! hurrah!\n",
      "The Ants go marching 4 by 4, hurrah! hurrah!\n",
      "The Ants go marching 4 by 4,\n",
      "The Little one stops to find some more,\n",
      "And they all go marching down...\n",
      "In the ground...\n",
      "To get out...\n",
      "Of the rain!\n",
      "Boom! Boom! Boom!\n",
      "The Ants go marching 5 by 5, hurrah! hurrah!\n",
      "The Ants go marching 5 by 5, hurrah! hurrah!\n",
      "The Ants go marching 5 by 5,\n",
      "The Little one stops to avoid a knife,\n",
      "And they all go marching down...\n",
      "In the ground...\n",
      "To get out...\n",
      "Of the rain!\n",
      "Boom! Boom! Boom!\n"
     ]
    }
   ],
   "source": [
    "def ants_marching(words):\n",
    "    for i in range(len(words)):\n",
    "        print(f\"The Ants go marching {i+1} by {i+1}, hurrah! hurrah!\")\n",
    "        print(f\"The Ants go marching {i+1} by {i+1}, hurrah! hurrah!\")\n",
    "        print(f\"The Ants go marching {i+1} by {i+1},\")\n",
    "        print(f\"The Little one stops to {words[i]},\")\n",
    "        print(\"And they all go marching down...\")\n",
    "        print(\"In the ground...\")\n",
    "        print(\"To get out...\")\n",
    "        print(\"Of the rain!\")\n",
    "        print(\"Boom! Boom! Boom!\")\n",
    "words = [\"suck his thumb\", \"tie his shoe\", \"take a pee\", \"find some more\", \"avoid a knife\"]\n",
    "ants_marching(words)"
   ]
  },
  {
   "cell_type": "markdown",
   "id": "caf578b8",
   "metadata": {},
   "source": [
    "## Exercise 3"
   ]
  },
  {
   "cell_type": "code",
   "execution_count": 59,
   "id": "1ad6d052",
   "metadata": {},
   "outputs": [
    {
     "data": {
      "text/plain": [
       "50.27"
      ]
     },
     "execution_count": 59,
     "metadata": {},
     "output_type": "execute_result"
    }
   ],
   "source": [
    "def sphere_area(radius):\n",
    "    return round(4* 3.1415926535 * radius**2,2)\n",
    "sphere_area(2)"
   ]
  },
  {
   "cell_type": "code",
   "execution_count": 61,
   "id": "4756caa3",
   "metadata": {},
   "outputs": [
    {
     "data": {
      "text/plain": [
       "524"
      ]
     },
     "execution_count": 61,
     "metadata": {},
     "output_type": "execute_result"
    }
   ],
   "source": [
    "def sphere_volume(radius):\n",
    "    return round((4/3)*3.1415926535*radius**3)\n",
    "sphere_volume(5)"
   ]
  },
  {
   "cell_type": "markdown",
   "id": "aa2b5e3d",
   "metadata": {},
   "source": [
    "## Exercise 4"
   ]
  },
  {
   "cell_type": "code",
   "execution_count": 71,
   "id": "8f944246",
   "metadata": {},
   "outputs": [
    {
     "data": {
      "text/plain": [
       "15"
      ]
     },
     "execution_count": 71,
     "metadata": {},
     "output_type": "execute_result"
    }
   ],
   "source": [
    "def sumN(n):\n",
    "    total = 0\n",
    "    for i in range(n+1):\n",
    "        total += i\n",
    "    return total\n",
    "sumN(5)"
   ]
  },
  {
   "cell_type": "code",
   "execution_count": 72,
   "id": "b2fb1c3d",
   "metadata": {},
   "outputs": [
    {
     "data": {
      "text/plain": [
       "225"
      ]
     },
     "execution_count": 72,
     "metadata": {},
     "output_type": "execute_result"
    }
   ],
   "source": [
    "def sumNCubes(n):\n",
    "    total = 0\n",
    "    for i in range(n+1):\n",
    "        total += i**3\n",
    "    return total\n",
    "sumNCubes(5)"
   ]
  },
  {
   "cell_type": "markdown",
   "id": "d8a6696d",
   "metadata": {},
   "source": [
    "## Exercise 5"
   ]
  },
  {
   "cell_type": "code",
   "execution_count": 89,
   "id": "8028d1fd",
   "metadata": {},
   "outputs": [],
   "source": [
    "def area(diameter):\n",
    "    radius = diameter / 2 \n",
    "    return 3.1415926535 * radius**2\n",
    "\n",
    "\n",
    "\n",
    "def cost_per_sq_inch(area,price):\n",
    "    cost = price / area\n",
    "    return cost\n",
    "    \n",
    "\n",
    "\n",
    "def pizza_price(diameter, price):\n",
    "    size = area(diameter)\n",
    "    cost = cost_per_sq_inch(size, price)\n",
    "    print(f\"The cost is ${round(cost,2)} per square inch\")\n",
    "    \n",
    "    "
   ]
  },
  {
   "cell_type": "code",
   "execution_count": 90,
   "id": "532d23ba",
   "metadata": {},
   "outputs": [
    {
     "name": "stdout",
     "output_type": "stream",
     "text": [
      "The cost is $0.76 per square inch\n"
     ]
    }
   ],
   "source": [
    "pizza_price(5,15)"
   ]
  },
  {
   "cell_type": "markdown",
   "id": "332b3631",
   "metadata": {},
   "source": [
    "## Exercise 6"
   ]
  },
  {
   "cell_type": "code",
   "execution_count": 143,
   "id": "aaa72f03",
   "metadata": {},
   "outputs": [],
   "source": [
    "from graphics import *\n",
    "def area_triangle(a,b,c):\n",
    "    \n",
    "    s = (a + b + c) / 2\n",
    "    \n",
    "    area = (s * (s-a) * (s-b) * (s-c))**.5\n",
    "    \n",
    "    return round(area,2)"
   ]
  },
  {
   "cell_type": "code",
   "execution_count": 2,
   "id": "01e46d3b",
   "metadata": {},
   "outputs": [
    {
     "data": {
      "text/plain": [
       "2.9"
      ]
     },
     "execution_count": 2,
     "metadata": {},
     "output_type": "execute_result"
    }
   ],
   "source": [
    "area_triangle(2,3,4)"
   ]
  },
  {
   "cell_type": "code",
   "execution_count": 3,
   "id": "f046afff",
   "metadata": {},
   "outputs": [],
   "source": [
    "def distance(a,b):\n",
    "    distance = ( (b[0]-a[0])**2 + (b[1]-a[1])**2 )**.5\n",
    "    return distance"
   ]
  },
  {
   "cell_type": "code",
   "execution_count": 4,
   "id": "4268faf8",
   "metadata": {},
   "outputs": [
    {
     "data": {
      "text/plain": [
       "2.8284271247461903"
      ]
     },
     "execution_count": 4,
     "metadata": {},
     "output_type": "execute_result"
    }
   ],
   "source": [
    "first = (2,3)\n",
    "second = (4,5)\n",
    "distance(first,second)"
   ]
  },
  {
   "cell_type": "code",
   "execution_count": 10,
   "id": "7ef5a6ec",
   "metadata": {},
   "outputs": [],
   "source": [
    "# triangle.pyw\n",
    "from graphics import *\n",
    "\n",
    "def main():\n",
    "    win = GraphWin(\"Draw a Triangle\")\n",
    "    win.setCoords(0.0, 0.0, 10.0, 10.0)\n",
    "    message = Text(Point(5, 0.5), \"Click on three points\")\n",
    "    message.draw(win)\n",
    "\n",
    "    # Get and draw three vertices of triangle\n",
    "    p1 = win.getMouse()\n",
    "    p1.draw(win)\n",
    "    p2 = win.getMouse()\n",
    "    p2.draw(win)\n",
    "    p3 = win.getMouse()\n",
    "    p3.draw(win)\n",
    "    \n",
    "\n",
    "    # Use Polygon object to draw the triangle\n",
    "    triangle = Polygon(p1,p2,p3)\n",
    "    triangle.setFill(\"peachpuff\")\n",
    "    triangle.setOutline(\"cyan\")\n",
    "    triangle.draw(win)\n",
    "    \n",
    "    ## Get area and display (Exercise 6)\n",
    "    #area_tri = area_triangle()\n",
    "    p1 = p1.getX(), p1.getY()\n",
    "    p2 = p2.getX(), p2.getY()\n",
    "    p3 = p3.getX(), p3.getY()\n",
    "    \n",
    "    a = distance(p1,p2)\n",
    "    b = distance(p2,p3)\n",
    "    c = distance(p3,p1)\n",
    "    area = area_triangle(a,b,c)\n",
    "    message.setText(f\"Area:{area}\")\n",
    "    win.getMouse()\n",
    "\n",
    "    # Wait for another click to exit\n",
    "    message.setText(\"Click anywhere to quit.\")\n",
    "    win.getMouse()\n",
    "    win.close()\n",
    "    \n",
    "main()"
   ]
  },
  {
   "cell_type": "markdown",
   "id": "e99fdd20",
   "metadata": {},
   "source": [
    "## Exercise 7"
   ]
  },
  {
   "cell_type": "code",
   "execution_count": 50,
   "id": "b1fd2fcd",
   "metadata": {},
   "outputs": [],
   "source": [
    "def fibonacci(n):\n",
    "    \n",
    "    past = 0\n",
    "    current = 0\n",
    "   # current = 1\n",
    "    \n",
    "    for i in range(1,n+1): \n",
    "        if i == 1:\n",
    "            current = 1\n",
    "        else:\n",
    "            hold = current\n",
    "            current = past + current\n",
    "            past = hold\n",
    "            \n",
    "        \n",
    "    return current\n",
    "        \n",
    "        "
   ]
  },
  {
   "cell_type": "code",
   "execution_count": 53,
   "id": "4e651ead",
   "metadata": {},
   "outputs": [
    {
     "data": {
      "text/plain": [
       "13"
      ]
     },
     "execution_count": 53,
     "metadata": {},
     "output_type": "execute_result"
    }
   ],
   "source": [
    "fibonacci(7)"
   ]
  },
  {
   "cell_type": "markdown",
   "id": "45515011",
   "metadata": {},
   "source": [
    "## Exercise 8"
   ]
  },
  {
   "cell_type": "code",
   "execution_count": 67,
   "id": "d1017f28",
   "metadata": {},
   "outputs": [],
   "source": [
    "import math\n",
    "\n",
    "def square_guess(x,n):\n",
    "    \n",
    "    guess = x/2\n",
    "    for i in range(n):\n",
    "        guess = (guess+ (x / guess))/2\n",
    "        \n",
    "    return guess\n"
   ]
  },
  {
   "cell_type": "code",
   "execution_count": 70,
   "id": "0f2066ae",
   "metadata": {},
   "outputs": [
    {
     "data": {
      "text/plain": [
       "11.224972160321824"
      ]
     },
     "execution_count": 70,
     "metadata": {},
     "output_type": "execute_result"
    }
   ],
   "source": [
    "square_guess(126,100)"
   ]
  },
  {
   "cell_type": "code",
   "execution_count": 71,
   "id": "9f0d1e8a",
   "metadata": {},
   "outputs": [
    {
     "data": {
      "text/plain": [
       "0.00022154863612655618"
      ]
     },
     "execution_count": 71,
     "metadata": {},
     "output_type": "execute_result"
    }
   ],
   "source": [
    "diff = square_guess(126,5) - math.sqrt(126)\n",
    "diff"
   ]
  },
  {
   "cell_type": "markdown",
   "id": "ad8a6b73",
   "metadata": {},
   "source": [
    "## Exercise 9"
   ]
  },
  {
   "cell_type": "code",
   "execution_count": 85,
   "id": "98b2cd04",
   "metadata": {},
   "outputs": [],
   "source": [
    "def grade(score):\n",
    "    \n",
    "    if score >= 90:\n",
    "        return \"A\"\n",
    "    elif score >= 80:\n",
    "        return \"B\"\n",
    "    elif score >= 70:\n",
    "        return \"C\"\n",
    "    elif score >= 60:\n",
    "        return \"D\"\n",
    "    elif score < 60 and score >= 0:\n",
    "        return \"F\"\n",
    "    else:\n",
    "        print(\"Something went wrong: Make sure the score is between 0-100\")"
   ]
  },
  {
   "cell_type": "code",
   "execution_count": 87,
   "id": "d00ceff3",
   "metadata": {},
   "outputs": [
    {
     "data": {
      "text/plain": [
       "'B'"
      ]
     },
     "execution_count": 87,
     "metadata": {},
     "output_type": "execute_result"
    }
   ],
   "source": [
    "grade(83)"
   ]
  },
  {
   "cell_type": "markdown",
   "id": "c083cb93",
   "metadata": {},
   "source": [
    "## Exercise 10"
   ]
  },
  {
   "cell_type": "code",
   "execution_count": 103,
   "id": "80c4c80d",
   "metadata": {},
   "outputs": [],
   "source": [
    "def acronym(phrase):\n",
    "    \n",
    "    phrase_list = phrase.split(\" \")\n",
    "    acro = \"\"\n",
    "    \n",
    "    for i in range(len(phrase_list)):\n",
    "        acro += phrase_list[i][0].upper()\n",
    "        \n",
    "    return acro"
   ]
  },
  {
   "cell_type": "code",
   "execution_count": 104,
   "id": "415a3667",
   "metadata": {},
   "outputs": [
    {
     "data": {
      "text/plain": [
       "'HIP'"
      ]
     },
     "execution_count": 104,
     "metadata": {},
     "output_type": "execute_result"
    }
   ],
   "source": [
    "acronym(\"Hi I'm Paul\")"
   ]
  },
  {
   "cell_type": "markdown",
   "id": "b794fa4b",
   "metadata": {},
   "source": [
    "## Exercise 11"
   ]
  },
  {
   "cell_type": "code",
   "execution_count": 108,
   "id": "dd79a963",
   "metadata": {},
   "outputs": [
    {
     "data": {
      "text/plain": [
       "[1, 9, 25, 49, 9801]"
      ]
     },
     "execution_count": 108,
     "metadata": {},
     "output_type": "execute_result"
    }
   ],
   "source": [
    "nums = [1,3,5,7,99]\n",
    "def squareEach(nums):\n",
    "    squared_nums = []\n",
    "    for i in nums:\n",
    "        squared_nums.append(i**2)\n",
    "        \n",
    "    return squared_nums\n",
    "squareEach(nums)"
   ]
  },
  {
   "cell_type": "markdown",
   "id": "46dec70e",
   "metadata": {},
   "source": [
    "## Exercise 12"
   ]
  },
  {
   "cell_type": "code",
   "execution_count": 110,
   "id": "2e24ed44",
   "metadata": {},
   "outputs": [
    {
     "data": {
      "text/plain": [
       "1039"
      ]
     },
     "execution_count": 110,
     "metadata": {},
     "output_type": "execute_result"
    }
   ],
   "source": [
    "numbers = [1,7,76,55,123,777]\n",
    "def sumList(numbers):\n",
    "    total = 0\n",
    "    \n",
    "    for i in numbers:\n",
    "        total += i\n",
    "        \n",
    "    return total\n",
    "sumList(numbers)"
   ]
  },
  {
   "cell_type": "markdown",
   "id": "018bcd06",
   "metadata": {},
   "source": [
    "## Exercise 13"
   ]
  },
  {
   "cell_type": "code",
   "execution_count": 137,
   "id": "58aeb954",
   "metadata": {},
   "outputs": [
    {
     "data": {
      "text/plain": [
       "4"
      ]
     },
     "execution_count": 137,
     "metadata": {},
     "output_type": "execute_result"
    }
   ],
   "source": [
    "strList = ['1','2','3', '777', '88']\n",
    "def toNumbers(strList):\n",
    "    for i in range(len(strList)):\n",
    "        strList[i] = int(strList[i])\n",
    "    return strList\n",
    "toNumbers(strList)\n",
    "strList[0] + strList[2]"
   ]
  },
  {
   "cell_type": "markdown",
   "id": "7893ca87",
   "metadata": {},
   "source": [
    "## Exercise 14"
   ]
  },
  {
   "cell_type": "code",
   "execution_count": 141,
   "id": "0572d3c7",
   "metadata": {},
   "outputs": [
    {
     "name": "stdout",
     "output_type": "stream",
     "text": [
      "The Squares of each number are: [1, 4, 9, 5929, 603729, 15129, 169, 1000000]\n",
      "The Sum of all the numbers is: 1996\n"
     ]
    }
   ],
   "source": [
    "def file_numbers(file_name):\n",
    "    list_numbers = []\n",
    "    infile = open(file_name,\"r\")\n",
    "    for line in infile:\n",
    "        list_numbers.append(line[0:-1])\n",
    "        \n",
    "    list_numbers = toNumbers(list_numbers)\n",
    "    print(f\"The Squares of each number are: {squareEach(list_numbers)}\")\n",
    "    print(f\"The Sum of all the numbers is: {sumList(list_numbers)}\")\n",
    "file_numbers('numbers.txt')"
   ]
  },
  {
   "cell_type": "markdown",
   "id": "800e477e",
   "metadata": {},
   "source": [
    "## Exercise 15"
   ]
  },
  {
   "cell_type": "code",
   "execution_count": 185,
   "id": "bb1cd18e",
   "metadata": {},
   "outputs": [],
   "source": [
    "def draw_face(center, size, win):\n",
    "\n",
    "    ratio = 0\n",
    "    \n",
    "    if size == 1:\n",
    "        ratio = .25\n",
    "    elif size == 2:\n",
    "        ratio = .5\n",
    "    elif size == 3:\n",
    "        ratio = .75\n",
    "    elif size == 4:\n",
    "        ratio = 1\n",
    "    \n",
    "    p1 = Point(center[0], center[1])\n",
    "    p1.draw(win)\n",
    "    \n",
    "    eye_point1 = Point(50*ratio,150*ratio)\n",
    "    eye_point2 = Point(150*ratio,150*ratio)\n",
    "    eye1 = Circle(eye_point1, 5*ratio)\n",
    "    eye1.draw(win)\n",
    "    eye2 = Circle(eye_point2,5*ratio)\n",
    "    eye2.draw(win)\n",
    "    \n",
    "    smile1 = Point(50*ratio,50*ratio)\n",
    "    middle_line = Point(100*ratio, 25*ratio)\n",
    "    smile2 = Point(150*ratio,50*ratio)\n",
    "    smile_line1 = Line(smile1,middle_line)\n",
    "    smile_line1.draw(win)\n",
    "    smile_line2 = Line(middle_line, smile2)\n",
    "    smile_line2.draw(win)\n",
    "    \n",
    "   # win.getMouse()\n",
    "    #win.close()\n",
    "    \n",
    "    \n",
    "def test():\n",
    "    win = GraphWin(\"Faces\")\n",
    "    win.setBackground(\"white\")\n",
    "    win.setCoords(1,1, 200, 200)\n",
    "    draw_face((50,50), 4, win)\n",
    "    draw_face((100,100), 2, win)\n",
    "    draw_face((150,150), 3, win)\n",
    "    win.getMouse()\n",
    "    win.close()\n",
    "test()\n",
    "    "
   ]
  },
  {
   "cell_type": "code",
   "execution_count": 146,
   "id": "7ab74cbe",
   "metadata": {},
   "outputs": [
    {
     "name": "stdout",
     "output_type": "stream",
     "text": [
      "Point(1.0, 2.0)\n"
     ]
    }
   ],
   "source": [
    "center = (1,2)\n",
    "p1 = Point(center[0], center[1])\n",
    "print(p1)"
   ]
  },
  {
   "cell_type": "markdown",
   "id": "44892982",
   "metadata": {},
   "source": [
    "## Exercise 16"
   ]
  },
  {
   "cell_type": "code",
   "execution_count": 1,
   "id": "5f0a8827",
   "metadata": {},
   "outputs": [],
   "source": [
    "# c06ex15.py\n",
    "#   face drawing program\n",
    "\n",
    "\n",
    "from graphics import *\n",
    "\n",
    "def drawFace(center, size, window):\n",
    "    eyeSize = 0.15 * size\n",
    "    eyeOff = size / 3.0\n",
    "    mouthSize = 0.8 * size\n",
    "    mouthOff = size / 2.0\n",
    "    head = Circle(center, size)\n",
    "    head.setFill(\"yellow\")\n",
    "    head.draw(window)\n",
    "    leftEye = Circle(center, eyeSize)\n",
    "    leftEye.move(-eyeOff, -eyeOff)\n",
    "    rightEye = Circle(center, eyeSize)\n",
    "    rightEye.move(eyeOff, -eyeOff)\n",
    "    leftEye.draw(window)\n",
    "    rightEye.draw(window)\n",
    "    p1 = center.clone()\n",
    "    p1.move(-mouthSize/2, mouthOff)\n",
    "    p2 = center.clone()\n",
    "    p2.move(mouthSize/2, mouthOff)\n",
    "    mouth = Line(p1,p2)\n",
    "    mouth.draw(window)\n",
    "\n",
    "    \n",
    "def hide_faces(pic_name, face_count):\n",
    "    pic = Image(Point(100,100), pic_name)\n",
    "    win = GraphWin(\"\",pic.getWidth(),pic.getHeight())\n",
    "    win.setBackground(\"white\")\n",
    "    win.setCoords(0,0, 200, 200)\n",
    "    pic.draw(win)\n",
    "    #win.getMouse()\n",
    "    \n",
    "    for i in range(face_count):\n",
    "        center = win.getMouse()\n",
    "        size = win.getMouse()\n",
    "        drawFace(Point(center.getX(), center.getY()), -10 ,win)\n",
    "        \n",
    "    win.getMouse()\n",
    "    win.close()\n",
    "hide_faces(\"people.gif\",5)"
   ]
  },
  {
   "cell_type": "markdown",
   "id": "252d5bdb",
   "metadata": {},
   "source": [
    "## Exercise 17"
   ]
  },
  {
   "cell_type": "code",
   "execution_count": 38,
   "id": "3c021923",
   "metadata": {},
   "outputs": [],
   "source": [
    "def moveTo(shape, new_center, win):\n",
    "    win.setCoords(0,0, 200, 200)\n",
    "    center = shape.getCenter()\n",
    "    dx = new_ center.getX() - center.getX()\n",
    "    dy = new_center.getY() - center.getY()\n",
    "    shape.move(dx,dy)\n",
    "       "
   ]
  },
  {
   "cell_type": "code",
   "execution_count": 44,
   "id": "299e700c",
   "metadata": {},
   "outputs": [],
   "source": [
    "def main():\n",
    "    win = GraphWin(\"\",500,500)\n",
    "    win.setBackground(\"white\")\n",
    "    win.setCoords(0,0, 200, 200)\n",
    "    circ = Circle(Point(100,100), 5)\n",
    "    circ.draw(win)\n",
    "    \n",
    "    for i in range(10):\n",
    "        click = win.getMouse()\n",
    "        moveTo(circ,click )\n",
    "    win.getMouse()\n",
    "    win.close()\n",
    "main()"
   ]
  }
 ],
 "metadata": {
  "kernelspec": {
   "display_name": "Python 3 (ipykernel)",
   "language": "python",
   "name": "python3"
  },
  "language_info": {
   "codemirror_mode": {
    "name": "ipython",
    "version": 3
   },
   "file_extension": ".py",
   "mimetype": "text/x-python",
   "name": "python",
   "nbconvert_exporter": "python",
   "pygments_lexer": "ipython3",
   "version": "3.9.13"
  }
 },
 "nbformat": 4,
 "nbformat_minor": 5
}
