{
 "cells": [
  {
   "cell_type": "markdown",
   "id": "f4af9378",
   "metadata": {},
   "source": [
    "# Loop Structures and Booleans"
   ]
  },
  {
   "cell_type": "markdown",
   "id": "c0626368",
   "metadata": {},
   "source": [
    "## 8.2 Indefinite Loops"
   ]
  },
  {
   "cell_type": "markdown",
   "id": "45b3750b",
   "metadata": {},
   "source": [
    "An Indefinite loop will continue until some parameter is met. Often, we will use Boolean objects to determine if our while loop will continue to execute or terminate. If the test for this is done at the beginning of the loop we call it a ***pre-test Loop***."
   ]
  },
  {
   "cell_type": "code",
   "execution_count": 4,
   "id": "b0966327",
   "metadata": {},
   "outputs": [
    {
     "name": "stdout",
     "output_type": "stream",
     "text": [
      "1\n",
      "2\n",
      "3\n",
      "4\n",
      "5\n"
     ]
    }
   ],
   "source": [
    "keep_going = True\n",
    "x = 0\n",
    "while keep_going == True:\n",
    "    x += 1\n",
    "    print(x)\n",
    "    if x == 5:\n",
    "        keep_going = False\n"
   ]
  },
  {
   "cell_type": "markdown",
   "id": "27bcbf00",
   "metadata": {},
   "source": [
    "## 8.3 Common Loop Patterns"
   ]
  },
  {
   "cell_type": "markdown",
   "id": "ac4c099d",
   "metadata": {},
   "source": [
    "**Interactive Loops:** Allows a user to repeat certain portions of a program on demand."
   ]
  },
  {
   "cell_type": "code",
   "execution_count": 5,
   "id": "6ad1ebf3",
   "metadata": {},
   "outputs": [
    {
     "name": "stdout",
     "output_type": "stream",
     "text": [
      "Enter a number >> 5\n",
      "Do you have more numbers (yes or no)? yes\n",
      "Enter a number >> 2\n",
      "Do you have more numbers (yes or no)? y\n",
      "Enter a number >> 22\n",
      "Do you have more numbers (yes or no)? yeeeeaaa\n",
      "Enter a number >> 22\n",
      "Do you have more numbers (yes or no)? n\n",
      "\n",
      "The average of the numbers is 12.75\n"
     ]
    }
   ],
   "source": [
    "# average2.py\n",
    "\n",
    "def main():\n",
    "    total = 0.0\n",
    "    count = 0\n",
    "    moredata = \"yes\"\n",
    "    while moredata[0] == \"y\":\n",
    "        x = float(input(\"Enter a number >> \"))\n",
    "        total = total + x\n",
    "        count = count + 1\n",
    "        moredata = input(\"Do you have more numbers (yes or no)? \")\n",
    "    print(\"\\nThe average of the numbers is\", total / count)\n",
    "\n",
    "main()"
   ]
  },
  {
   "cell_type": "markdown",
   "id": "a8e18427",
   "metadata": {},
   "source": [
    "**Sentinel Loop:** Continues to process Data until reaching a special value that signals the end. The special value is called the ***Sentinel***."
   ]
  },
  {
   "cell_type": "code",
   "execution_count": 8,
   "id": "b070f2a3",
   "metadata": {},
   "outputs": [
    {
     "name": "stdout",
     "output_type": "stream",
     "text": [
      "Enter a number (negative to quit) >> 2\n",
      "Enter a number (negative to quit) >> 4\n",
      "Enter a number (negative to quit) >> 5\n",
      "Enter a number (negative to quit) >> 6\n",
      "Enter a number (negative to quit) >> 7\n",
      "Enter a number (negative to quit) >> 22\n",
      "Enter a number (negative to quit) >> 1.5\n",
      "Enter a number (negative to quit) >> -1\n",
      "\n",
      "The average of the numbers is 6.79\n"
     ]
    }
   ],
   "source": [
    "# average3.py\n",
    "\n",
    "def main():\n",
    "    total = 0.0\n",
    "    count = 0\n",
    "    x = float(input(\"Enter a number (negative to quit) >> \"))\n",
    "    while x >= 0:\n",
    "        total = total + x\n",
    "        count = count + 1\n",
    "        x = float(input(\"Enter a number (negative to quit) >> \"))\n",
    "    print(\"\\nThe average of the numbers is\", round(total / count,2))\n",
    "\n",
    "main()\n"
   ]
  },
  {
   "cell_type": "markdown",
   "id": "e6886a9c",
   "metadata": {},
   "source": [
    "Notice this version doesn't constantly ask the user to input yes or no."
   ]
  },
  {
   "cell_type": "code",
   "execution_count": 9,
   "id": "fcdbab76",
   "metadata": {},
   "outputs": [
    {
     "name": "stdout",
     "output_type": "stream",
     "text": [
      "Enter a number (<Enter> to quit) >> 22\n",
      "Enter a number (<Enter> to quit) >> -1\n",
      "Enter a number (<Enter> to quit) >> 22\n",
      "Enter a number (<Enter> to quit) >> -55\n",
      "Enter a number (<Enter> to quit) >> 100\n",
      "Enter a number (<Enter> to quit) >> \n",
      "\n",
      "The average of the numbers is 17.6\n"
     ]
    }
   ],
   "source": [
    "# average4.py\n",
    "\n",
    "def main():\n",
    "    total = 0.0\n",
    "    count = 0\n",
    "    xStr = input(\"Enter a number (<Enter> to quit) >> \")\n",
    "    while xStr != \"\":\n",
    "        x = float(xStr)\n",
    "        total = total + x\n",
    "        count = count + 1\n",
    "        xStr = input(\"Enter a number (<Enter> to quit) >> \")\n",
    "    print(\"\\nThe average of the numbers is\", total / count)\n",
    "\n",
    "main()\n"
   ]
  },
  {
   "cell_type": "markdown",
   "id": "f69c4e4d",
   "metadata": {},
   "source": [
    "This version is even better since we can now also use negative numbers"
   ]
  },
  {
   "cell_type": "code",
   "execution_count": null,
   "id": "78576385",
   "metadata": {},
   "outputs": [],
   "source": []
  }
 ],
 "metadata": {
  "kernelspec": {
   "display_name": "Python 3 (ipykernel)",
   "language": "python",
   "name": "python3"
  },
  "language_info": {
   "codemirror_mode": {
    "name": "ipython",
    "version": 3
   },
   "file_extension": ".py",
   "mimetype": "text/x-python",
   "name": "python",
   "nbconvert_exporter": "python",
   "pygments_lexer": "ipython3",
   "version": "3.9.13"
  }
 },
 "nbformat": 4,
 "nbformat_minor": 5
}
