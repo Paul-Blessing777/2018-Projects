{
 "cells": [
  {
   "cell_type": "markdown",
   "id": "58e90fc5",
   "metadata": {},
   "source": [
    "# Decision Structures"
   ]
  },
  {
   "cell_type": "markdown",
   "id": "de73e5bd",
   "metadata": {},
   "source": [
    "## 7.1 Simple Decisions"
   ]
  },
  {
   "cell_type": "markdown",
   "id": "34e82624",
   "metadata": {},
   "source": [
    "**Decision Structures:** Statements that allow a program to execute different sequences of instructions for different cases, effectively allowing the program to \"Choose\" an appropriate course of action"
   ]
  },
  {
   "cell_type": "code",
   "execution_count": 1,
   "id": "68b6443b",
   "metadata": {},
   "outputs": [
    {
     "name": "stdout",
     "output_type": "stream",
     "text": [
      "What is the Celsius temperature? 12\n",
      "The temperature is 53.6 degrees Fahrenheit.\n"
     ]
    }
   ],
   "source": [
    "# convert2.py\n",
    "#      A program to convert Celsius temps to Fahrenheit.\n",
    "#      This version issues heat and cold warnings.\n",
    "\n",
    "def main():\n",
    "    celsius = float(input(\"What is the Celsius temperature? \"))\n",
    "    fahrenheit = 9/5 * celsius + 32\n",
    "    print(\"The temperature is\", fahrenheit, \"degrees Fahrenheit.\")\n",
    "\n",
    "    # Print warnings for extreme temps\n",
    "    if fahrenheit > 90:\n",
    "        print(\"It's really hot out there. Be careful!\")\n",
    "    if fahrenheit < 30:\n",
    "        print(\"Brrrrr. Be sure to dress warmly!\")\n",
    "\n",
    "main()"
   ]
  },
  {
   "cell_type": "markdown",
   "id": "6a2d868c",
   "metadata": {},
   "source": [
    "#### Relational Operators in Python"
   ]
  },
  {
   "cell_type": "code",
   "execution_count": 2,
   "id": "73a59caa",
   "metadata": {},
   "outputs": [],
   "source": [
    "# < Less Than\n",
    "# <= Less than or equal to\n",
    "# == Equal to\n",
    "# > Greater than\n",
    "# >= Greater than or equal to\n",
    "# != Not Equal to"
   ]
  },
  {
   "cell_type": "markdown",
   "id": "f9b5744f",
   "metadata": {},
   "source": [
    "#### Boolean Variables"
   ]
  },
  {
   "cell_type": "code",
   "execution_count": 3,
   "id": "0821a2fc",
   "metadata": {},
   "outputs": [],
   "source": [
    "boolean = 3 > 4"
   ]
  },
  {
   "cell_type": "code",
   "execution_count": 5,
   "id": "e4147fca",
   "metadata": {},
   "outputs": [
    {
     "name": "stdout",
     "output_type": "stream",
     "text": [
      "False\n",
      "<class 'bool'>\n"
     ]
    }
   ],
   "source": [
    "print(boolean)\n",
    "print(type(boolean))"
   ]
  },
  {
   "cell_type": "code",
   "execution_count": 6,
   "id": "21d3a6d0",
   "metadata": {},
   "outputs": [
    {
     "data": {
      "text/plain": [
       "'__main__'"
      ]
     },
     "execution_count": 6,
     "metadata": {},
     "output_type": "execute_result"
    }
   ],
   "source": [
    "__name__"
   ]
  },
  {
   "cell_type": "markdown",
   "id": "682c20f7",
   "metadata": {},
   "source": [
    "#### Book Note"
   ]
  },
  {
   "cell_type": "markdown",
   "id": "39eca109",
   "metadata": {},
   "source": [
    "There are situations where we may be importing our code and would prefer the program isn't executed upon that importation. We can use the __name__ variable to avoid this. If we do the following conditional code block below; it gurantees that main will automatically run when the program is invoked directly, but it will not run if the module is imported. You will see a line of code similar to this at the bottom of virtually every Python program."
   ]
  },
  {
   "cell_type": "code",
   "execution_count": 7,
   "id": "69e6c68d",
   "metadata": {},
   "outputs": [
    {
     "name": "stdout",
     "output_type": "stream",
     "text": [
      "What is the Celsius temperature? 22\n",
      "The temperature is 71.6 degrees Fahrenheit.\n"
     ]
    }
   ],
   "source": [
    "if __name__ == \"__main__\":\n",
    "    main()"
   ]
  },
  {
   "cell_type": "markdown",
   "id": "1e72b475",
   "metadata": {},
   "source": [
    "## 7.2 Two-Way Decisions"
   ]
  },
  {
   "cell_type": "code",
   "execution_count": 8,
   "id": "379fa09a",
   "metadata": {},
   "outputs": [
    {
     "name": "stdout",
     "output_type": "stream",
     "text": [
      "This program finds the real solutions to a quadratic\n",
      "\n",
      "Enter coefficient a: 1\n",
      "Enter coefficient b: 2\n",
      "Enter coefficient c: 3\n",
      "\n",
      "The equation has no real roots!\n"
     ]
    }
   ],
   "source": [
    "# quadratic3.py\n",
    "import math\n",
    "\n",
    "def main():\n",
    "    print(\"This program finds the real solutions to a quadratic\\n\")\n",
    "    a = float(input(\"Enter coefficient a: \"))\n",
    "    b = float(input(\"Enter coefficient b: \"))\n",
    "    c = float(input(\"Enter coefficient c: \"))\n",
    "\n",
    "    discrim = b * b - 4 * a * c\n",
    "    if discrim < 0:\n",
    "        print(\"\\nThe equation has no real roots!\")\n",
    "    else:\n",
    "        discRoot = math.sqrt(b * b - 4 * a * c)\n",
    "        root1 = (-b + discRoot) / (2 * a)\n",
    "        root2 = (-b - discRoot) / (2 * a)\n",
    "        print(\"\\nThe solutions are:\", root1, root2)\n",
    "main()"
   ]
  },
  {
   "cell_type": "markdown",
   "id": "049f293d",
   "metadata": {},
   "source": [
    "If the logic of an if statement isn't meant we can have an else statement do something instead"
   ]
  },
  {
   "cell_type": "markdown",
   "id": "ecc6adaa",
   "metadata": {},
   "source": [
    "## 7.3 Multi-Way Decisions"
   ]
  },
  {
   "cell_type": "code",
   "execution_count": 9,
   "id": "5fb37384",
   "metadata": {},
   "outputs": [
    {
     "name": "stdout",
     "output_type": "stream",
     "text": [
      "This program finds the real solutions to a quadratic\n",
      "\n",
      "Enter coefficient a: 1\n",
      "Enter coefficient b: 2\n",
      "Enter coefficient c: 1\n",
      "\n",
      "There is a double root at -1.0\n"
     ]
    }
   ],
   "source": [
    "# quadratic4.py\n",
    "import math  \n",
    "\n",
    "def main():\n",
    "    print(\"This program finds the real solutions to a quadratic\\n\")\n",
    "    a = float(input(\"Enter coefficient a: \"))\n",
    "    b = float(input(\"Enter coefficient b: \"))\n",
    "    c = float(input(\"Enter coefficient c: \"))\n",
    "\n",
    "    discrim = b * b - 4 * a * c    \n",
    "    if discrim < 0:\n",
    "        print(\"\\nThe equation has no real roots!\")\n",
    "    elif discrim == 0:\n",
    "        root = -b / (2 * a)\n",
    "        print(\"\\nThere is a double root at\", root)\n",
    "    else:\n",
    "        discRoot = math.sqrt(b * b - 4 * a * c)\n",
    "        root1 = (-b + discRoot) / (2 * a)\n",
    "        root2 = (-b - discRoot) / (2 * a)\n",
    "        print(\"\\nThe solutions are:\", root1, root2 )\n",
    "main()"
   ]
  },
  {
   "cell_type": "markdown",
   "id": "a4d43956",
   "metadata": {},
   "source": [
    "We can also use if-elif-else statements to handle many possible outcomes"
   ]
  },
  {
   "cell_type": "markdown",
   "id": "e2f01bbe",
   "metadata": {},
   "source": [
    "## 7.4 Exception Handling"
   ]
  },
  {
   "cell_type": "markdown",
   "id": "a7367ab4",
   "metadata": {},
   "source": [
    "Exception Handling is a mechanism that allows a programmer to write code that catches and deals with errors that arise when the program is running. Rather than explicitly checking that each step in the program was successful, a program with exception handling can in essence say \"Do these Steps, and if a problem comes up, handle it in this way.\""
   ]
  },
  {
   "cell_type": "markdown",
   "id": "ec6ba628",
   "metadata": {},
   "source": [
    "We can perform error handling with try and catch statements"
   ]
  },
  {
   "cell_type": "code",
   "execution_count": 11,
   "id": "2d2b391f",
   "metadata": {},
   "outputs": [
    {
     "name": "stdout",
     "output_type": "stream",
     "text": [
      "This program finds the real solutions to a quadratic\n",
      "\n",
      "Enter coefficient a: 1\n",
      "Enter coefficient b: 2\n",
      "Enter coefficient c: 3\n",
      "No Real Roots\n"
     ]
    }
   ],
   "source": [
    "# quadratic6.py\n",
    "import math \n",
    "\n",
    "def main():\n",
    "    print(\"This program finds the real solutions to a quadratic\\n\")\n",
    "\n",
    "    try:\n",
    "        a = float(input(\"Enter coefficient a: \"))\n",
    "        b = float(input(\"Enter coefficient b: \"))\n",
    "        c = float(input(\"Enter coefficient c: \"))\n",
    "        discRoot = math.sqrt(b * b - 4 * a * c)\n",
    "        root1 = (-b + discRoot) / (2 * a)\n",
    "        root2 = (-b - discRoot) / (2 * a)\n",
    "        print(\"\\nThe solutions are:\", root1, root2 )\n",
    "    except ValueError as excObj:\n",
    "        if str(excObj) == \"math domain error\":\n",
    "            print(\"No Real Roots\")\n",
    "        else:\n",
    "            print(\"Invalid coefficient given\")\n",
    "    except:\n",
    "        print(\"\\nSomething went wrong, sorry!\")\n",
    "\n",
    "main()\n"
   ]
  },
  {
   "cell_type": "markdown",
   "id": "0896f0bc",
   "metadata": {},
   "source": [
    "## 7.5 Study in Design: Max of Three"
   ]
  },
  {
   "cell_type": "code",
   "execution_count": 37,
   "id": "e62d4edc",
   "metadata": {},
   "outputs": [
    {
     "name": "stdout",
     "output_type": "stream",
     "text": [
      "Please provide three numbers: 2,1,2\n",
      "2 and 2 are the same and the largest\n"
     ]
    }
   ],
   "source": [
    "## Challenge: Make a function that takes three values and return the largest.\n",
    "def three_nums():\n",
    "    list_nums = []\n",
    "    x1,x2,x3 = eval(input(\"Please provide three numbers: \"))\n",
    "    \n",
    "    list_nums.append(x1)\n",
    "    list_nums.append(x2)\n",
    "    list_nums.append(x3)\n",
    "    return max(list_nums)\n",
    "#three_nums()\n",
    "\n",
    "# Now I'll do it with decision structes like the book would want\n",
    "def three_nums2():\n",
    "    try:\n",
    "        x1,x2,x3 = eval(input(\"Please provide three numbers: \"))\n",
    "    \n",
    "\n",
    "        if x1 > x2 and x1 > x3:\n",
    "            print(f\"{x1} is the largest number\")\n",
    "        elif x2 > x1 and x2 > x3:\n",
    "            print(f\"{x2} is the greatest number\")\n",
    "        elif x3 > x1 and x3 > x2:\n",
    "            print(f\"{x3} is the greatest number\")\n",
    "        elif x1 == x2 > x3:\n",
    "            print(f\"{x1} and {x2} are the same and the largest\")\n",
    "        elif x2 == x3 > x1:\n",
    "            print(f\"{x2} and {x3} are the same and the largest\")\n",
    "        elif x1 == x3 > x2:\n",
    "            print(f\"{x1} and {x3} are the same and the largest\")\n",
    "    except NameError:\n",
    "        print(\"You must only enter numbers!\")\n",
    "        \n",
    "three_nums2()\n",
    "        "
   ]
  },
  {
   "cell_type": "code",
   "execution_count": 43,
   "id": "d5b2828e",
   "metadata": {},
   "outputs": [
    {
     "name": "stdout",
     "output_type": "stream",
     "text": [
      "How many numbers are there? 2\n",
      "Enter a number >> 33\n",
      "Enter a number >> 777\n",
      "The largest value is 777.0\n"
     ]
    }
   ],
   "source": [
    "# program: maxn.py\n",
    "#   Finds the maximum of a series of numbers\n",
    "\n",
    "def main():\n",
    "    n = int(input(\"How many numbers are there? \"))\n",
    "    \n",
    "    # Set max to be the first value\n",
    "    max = float(input(\"Enter a number >> \"))\n",
    "    \n",
    "    # Now compare the n-1 successive values\n",
    "    for i in range(n-1): \n",
    "        x = float(input(\"Enter a number >> \"))\n",
    "        if x > max:\n",
    "            max = x\n",
    "\n",
    "    print(\"The largest value is\", max)\n",
    "\n",
    "main()"
   ]
  },
  {
   "cell_type": "markdown",
   "id": "40aa11bc",
   "metadata": {},
   "source": [
    "## 7.6 Chapter Summary"
   ]
  },
  {
   "cell_type": "markdown",
   "id": "28505739",
   "metadata": {},
   "source": [
    "1. Decision Structures are control structures that allow a program to execute different sequences of instructions for different cases.\n",
    "2. Decisions are implemented in Python with ***if*** statements. Simple decisions are implemented with a plain ***if***. Two-way decisions generally use an ***if-else***. Multi-way decisions are implemented with ***if-elif-else***."
   ]
  },
  {
   "cell_type": "markdown",
   "id": "c1b51f3d",
   "metadata": {},
   "source": [
    "# Exercises"
   ]
  },
  {
   "cell_type": "markdown",
   "id": "551f8065",
   "metadata": {},
   "source": [
    "### 1"
   ]
  },
  {
   "cell_type": "code",
   "execution_count": 47,
   "id": "d7fb6763",
   "metadata": {},
   "outputs": [
    {
     "name": "stdout",
     "output_type": "stream",
     "text": [
      "Total hours 50: overtime 10 hours, normal pay $400, overtime pay $150.0 total pay $550.0\n"
     ]
    }
   ],
   "source": [
    "def total_wages(hours,wage):\n",
    "    \n",
    "    overtime = 0\n",
    "    \n",
    "    if hours > 40:\n",
    "        overtime = hours - 40\n",
    "        hours = 40\n",
    "        \n",
    "    normal_pay = (hours * wage)\n",
    "    overtime_pay = (overtime * (wage+(wage*.5))) \n",
    "    total =  normal_pay + overtime_pay\n",
    "    \n",
    "    print(f\"Total hours {hours+overtime}: overtime {overtime} hours, normal pay ${normal_pay}, overtime pay ${overtime_pay} total pay ${total}\")\n",
    "total_wages(50,10)"
   ]
  },
  {
   "cell_type": "markdown",
   "id": "e65a81b9",
   "metadata": {},
   "source": [
    "### 2"
   ]
  },
  {
   "cell_type": "code",
   "execution_count": 56,
   "id": "53b58a13",
   "metadata": {},
   "outputs": [],
   "source": [
    "def quiz_grade(score):\n",
    "\n",
    "    try: \n",
    "        if score == 5:\n",
    "            grade = \"A\"\n",
    "        elif score == 4:\n",
    "            grade = \"B\"\n",
    "        elif score == 3:\n",
    "            grade = \"C\"\n",
    "        elif score == 2:\n",
    "            grade = \"D\"\n",
    "        elif score == 1 or score == 0:\n",
    "            grade = \"F\"\n",
    "        return grade\n",
    "    except:\n",
    "        print(\"Something went wrong\")\n",
    "        \n",
    "\n",
    "        \n"
   ]
  },
  {
   "cell_type": "code",
   "execution_count": 60,
   "id": "794072e7",
   "metadata": {},
   "outputs": [
    {
     "data": {
      "text/plain": [
       "'A'"
      ]
     },
     "execution_count": 60,
     "metadata": {},
     "output_type": "execute_result"
    }
   ],
   "source": [
    "quiz_grade(5)"
   ]
  },
  {
   "cell_type": "markdown",
   "id": "af9186ad",
   "metadata": {},
   "source": [
    "### 3"
   ]
  },
  {
   "cell_type": "code",
   "execution_count": 75,
   "id": "a525904b",
   "metadata": {},
   "outputs": [],
   "source": [
    "def test_grades(score):\n",
    "    \n",
    "    try: \n",
    "        if score < 101 and score >= 0:\n",
    "            if score <= 100 and score >= 90:\n",
    "                grade = \"A\"\n",
    "            elif score >= 80:\n",
    "                grade = \"B\"\n",
    "            elif score >= 70:\n",
    "                grade = \"C\"\n",
    "            elif score >= 60:\n",
    "                grade = \"D\"\n",
    "            elif score < 60:\n",
    "                grade = \"F\"\n",
    "            return grade\n",
    "        else:\n",
    "            print(\"That number is over 100 or less than 0!\")\n",
    "    except:\n",
    "        print(\"Something went wrong\")"
   ]
  },
  {
   "cell_type": "code",
   "execution_count": 78,
   "id": "639e992b",
   "metadata": {},
   "outputs": [
    {
     "data": {
      "text/plain": [
       "'F'"
      ]
     },
     "execution_count": 78,
     "metadata": {},
     "output_type": "execute_result"
    }
   ],
   "source": [
    "test_grades(55)"
   ]
  },
  {
   "cell_type": "markdown",
   "id": "55506e06",
   "metadata": {},
   "source": [
    "### 4"
   ]
  },
  {
   "cell_type": "code",
   "execution_count": 93,
   "id": "c2f36bdc",
   "metadata": {},
   "outputs": [],
   "source": [
    "def class_standing(credits):\n",
    "    \n",
    "    try:\n",
    "        standing = \"\"\n",
    "        if credits < 150 and credits >= 0:\n",
    "            if credits < 7:\n",
    "                standing = \"Freshman\"\n",
    "            elif credits >= 7 and credits < 16:\n",
    "                standing = \"Sophomore\"\n",
    "            elif credits >= 16 and credits < 26:\n",
    "                standing = \"Junior\"\n",
    "            elif credits >= 26:\n",
    "                standing = \"Senior\"\n",
    "\n",
    "            return standing\n",
    "        else:\n",
    "            print(\"Number provided is over 150 credit limit!\")\n",
    "    except:\n",
    "        print(\"Error: Make sure you provide a number\")\n"
   ]
  },
  {
   "cell_type": "code",
   "execution_count": 96,
   "id": "d06774bb",
   "metadata": {},
   "outputs": [
    {
     "data": {
      "text/plain": [
       "'Senior'"
      ]
     },
     "execution_count": 96,
     "metadata": {},
     "output_type": "execute_result"
    }
   ],
   "source": [
    "class_standing(77)"
   ]
  },
  {
   "cell_type": "markdown",
   "id": "2d606b92",
   "metadata": {},
   "source": [
    "### 5"
   ]
  },
  {
   "cell_type": "code",
   "execution_count": 103,
   "id": "2c078590",
   "metadata": {},
   "outputs": [],
   "source": [
    "def bmi(pounds,inches):\n",
    "    \n",
    "    bmi_score = round((pounds * 720) / (inches**2),0)\n",
    "    \n",
    "    if bmi_score >= 19 and bmi_score <= 25:\n",
    "        print(f\"Your BMI:{bmi_score} is healthy\")\n",
    "    elif bmi_score < 19:\n",
    "        print(f\"Your BMI:{bmi_score} is too low\")\n",
    "    elif bmi_score > 25:\n",
    "        print(f\"Your BMI:{bmi_score} is too high\")"
   ]
  },
  {
   "cell_type": "code",
   "execution_count": 104,
   "id": "88ad19c6",
   "metadata": {},
   "outputs": [
    {
     "name": "stdout",
     "output_type": "stream",
     "text": [
      "Your BMI:28.0 is too high\n"
     ]
    }
   ],
   "source": [
    "bmi(183,69)"
   ]
  },
  {
   "cell_type": "markdown",
   "id": "1d72326b",
   "metadata": {},
   "source": [
    "### 6"
   ]
  },
  {
   "cell_type": "code",
   "execution_count": 114,
   "id": "20a91743",
   "metadata": {},
   "outputs": [],
   "source": [
    "def speeding(speed_limit, speed):\n",
    "    ticket = 0\n",
    "    fine = 0\n",
    "    \n",
    "    if speed <= speed_limit:\n",
    "        print(f\"The Speed: {speed} was under the limit and legal\")\n",
    "    else:\n",
    "        if speed > speed_limit and speed <= 90:\n",
    "            fine = round(((speed - speed_limit) * 5) + 50,2)\n",
    "            print(f\"Speed: {speed} was over the limit {speed_limit} and the fine is ${fine}\")\n",
    "        else:\n",
    "            fine = round(((speed - speed_limit) * 5) + 50 + 200,2)\n",
    "            print(f\"Speed: {speed} was over the limit {speed_limit} and over the 90 mile special penalty and the fine is ${fine}\")\n",
    "            \n",
    "            "
   ]
  },
  {
   "cell_type": "code",
   "execution_count": 118,
   "id": "82ea490b",
   "metadata": {},
   "outputs": [
    {
     "name": "stdout",
     "output_type": "stream",
     "text": [
      "Speed: 100 was over the limit 50 and over the 90 mile special penalty and the fine is $500\n",
      "Speed: 50 was over the limit 45 and the fine is $75\n",
      "The Speed: 33 was under the limit and legal\n"
     ]
    }
   ],
   "source": [
    "speeding(50,100)\n",
    "speeding(45,50)\n",
    "speeding(50,33)"
   ]
  },
  {
   "cell_type": "markdown",
   "id": "1da153de",
   "metadata": {},
   "source": [
    "### 7"
   ]
  },
  {
   "cell_type": "code",
   "execution_count": 128,
   "id": "5208ba10",
   "metadata": {},
   "outputs": [],
   "source": [
    "def babysitter_pay(start,end):\n",
    "    total_time = end-start\n",
    "    pay = 0\n",
    "    \n",
    "    if end < 21:\n",
    "        pay = round(total_time * 2.5,2)\n",
    "    elif end >= 21:\n",
    "        normal_pay = (21 - start) * 2.5\n",
    "        low_pay = (end - 21) * 1.75\n",
    "        late_hours = round(end-21,2)\n",
    "        pay = round(normal_pay + low_pay,2)\n",
    "        \n",
    "    print(f\"Sitter worked {total_time} hours; they worked {late_hours} hours after 9pm for a pay of ${pay}\")"
   ]
  },
  {
   "cell_type": "code",
   "execution_count": 130,
   "id": "c8c3f30b",
   "metadata": {},
   "outputs": [
    {
     "name": "stdout",
     "output_type": "stream",
     "text": [
      "Sitter worked 13.5 hours; they worked 0.5 after 9pm for a pay of $33.38\n"
     ]
    }
   ],
   "source": [
    "babysitter_pay(8,21.5)"
   ]
  },
  {
   "cell_type": "markdown",
   "id": "d2f579fe",
   "metadata": {},
   "source": [
    "### 8"
   ]
  },
  {
   "cell_type": "code",
   "execution_count": 131,
   "id": "42c50873",
   "metadata": {},
   "outputs": [],
   "source": [
    "def congress_eligibility(age,years_citizen):\n",
    "    \n",
    "    if age >= 30 and years_citizen >= 9:\n",
    "        print(\"Eligible for Senate\")\n",
    "    elif age >= 25 and years_citizen >= 7:\n",
    "        print(\"Eligible for House\")\n",
    "    else:\n",
    "        print(\"Not Eligible for Senate or House sorry!\")"
   ]
  },
  {
   "cell_type": "code",
   "execution_count": 136,
   "id": "ba727515",
   "metadata": {},
   "outputs": [
    {
     "name": "stdout",
     "output_type": "stream",
     "text": [
      "Not Eligible for Senate or House sorry!\n",
      "Eligible for House\n",
      "Eligible for Senate\n"
     ]
    }
   ],
   "source": [
    "congress_eligibility(22,22)\n",
    "congress_eligibility(28,28)\n",
    "congress_eligibility(30,30)"
   ]
  },
  {
   "cell_type": "markdown",
   "id": "be93768e",
   "metadata": {},
   "source": [
    "### 9"
   ]
  },
  {
   "cell_type": "code",
   "execution_count": 150,
   "id": "27907b17",
   "metadata": {},
   "outputs": [],
   "source": [
    "def easter(year):\n",
    "    \n",
    "    if year >= 1982 and year <= 2048:\n",
    "        a = year % 19\n",
    "        b = year % 4\n",
    "        c = year % 7\n",
    "        d = (19*a+24) % 30\n",
    "        e = (2*b + 4*c +6*d +5) % 7\n",
    "        date = 22 + d + e\n",
    "        \n",
    "        if date > 31:\n",
    "            april_date = date - 31\n",
    "            print(f\"Easter is April: {april_date}\")\n",
    "        else:\n",
    "            print(f\"Easter is March: {date}\")\n",
    "    else:\n",
    "        print(f\"Year:{year} is out of the range for this calculation\")\n",
    "        \n",
    "    "
   ]
  },
  {
   "cell_type": "code",
   "execution_count": 153,
   "id": "780364b7",
   "metadata": {},
   "outputs": [
    {
     "name": "stdout",
     "output_type": "stream",
     "text": [
      "Easter is March: 31\n"
     ]
    }
   ],
   "source": [
    "easter(2024)"
   ]
  },
  {
   "cell_type": "markdown",
   "id": "a3165f96",
   "metadata": {},
   "source": [
    "## 10"
   ]
  },
  {
   "cell_type": "code",
   "execution_count": 156,
   "id": "db83a4ef",
   "metadata": {},
   "outputs": [],
   "source": [
    "def easter2(year):\n",
    "    \n",
    "    if year >= 1900 and year <= 2099:\n",
    "        april_date = 0\n",
    "        \n",
    "        a = year % 19\n",
    "        b = year % 4\n",
    "        c = year % 7\n",
    "        d = (19*a+24) % 30\n",
    "        e = (2*b + 4*c +6*d +5) % 7\n",
    "        date = 22 + d + e\n",
    "        \n",
    "        if year == 1954 or year == 1981 or year == 2049 or year == 2076:\n",
    "            date -= 7\n",
    "            if date > 31:\n",
    "                april_date = date - 31\n",
    "                print(f\"Easter is April: {april_date}\")\n",
    "            else:\n",
    "                print(f\"Easter is March: {date}\")\n",
    "        else:\n",
    "            if date > 31:\n",
    "                april_date = date - 31\n",
    "                print(f\"Easter is April: {april_date}\")\n",
    "            else:\n",
    "                print(f\"Easter is March: {date}\")\n",
    "    else:\n",
    "        print(f\"Year:{year} is out of the range for this calculation\")\n",
    "                \n",
    "            \n",
    "        \n",
    "       "
   ]
  },
  {
   "cell_type": "code",
   "execution_count": 160,
   "id": "cb84b367",
   "metadata": {},
   "outputs": [
    {
     "name": "stdout",
     "output_type": "stream",
     "text": [
      "Easter is April: 19\n"
     ]
    }
   ],
   "source": [
    "easter2(1981)"
   ]
  },
  {
   "cell_type": "markdown",
   "id": "7e5ce2fd",
   "metadata": {},
   "source": [
    "## 11"
   ]
  },
  {
   "cell_type": "code",
   "execution_count": 284,
   "id": "f9afd744",
   "metadata": {},
   "outputs": [
    {
     "name": "stdout",
     "output_type": "stream",
     "text": [
      "The year 2004 is a leap year\n"
     ]
    },
    {
     "data": {
      "text/plain": [
       "True"
      ]
     },
     "execution_count": 284,
     "metadata": {},
     "output_type": "execute_result"
    }
   ],
   "source": [
    "def leap_year(year):\n",
    "    string_year = str(year)\n",
    "    string_year = string_year[::-1]\n",
    "    string_year = string_year[0:2]\n",
    "    #print(string_year)\n",
    "    \n",
    "    if year % 4 == 0:\n",
    "        if string_year == \"00\" and  year % 400 != 0:\n",
    "            print(f\"The year: {year} isn't a leap year\")\n",
    "            return False\n",
    "        else:\n",
    "            print(f\"The year {year} is a leap year\")\n",
    "            return True\n",
    "    else:\n",
    "        print(f\"The Year {year} isn't a leap year\")\n",
    "        return False\n",
    "        \n",
    "leap_year(2004)"
   ]
  },
  {
   "cell_type": "markdown",
   "id": "3d9bc422",
   "metadata": {},
   "source": [
    "## 12"
   ]
  },
  {
   "cell_type": "code",
   "execution_count": 291,
   "id": "b7aee4f5",
   "metadata": {},
   "outputs": [],
   "source": [
    "# date must be 00/00/0000 format so 09/03/1994 or 12/25/0001\n",
    "def valid_date(date):\n",
    "    month = int(date[0:2])\n",
    "    day = int(date[3:5])\n",
    "    year = int(date[6:])\n",
    "    \n",
    "    #print(month)\n",
    "    #print(day)\n",
    "    #print(year)\n",
    "    \n",
    "    if month > 12 or month <= 0:\n",
    "        print(f\"The month {month} is invalid\")\n",
    "    else:\n",
    "        if str(month) == \"4\" or str(month) == \"6\" or str(month) == \"9\" or str(month) == \"11\":\n",
    "            if day > 30 or day <= 0:\n",
    "                print(f\"Invalid: The month {month} can only have up to 30 days, {day} exceeds that\")\n",
    "                return False\n",
    "            else:\n",
    "                print(f\"Valid: The month {month} can have {day} days\")\n",
    "                return True\n",
    "                \n",
    "        elif str(month) == \"2\":\n",
    "            if day > 28 or day <= 0:\n",
    "                print(f\"Invalid: The month of Feb can only have up to 28 days, {day} exceeds that\")\n",
    "                return False\n",
    "            else:\n",
    "                print(f\"Valid: Feb can have {day} days\")\n",
    "                return True\n",
    "        else:\n",
    "            if day > 31 or day <= 0:\n",
    "                print(f\"Invalid: the month {month} can only have up to 31 days, {day} exceeds that\")\n",
    "                return False\n",
    "            else:\n",
    "                print(f\"Valid: The month {month} can have {day} days\")\n",
    "                return True\n",
    "        \n",
    "    \n",
    "    \n"
   ]
  },
  {
   "cell_type": "code",
   "execution_count": 292,
   "id": "ef105583",
   "metadata": {},
   "outputs": [
    {
     "name": "stdout",
     "output_type": "stream",
     "text": [
      "Valid: The month 8 can have 22 days\n"
     ]
    },
    {
     "data": {
      "text/plain": [
       "True"
      ]
     },
     "execution_count": 292,
     "metadata": {},
     "output_type": "execute_result"
    }
   ],
   "source": [
    "valid_date(\"08/22/2222\")"
   ]
  },
  {
   "cell_type": "markdown",
   "id": "54574800",
   "metadata": {},
   "source": [
    "## 13"
   ]
  },
  {
   "cell_type": "code",
   "execution_count": 295,
   "id": "fa90c03e",
   "metadata": {},
   "outputs": [],
   "source": [
    "# date must be 00/00/0000 format so 09/03/1994 or 12/25/0001\n",
    "def day_year(date):\n",
    "    month = int(date[0:2])\n",
    "    day = int(date[3:5])\n",
    "    year = int(date[6:])\n",
    "    \n",
    "    day_num = 31*(month - 1) + day\n",
    "    \n",
    "    if month > 2:\n",
    "        day_num -= ((4*month) + 23) // 10\n",
    "        \n",
    "    is_leap_year = leap_year(year)\n",
    "    if is_leap_year == True:\n",
    "        if month > 2:\n",
    "            day_num += 1\n",
    "            \n",
    "    if valid_date(date) == True:\n",
    "        print(f\"The Day number for {date} is {day_num}\")"
   ]
  },
  {
   "cell_type": "code",
   "execution_count": 296,
   "id": "62f93a8c",
   "metadata": {},
   "outputs": [
    {
     "name": "stdout",
     "output_type": "stream",
     "text": [
      "The Year 2222 isn't a leap year\n",
      "Valid: The month 8 can have 22 days\n",
      "The Day number for 08/22/2222 is 234\n"
     ]
    }
   ],
   "source": [
    "day_year(\"08/22/2222\")"
   ]
  },
  {
   "cell_type": "markdown",
   "id": "b843d964",
   "metadata": {},
   "source": [
    "## 14"
   ]
  },
  {
   "cell_type": "code",
   "execution_count": 302,
   "id": "7622aea2",
   "metadata": {},
   "outputs": [
    {
     "name": "stdout",
     "output_type": "stream",
     "text": [
      "This program computes the intersection of a circle and\n",
      "a horizontal line.\n",
      "\n",
      "Please enter the radius of the circle: 3\n",
      "Please enter the y-intercept of the line: 4\n",
      "The line does not intersect the circle.\n",
      "Click the window to quit\n"
     ]
    }
   ],
   "source": [
    "# c07ex14.pyw\n",
    "\n",
    "from graphics import *\n",
    "import math\n",
    "\n",
    "def main():\n",
    "    print(\"This program computes the intersection of a circle and\")\n",
    "    print(\"a horizontal line.\")\n",
    "    print()\n",
    "\n",
    "    radius = float(input(\"Please enter the radius of the circle: \"))\n",
    "    yinter = float(input(\"Please enter the y-intercept of the line: \"))\n",
    "\n",
    "    win = GraphWin(\"Circle Intersection\")\n",
    "    win.setCoords(-10,-10,10,10)\n",
    "\n",
    "    Circle(Point(0,0), radius).draw(win)\n",
    "    Line(Point(-10,yinter), Point(10,yinter)).draw(win)\n",
    "\n",
    "    if abs(yinter) <= radius:\n",
    "        x = math.sqrt(radius * radius - yinter * yinter)\n",
    "        print(\"X values of intersection\", -x, x)\n",
    "\n",
    "        p1 = Circle(Point(x,yinter),0.25)\n",
    "        p1.setOutline(\"red\")\n",
    "        p1.setFill(\"red\")\n",
    "        p1.draw(win)\n",
    "\n",
    "        p2 = p1.clone()\n",
    "        p2.move(-2*x, 0)\n",
    "        p2.draw(win)\n",
    "    else:\n",
    "        print(\"The line does not intersect the circle.\")\n",
    "\n",
    "    print(\"Click the window to quit\")\n",
    "    win.getMouse()\n",
    "    win.close()\n",
    "\n",
    "if __name__ == '__main__':\n",
    "    main()"
   ]
  },
  {
   "cell_type": "markdown",
   "id": "f793d6b7",
   "metadata": {},
   "source": [
    "## 15"
   ]
  },
  {
   "cell_type": "code",
   "execution_count": 305,
   "id": "7cc95179",
   "metadata": {},
   "outputs": [],
   "source": [
    "# c05ex08.pyw\n",
    "#    Line segment info.\n",
    "\n",
    "import math\n",
    "\n",
    "from graphics import *\n",
    "\n",
    "def main():\n",
    "    win = GraphWin(\"Line Segment Info\", 400, 400)\n",
    "    win.setCoords(-10,-10,10,10)\n",
    "\n",
    "    msg = Text(Point(0,-9.5), \"Click on endpoints of a line segment.\")\n",
    "    msg.draw(win)\n",
    "\n",
    "    p1 = win.getMouse()\n",
    "    p1.draw(win)\n",
    "\n",
    "    p2 = win.getMouse()\n",
    "    p2.draw(win)\n",
    "\n",
    "    line = Line(p1,p2)\n",
    "    line.draw(win)\n",
    "\n",
    "    mark = Circle(line.getCenter(),0.15)\n",
    "    mark.setFill(\"cyan\")\n",
    "    mark.draw(win)\n",
    "\n",
    "    dx = p2.getX() - p1.getX()\n",
    "    dy = p2.getY() - p1.getY()\n",
    "    if dx != 0.0:\n",
    "        slope = str(round(dy/dx,2))\n",
    "    else:\n",
    "        slope = \"inf\"\n",
    "    length = str(round(math.sqrt(dx*dx + dy*dy),2))\n",
    "\n",
    "    msg.setText(\"Length: {}, Slope: {}\".format(length, slope))\n",
    "    win.getMouse()\n",
    "    win.close()\n",
    "\n",
    "main()"
   ]
  },
  {
   "cell_type": "markdown",
   "id": "56f25575",
   "metadata": {},
   "source": [
    "## 16"
   ]
  },
  {
   "cell_type": "code",
   "execution_count": null,
   "id": "5b52fd5d",
   "metadata": {},
   "outputs": [],
   "source": [
    "from graphics import *\n",
    "def target():\n",
    "    points = 0\n",
    "    \n",
    "    win = GraphWin(title=\"Target\",width=500,height=500)\n",
    "    w_circle = Circle(Point(250,250),200)\n",
    "    w_circle.setFill(\"white\")\n",
    "    w_circle.draw(win)\n",
    "    \n",
    "    b_circle = Circle(Point(250,250),170)\n",
    "    b_circle.setFill(\"black\")\n",
    "    b_circle.draw(win)\n",
    "    \n",
    "    bl_circle = Circle(Point(250,250),140)\n",
    "    bl_circle.setFill(\"blue\")\n",
    "    bl_circle.draw(win)\n",
    "    \n",
    "    r_circle = Circle(Point(250,250),110)\n",
    "    r_circle.setFill(\"red\")\n",
    "    r_circle.draw(win)\n",
    "    \n",
    "    y_circle = Circle(Point(250,250),80)\n",
    "    y_circle.setFill(\"Yellow\")\n",
    "    y_circle.draw(win)\n",
    "    \n",
    "    center_circ = Circle(Point(250,250),50)\n",
    "    center_circ.setFill(\"green\")\n",
    "    center_circ.draw(win)\n",
    "    for i in range(5):\n",
    "        p = win.getMouse()\n",
    "        shot = Circle(Point(p.getX(), p.getY()),3)\n",
    "        shot.setFill('purple')\n",
    "        print(shot.getCenter())\n",
    "        center = shot.getCenter()\n",
    "        center_diff = abs(center.getX() - center.getY())\n",
    "        shot.draw(win)\n",
    "        if center.getX() >= 200 and center.getX() <= 300 and center.getY() >= 200 and center.getY() <=300:\n",
    "            points += 6\n",
    "            print(f\"Hit for 6, Current Points:{points}\\n\")\n",
    "        elif (center.getX() >= 170 and center.getX() <200) or (center.getX() > 300 and center.getX() <= 330):\n",
    "            if (center.getY() >= 170 and center.getY() <200) or (center.getY() > 300 and center.getY() <=330):\n",
    "                points += 5\n",
    "                print(f\"Hit for 5, Current Points:{points}\\n\")\n",
    "        elif (center.getX() >= 140 and center.getX() <170) or (center.getX() > 330 and center.getX() <= 360):\n",
    "            if (center.getY() >= 140 and center.getY() <170) or (center.getY() > 330 and center.getY() <=360):\n",
    "                points += 4\n",
    "                print(f\"Hit for 4, Current Points:{points}\\n\")\n",
    "        elif (center.getX() >= 110 and center.getX() <140) or (center.getX() > 360 and center.getX() <= 390):\n",
    "            if (center.getY() >= 110 and center.getY() <140) or (center.getY() > 360 and center.getY() <=390):\n",
    "                points += 3\n",
    "                print(f\"Hit for 3, Current Points:{points}\\n\")\n",
    "        elif (center.getX() >= 80 and center.getX() <110) or (center.getX() > 390 and center.getX() <= 420):\n",
    "            if (center.getY() >= 80 and center.getY() <110) or (center.getY() > 390 and center.getY() <=420):\n",
    "                points += 2\n",
    "                print(f\"Hit for 2, Current Points:{points} \\n\")\n",
    "        elif (center.getX() >= 50 and center.getX() <80) or (center.getX() > 420 and center.getX() <= 450):\n",
    "            if (center.getY() >= 50 and center.getY() <80) or (center.getY() > 420 and center.getY() <=450):\n",
    "                points += 1\n",
    "                print(f\"Hit for 1, Current Points:{points} \\n\")\n",
    "        else:\n",
    "            print(\"Miss No Points\")\n",
    "    print(points)\n",
    "    win.getMouse()\n",
    "    win.close()\n",
    "target()"
   ]
  },
  {
   "cell_type": "code",
   "execution_count": null,
   "id": "25757451",
   "metadata": {},
   "outputs": [],
   "source": [
    "       if center.getX() <= 300 and center.getX() >= 200:\n",
    "            points += 6\n",
    "            print(f\"Hit for 6, Current Points:{points}\\n\")\n",
    "            print(center_circ.getRadius())\n",
    "        elif center.getX() <= 330 and center.getX() > 300 or center.getX() < 200 and center.getX() >= 170:\n",
    "            points += 5\n",
    "            print(f\"Hit for 5, Current Points:{points}\\n\")\n",
    "        elif center.getX() <= 360 and center.getX() > 330 or center.getX() < 170 and center.getX() >= 140:\n",
    "            points += 4\n",
    "            print(f\"Hit for 4, Current Points:{points}\\n\")\n",
    "        elif center.getX() <= 390 and center.getX() > 360 or center.getX() < 140 and center.getX() >= 110:\n",
    "            points += 3\n",
    "            print(f\"Hit for 3, Current Points:{points}\\n\")\n",
    "        elif center.getX() <= 420 and center.getX() > 390 or center.getX() < 110 and center.getX() >= 80:\n",
    "            points += 2\n",
    "            print(f\"Hit for 2, Current Points:{points} \\n\")\n",
    "        elif center.getX() <= 450 and center.getX() > 420 or center.getX() < 80 and center.getX() >= 50:\n",
    "            points += 1\n",
    "            print(f\"Hit for 1, Current Points:{points} \\n\")\n",
    "        else:\n",
    "            print(\"Miss No Points\")"
   ]
  },
  {
   "cell_type": "code",
   "execution_count": 1,
   "id": "a516a465",
   "metadata": {},
   "outputs": [],
   "source": [
    "# c05ex02.pyw\n",
    "#    An archery target.\n",
    "\n",
    "import math\n",
    "from graphics import *\n",
    "\n",
    "def targetWindow():\n",
    "    win = GraphWin(\"Archery Scorer\", 400, 400)\n",
    "    win.setCoords(-6, -6, 6, 6)\n",
    "    win.setBackground(\"gray\")\n",
    "    center = Point(0,0)\n",
    "\n",
    "    # Draw the target\n",
    "    c1 = Circle(center, 5)\n",
    "    c1.setFill(\"white\")\n",
    "    c1.draw(win)\n",
    "    c2 = Circle(center, 4)\n",
    "    c2.setFill(\"black\")\n",
    "    c2.draw(win)\n",
    "    c3 = Circle(center, 3)\n",
    "    c3.setFill(\"blue\")\n",
    "    c3.draw(win)\n",
    "    c4 = Circle(center, 2)\n",
    "    c4.setFill(\"red\")\n",
    "    c4.draw(win)\n",
    "    c5 = Circle(center, 1)\n",
    "    c5.setFill(\"yellow\")\n",
    "    c5.draw(win)\n",
    "\n",
    "    return win\n",
    "\n",
    "\n",
    "def drawInterface(win):\n",
    "    msg = Text(Point(0,5.5), \"Click where arrow lands\")\n",
    "    msg.setStyle(\"bold\")\n",
    "    msg.setSize(14)\n",
    "    msg.draw(win)\n",
    "\n",
    "    arrowBox = Text(Point(-4,-5.5),\"Arrow:  \")\n",
    "    arrowBox.setStyle(\"bold\")\n",
    "    arrowBox.draw(win)\n",
    "\n",
    "    totalBox = Text(Point(4,-5.5), \"Total:   \")\n",
    "    totalBox.setStyle(\"bold\")\n",
    "    totalBox.draw(win)\n",
    "\n",
    "    return msg, arrowBox, totalBox\n",
    "\n",
    "\n",
    "def getScore(pt):\n",
    "    x,y = pt.getX(), pt.getY()\n",
    "    dist = math.sqrt(x*x + y*y)\n",
    "    if dist <= 1:\n",
    "        score = 9\n",
    "    elif dist <= 2:\n",
    "        score = 7\n",
    "    elif dist <=3:\n",
    "        score = 5\n",
    "    elif dist <= 4:\n",
    "        score = 3\n",
    "    elif dist <= 5:\n",
    "        score = 1\n",
    "    else:\n",
    "        score = 0\n",
    "    return score\n",
    "\n",
    "        \n",
    "def main():\n",
    "    win = targetWindow()\n",
    "    msg, arrowBox, totalBox = drawInterface(win)\n",
    "\n",
    "    arrow = 0\n",
    "    total = 0\n",
    "    for i in range(5):\n",
    "        hit = win.getMouse()\n",
    "        dot = Circle(hit, 0.1)\n",
    "        dot.setFill(\"green\")\n",
    "        dot.draw(win)\n",
    "        score = getScore(hit)\n",
    "        arrowBox.setText(\"Arrow: {0:1}\".format(score))\n",
    "        total = total + score\n",
    "        totalBox.setText(\"Total: {0:2}\".format(total))\n",
    "\n",
    "    msg.setText(\"Click anywhere to quit.\")\n",
    "    win.getMouse()\n",
    "    win.close()\n",
    "\n",
    "\n",
    "main()"
   ]
  },
  {
   "cell_type": "markdown",
   "id": "2b26ac8f",
   "metadata": {},
   "source": [
    "## 17"
   ]
  },
  {
   "cell_type": "code",
   "execution_count": 64,
   "id": "6eeafd0c",
   "metadata": {},
   "outputs": [
    {
     "name": "stdout",
     "output_type": "stream",
     "text": [
      "Point(200.0, 200.0)\n",
      "Point(300.0, 300.0)\n",
      "Point(397.0, 103.0)\n"
     ]
    }
   ],
   "source": [
    "import math\n",
    "from graphics import *\n",
    "\n",
    "def screen_saver():\n",
    "    win = GraphWin(\"Screen Saver\", 500, 500)\n",
    "    \n",
    "    c1 = Circle(Point(250,250), 50)\n",
    "    c1.setFill(\"Red\")\n",
    "    print(c1.getP1())\n",
    "    print(c1.getP2())\n",
    "    c1.draw(win)\n",
    "    dx = 1\n",
    "    dy = -1\n",
    "    switch1 =  False\n",
    "    switch2 = True\n",
    "    ###\n",
    "    update(10)\n",
    "    for i in range(200):\n",
    "        if switch1 == False:\n",
    "            dx += 1\n",
    "        elif switch1 == True:\n",
    "            dx -= 1\n",
    "        if switch2 == False:\n",
    "            dy += 1\n",
    "        elif switch2 == True:\n",
    "            dy -= 1\n",
    "        c1.undraw()\n",
    "        c1.move(dx,dy)\n",
    "        c1.draw(win)\n",
    "        update(30)\n",
    "        center= c1.getCenter()\n",
    "        x,y = center.getX(), center.getY()\n",
    "        if x > 450:\n",
    "            dx = -1\n",
    "            switch1 = True\n",
    "        if y > 450:\n",
    "            dy = -1\n",
    "            switch2 = True\n",
    "        if x < 50:\n",
    "            dx = 1\n",
    "            switch1 = False\n",
    "        if y < 50:\n",
    "            dy = 1\n",
    "            switch2 = False\n",
    "    print(c1.getCenter())\n",
    "    win.getMouse()\n",
    "    win.close()\n",
    "    \n",
    "screen_saver()"
   ]
  },
  {
   "cell_type": "code",
   "execution_count": 63,
   "id": "a48b0d28",
   "metadata": {},
   "outputs": [
    {
     "name": "stdout",
     "output_type": "stream",
     "text": [
      "Im here\n",
      "Im over here\n",
      "Now Here\n",
      "Finally Here\n",
      "Im here\n",
      "Im over here\n",
      "Now Here\n",
      "Finally Here\n",
      "Im here\n",
      "Im over here\n",
      "Now Here\n",
      "Finally Here\n",
      "Im here\n",
      "Point(450.0, 450.0)\n"
     ]
    }
   ],
   "source": [
    "import math\n",
    "from graphics import *\n",
    "\n",
    "def screen_saver():\n",
    "    win = GraphWin(\"Screen Saver\", 500, 500, autoflush=False)\n",
    "    \n",
    "    c1 = Circle(Point(250,250), 50)\n",
    "    c1.setFill(\"Red\")\n",
    "    c1.draw(win)\n",
    "    dx = 1\n",
    "    dy = 1\n",
    "    switch1 =  False\n",
    "    switch2 = True\n",
    "    ###\n",
    "    update(10)\n",
    "    for i in range(5000):\n",
    "        if switch1 == \"Positive\":\n",
    "            dx = 1\n",
    "        elif switch1 == \"Negative\":\n",
    "            dx = -1\n",
    "        elif switch1 == \"Zero\":\n",
    "            dx = 0\n",
    "        if switch2 == \"Positive\":\n",
    "            dy = 1\n",
    "        elif switch2 == \"Negative\":\n",
    "            dy = -1\n",
    "        elif switch2 == \"Zero\":\n",
    "            dy = 0\n",
    "        c1.undraw()\n",
    "        c1.move(dx,dy)\n",
    "        c1.draw(win)\n",
    "\n",
    "        center= c1.getCenter()\n",
    "        x,y = center.getX(), center.getY()\n",
    "        #if x < 450 and y == 450:\n",
    "            #print(f\"NEXT dX is {dx} y is {y} center is {center}\")\n",
    "        #if x > 250:\n",
    "           # print(f\"First dX is {dx} y is {y} center is {center}\")\n",
    "        if x == 450 and y == 450:\n",
    "            dx = -1\n",
    "            dy = 0\n",
    "            switch1 = \"Negative\"\n",
    "            switch2 = \"Zero\"\n",
    "            print(\"Im here\")\n",
    "        if x == 50 and y == 450:\n",
    "            dx = 1\n",
    "            dy = -1\n",
    "            switch1 = \"Positive\"\n",
    "            switch2 = \"Negative\"\n",
    "            print(\"Im over here\")\n",
    "        if x == 450 and y == 50:\n",
    "            dx = -1\n",
    "            dy = 0\n",
    "            switch1 = \"Negative\"\n",
    "            switch2 = \"Zero\"\n",
    "            print(\"Now Here\")\n",
    "        if x == 50 and y == 50:\n",
    "            dx = 1\n",
    "            dy = 1\n",
    "            switch1 = \"Positive\"\n",
    "            switch2 = \"Positive\"\n",
    "            print(\"Finally Here\")\n",
    "        update(100)\n",
    "\n",
    "    print(c1.getCenter())\n",
    "    win.getMouse()\n",
    "    win.close()\n",
    "    \n",
    "screen_saver()"
   ]
  },
  {
   "cell_type": "markdown",
   "id": "fc13108e",
   "metadata": {},
   "source": [
    "# C'est Fini!"
   ]
  },
  {
   "cell_type": "code",
   "execution_count": null,
   "id": "7a687cb2",
   "metadata": {},
   "outputs": [],
   "source": []
  }
 ],
 "metadata": {
  "kernelspec": {
   "display_name": "Python 3 (ipykernel)",
   "language": "python",
   "name": "python3"
  },
  "language_info": {
   "codemirror_mode": {
    "name": "ipython",
    "version": 3
   },
   "file_extension": ".py",
   "mimetype": "text/x-python",
   "name": "python",
   "nbconvert_exporter": "python",
   "pygments_lexer": "ipython3",
   "version": "3.9.13"
  }
 },
 "nbformat": 4,
 "nbformat_minor": 5
}
