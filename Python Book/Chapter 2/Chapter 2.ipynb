{
 "cells": [
  {
   "cell_type": "markdown",
   "id": "ce90c5e3",
   "metadata": {},
   "source": [
    "# Writing Simple Programs"
   ]
  },
  {
   "cell_type": "code",
   "execution_count": 1,
   "id": "6c56565b",
   "metadata": {},
   "outputs": [],
   "source": [
    "def convert():\n",
    "    \n",
    "    celsius = eval(input(\"What is the temperature in Celsius? \"))\n",
    "    fahrenheit = (9/5) * celsius + 32\n",
    "    print(f\"The temperature in Fahrenheit is {fahrenheit}\")"
   ]
  },
  {
   "cell_type": "code",
   "execution_count": 2,
   "id": "bc0565f3",
   "metadata": {},
   "outputs": [
    {
     "name": "stdout",
     "output_type": "stream",
     "text": [
      "What is the temperature in Celsius? 0\n",
      "The temperature in Fahrenheit is 32.0\n"
     ]
    }
   ],
   "source": [
    "convert()"
   ]
  },
  {
   "cell_type": "code",
   "execution_count": 4,
   "id": "5ab7c81c",
   "metadata": {},
   "outputs": [
    {
     "name": "stdout",
     "output_type": "stream",
     "text": [
      "What is the temperature in Celsius? 100\n",
      "The temperature in Fahrenheit is 212.0\n"
     ]
    }
   ],
   "source": [
    "convert()"
   ]
  },
  {
   "cell_type": "markdown",
   "id": "375008cd",
   "metadata": {},
   "source": [
    "We can see that our program is working correctly"
   ]
  },
  {
   "cell_type": "markdown",
   "id": "741d3ff1",
   "metadata": {},
   "source": [
    "Variables should start with lower cases and no spaces should be used but an underscore instead"
   ]
  },
  {
   "cell_type": "code",
   "execution_count": 6,
   "id": "27c5104c",
   "metadata": {},
   "outputs": [],
   "source": [
    "variable_one = 3\n",
    "variable_two = \"HELLO\""
   ]
  },
  {
   "cell_type": "code",
   "execution_count": 7,
   "id": "67fc2859",
   "metadata": {},
   "outputs": [
    {
     "name": "stdout",
     "output_type": "stream",
     "text": [
      "1\n"
     ]
    }
   ],
   "source": [
    "# Variables are case sensitive\n",
    "Variable = 1\n",
    "variable = 3\n",
    "print(Variable)"
   ]
  },
  {
   "cell_type": "code",
   "execution_count": null,
   "id": "4c3898cb",
   "metadata": {},
   "outputs": [],
   "source": [
    "# We can use keywords such as the following for variable names:\n",
    "False finally is lambda #etc..."
   ]
  },
  {
   "cell_type": "code",
   "execution_count": 8,
   "id": "98fb98fe",
   "metadata": {},
   "outputs": [
    {
     "name": "stdout",
     "output_type": "stream",
     "text": [
      "The answer is:  11\n"
     ]
    }
   ],
   "source": [
    "# Example of changing a paramter in a built in function\n",
    "print(\"The answer is: \",end=\" \")\n",
    "print(3+8)"
   ]
  },
  {
   "cell_type": "markdown",
   "id": "7f98dd54",
   "metadata": {},
   "source": [
    "## 2.5 Assignment Statements"
   ]
  },
  {
   "cell_type": "markdown",
   "id": "216de043",
   "metadata": {},
   "source": [
    "The basic assignment statement has this form <br />\n",
    "variable = expression"
   ]
  },
  {
   "cell_type": "code",
   "execution_count": 9,
   "id": "94350545",
   "metadata": {},
   "outputs": [
    {
     "name": "stdout",
     "output_type": "stream",
     "text": [
      "0\n",
      "7\n",
      "14\n"
     ]
    }
   ],
   "source": [
    "# A variable can be assigned multiple times\n",
    "my_var = 0\n",
    "print(my_var)\n",
    "my_var = 7\n",
    "print(my_var)\n",
    "my_var = my_var + my_var\n",
    "print(my_var)"
   ]
  },
  {
   "cell_type": "markdown",
   "id": "e0cbc4b9",
   "metadata": {},
   "source": [
    "As you reassign variables, the old values are discarded to not take up memory space; this is called **Garbage Collection**"
   ]
  },
  {
   "cell_type": "markdown",
   "id": "a5245cdf",
   "metadata": {},
   "source": [
    "### Assigning Input"
   ]
  },
  {
   "cell_type": "markdown",
   "id": "9193d62f",
   "metadata": {},
   "source": [
    "We can grab input from a user and save it as a variable. The syntax is as follows: <br />\n",
    "variable = input(prompt)"
   ]
  },
  {
   "cell_type": "code",
   "execution_count": 11,
   "id": "159f5712",
   "metadata": {},
   "outputs": [
    {
     "name": "stdout",
     "output_type": "stream",
     "text": [
      "What is your name? Aurora Blessing\n"
     ]
    },
    {
     "data": {
      "text/plain": [
       "'Aurora Blessing'"
      ]
     },
     "execution_count": 11,
     "metadata": {},
     "output_type": "execute_result"
    }
   ],
   "source": [
    "name = input(\"What is your name? \")\n",
    "name"
   ]
  },
  {
   "cell_type": "code",
   "execution_count": 14,
   "id": "9583a7ba",
   "metadata": {},
   "outputs": [
    {
     "name": "stdout",
     "output_type": "stream",
     "text": [
      "Give me a number: 1.1\n",
      "1.2100000000000002\n"
     ]
    }
   ],
   "source": [
    "# We can use eval() or int() or float() to change strings to numbers\n",
    "x = eval(input(\"Give me a number: \")) # looks like eval can do floats or ints\n",
    "print(x*x)"
   ]
  },
  {
   "cell_type": "markdown",
   "id": "ae1cde61",
   "metadata": {},
   "source": [
    "### Simultaneous Assignment"
   ]
  },
  {
   "cell_type": "code",
   "execution_count": 16,
   "id": "73c50155",
   "metadata": {},
   "outputs": [
    {
     "name": "stdout",
     "output_type": "stream",
     "text": [
      "8\n",
      "-2\n"
     ]
    }
   ],
   "source": [
    "# We can do multiple assignments in one line like so:\n",
    "x = 3\n",
    "y =5\n",
    "summation, diff = x+y, x-y\n",
    "print(summation)\n",
    "print(diff)"
   ]
  },
  {
   "cell_type": "markdown",
   "id": "68e327d3",
   "metadata": {},
   "source": [
    "Another Example"
   ]
  },
  {
   "cell_type": "code",
   "execution_count": 17,
   "id": "f11e4c46",
   "metadata": {},
   "outputs": [],
   "source": [
    "def averages():\n",
    "    print('This program computes the average score of the exams')\n",
    "    \n",
    "    score1,score2 = eval(input(\"GIve two scores separated by a comma: \"))\n",
    "    print((score1+score2)/2)"
   ]
  },
  {
   "cell_type": "code",
   "execution_count": 18,
   "id": "59aeac5c",
   "metadata": {},
   "outputs": [
    {
     "name": "stdout",
     "output_type": "stream",
     "text": [
      "This program computes the average score of the exams\n",
      "GIve two scores separated by a comma: 100,95\n",
      "97.5\n"
     ]
    }
   ],
   "source": [
    "averages()"
   ]
  },
  {
   "cell_type": "markdown",
   "id": "e3504352",
   "metadata": {},
   "source": [
    "# 2.6: Definite Loops "
   ]
  },
  {
   "cell_type": "markdown",
   "id": "a5a57e63",
   "metadata": {},
   "source": [
    "**Definite Loop:** Loop that will execute for a definite number of times; such as a ***for*** loop"
   ]
  },
  {
   "cell_type": "markdown",
   "id": "abb52a6e",
   "metadata": {},
   "source": [
    "For Loop Syntax <br /> <br />\n",
    "for ***variable*** in ***sequence***: <br />\n",
    "do something"
   ]
  },
  {
   "cell_type": "code",
   "execution_count": 19,
   "id": "eebbe915",
   "metadata": {},
   "outputs": [
    {
     "name": "stdout",
     "output_type": "stream",
     "text": [
      "1\n",
      "2\n",
      "3\n",
      "4\n",
      "5\n"
     ]
    }
   ],
   "source": [
    "# example\n",
    "for i in [1,2,3,4,5]:\n",
    "    print(i)"
   ]
  },
  {
   "cell_type": "code",
   "execution_count": 20,
   "id": "165bfe52",
   "metadata": {},
   "outputs": [
    {
     "name": "stdout",
     "output_type": "stream",
     "text": [
      "0\n",
      "2\n",
      "4\n",
      "6\n",
      "8\n",
      "10\n",
      "12\n",
      "14\n",
      "16\n",
      "18\n",
      "20\n"
     ]
    }
   ],
   "source": [
    "# Can use range function rather than explicit list\n",
    "for i in range(11):\n",
    "    print(i+i)"
   ]
  },
  {
   "cell_type": "markdown",
   "id": "64951895",
   "metadata": {},
   "source": [
    "We used the index variable \"i\", you can use any name for this variable but standard practice is to make it something clear"
   ]
  },
  {
   "cell_type": "markdown",
   "id": "9eb3e00f",
   "metadata": {},
   "source": [
    "## 2.7: Example Program: Future Value"
   ]
  },
  {
   "cell_type": "code",
   "execution_count": 57,
   "id": "01c7cd73",
   "metadata": {},
   "outputs": [],
   "source": [
    "def futval():\n",
    "    print(\"This program calculates the value of an investment carried 10 years into the future\")\n",
    "    \n",
    "    principal = eval(input(\"Enter the initial principle: \"))\n",
    "    apr = eval(input(\"Enter the annual interest rate in decimals: \"))\n",
    "    \n",
    "    for i in range(10):\n",
    "        principal = principal * (1+apr)\n",
    "        \n",
    "    print(f\"The value in 10 years is: ${round(principal,2)}\")"
   ]
  },
  {
   "cell_type": "code",
   "execution_count": 58,
   "id": "4f1a55de",
   "metadata": {},
   "outputs": [
    {
     "name": "stdout",
     "output_type": "stream",
     "text": [
      "This program calculates the value of an investment carried 10 years into the future\n",
      "Enter the initial principle: 200\n",
      "Enter the annual interest rate in decimals: .44\n",
      "The value in 10 years is: $7667.52\n"
     ]
    }
   ],
   "source": [
    "futval()"
   ]
  },
  {
   "cell_type": "markdown",
   "id": "cf8db6a6",
   "metadata": {},
   "source": [
    "## 2.8: Review"
   ]
  },
  {
   "cell_type": "markdown",
   "id": "f687a223",
   "metadata": {},
   "source": [
    "Writing programs requires a systematic approach to problem solving and involves the following steps: <br />\n",
    "1. **Problem Analysis:** Studying the problem that needs to be solved <br />\n",
    "2. **Problem Specification:** Deciding exactly what the program will do <br />\n",
    "3. **Design:** Writing an algorithm in pseudocode <br />\n",
    "4. **Implementation:** Translating the design into a programming language <br />\n",
    "5. **Testing/Debugging:** Finding and fixing errors in the program <br />\n",
    "6. **Maintenance:** Keeping the program up to date with evolving needs"
   ]
  },
  {
   "cell_type": "markdown",
   "id": "f0d2b980",
   "metadata": {},
   "source": [
    "**Literals:** A literal representation of a specific value. For example, 3 is a literal representing the number three. <br />\n",
    "**Variables:** A variable is an identifier that stores a value <br />\n",
    "**Operators:** Operators can be used to combine expressions into more complex expressions. For example, in x+3*y the operators + and * are used"
   ]
  },
  {
   "cell_type": "markdown",
   "id": "22ae71f9",
   "metadata": {},
   "source": [
    "# 2.9 Exercises"
   ]
  },
  {
   "cell_type": "markdown",
   "id": "f839cddf",
   "metadata": {},
   "source": [
    "## Programming Exercises"
   ]
  },
  {
   "cell_type": "markdown",
   "id": "71ecb075",
   "metadata": {},
   "source": [
    "## 1"
   ]
  },
  {
   "cell_type": "code",
   "execution_count": 34,
   "id": "935105f3",
   "metadata": {},
   "outputs": [],
   "source": [
    "def convert():\n",
    "    print(\"This program will convert celsius temperature to fahrenheit!\")\n",
    "    \n",
    "    celsius = eval(input(\"What is the temperature in Celsius? \"))\n",
    "    fahrenheit = (9/5) * celsius + 32\n",
    "    \n",
    "    print(f\"The temperature in Fahrenheit is {fahrenheit}\")"
   ]
  },
  {
   "cell_type": "code",
   "execution_count": 35,
   "id": "69d84313",
   "metadata": {},
   "outputs": [
    {
     "name": "stdout",
     "output_type": "stream",
     "text": [
      "This program will convert celsius temperature to fahrenheit!\n",
      "What is the temperature in Celsius? 44\n",
      "The temperature in Fahrenheit is 111.2\n"
     ]
    }
   ],
   "source": [
    "convert()"
   ]
  },
  {
   "cell_type": "markdown",
   "id": "d2589814",
   "metadata": {},
   "source": [
    "## 2"
   ]
  },
  {
   "cell_type": "code",
   "execution_count": 36,
   "id": "ecc28915",
   "metadata": {},
   "outputs": [],
   "source": [
    "def convert():\n",
    "    print(\"This program will convert celsius temperature to fahrenheit!\")\n",
    "    \n",
    "    celsius = eval(input(\"What is the temperature in Celsius? \"))\n",
    "    fahrenheit = (9/5) * celsius + 32\n",
    "    \n",
    "    print(f\"The temperature in Fahrenheit is {fahrenheit}\")\n",
    "    \n",
    "    input(\"Are you done? \")"
   ]
  },
  {
   "cell_type": "code",
   "execution_count": 37,
   "id": "feab5c50",
   "metadata": {},
   "outputs": [
    {
     "name": "stdout",
     "output_type": "stream",
     "text": [
      "This program will convert celsius temperature to fahrenheit!\n",
      "What is the temperature in Celsius? 55\n",
      "The temperature in Fahrenheit is 131.0\n",
      "Are you done? yep\n"
     ]
    }
   ],
   "source": [
    "convert()"
   ]
  },
  {
   "cell_type": "markdown",
   "id": "eb0ec792",
   "metadata": {},
   "source": [
    "## 3"
   ]
  },
  {
   "cell_type": "code",
   "execution_count": 38,
   "id": "3aa9256f",
   "metadata": {},
   "outputs": [],
   "source": [
    "def averages():\n",
    "    print('This program computes the average score of the exams')\n",
    "    \n",
    "    score1,score2,score3 = eval(input(\"GIve three scores separated by a commas: \"))\n",
    "    print((score1+score2)/3)"
   ]
  },
  {
   "cell_type": "code",
   "execution_count": 39,
   "id": "4aa548d5",
   "metadata": {},
   "outputs": [
    {
     "name": "stdout",
     "output_type": "stream",
     "text": [
      "This program computes the average score of the exams\n",
      "GIve three scores separated by a commas: 11,100,94\n",
      "37.0\n"
     ]
    }
   ],
   "source": [
    "averages()"
   ]
  },
  {
   "cell_type": "markdown",
   "id": "5a06c041",
   "metadata": {},
   "source": [
    "## 4"
   ]
  },
  {
   "cell_type": "code",
   "execution_count": 42,
   "id": "655def2a",
   "metadata": {},
   "outputs": [],
   "source": [
    "def convert():\n",
    "    print(\"This program will convert celsius temperature to fahrenheit!\")\n",
    "    \n",
    "    for i in range(5):\n",
    "        celsius = eval(input(\"What is the temperature in Celsius? \"))\n",
    "        fahrenheit = (9/5) * celsius + 32\n",
    "\n",
    "        print(f\"The temperature in Fahrenheit is {fahrenheit}\")\n",
    "        print('\\n')"
   ]
  },
  {
   "cell_type": "code",
   "execution_count": 43,
   "id": "e85d10f3",
   "metadata": {},
   "outputs": [
    {
     "name": "stdout",
     "output_type": "stream",
     "text": [
      "This program will convert celsius temperature to fahrenheit!\n",
      "What is the temperature in Celsius? 11\n",
      "The temperature in Fahrenheit is 51.8\n",
      "\n",
      "\n",
      "What is the temperature in Celsius? 22\n",
      "The temperature in Fahrenheit is 71.6\n",
      "\n",
      "\n",
      "What is the temperature in Celsius? 44\n",
      "The temperature in Fahrenheit is 111.2\n",
      "\n",
      "\n",
      "What is the temperature in Celsius? 55\n",
      "The temperature in Fahrenheit is 131.0\n",
      "\n",
      "\n",
      "What is the temperature in Celsius? 66\n",
      "The temperature in Fahrenheit is 150.8\n",
      "\n",
      "\n"
     ]
    }
   ],
   "source": [
    "convert()"
   ]
  },
  {
   "cell_type": "markdown",
   "id": "c1ee1222",
   "metadata": {},
   "source": [
    "## 5"
   ]
  },
  {
   "cell_type": "code",
   "execution_count": 50,
   "id": "e5a384d5",
   "metadata": {},
   "outputs": [],
   "source": [
    "def convert():\n",
    "    print(\"This program will convert celsius temperature to fahrenheit!\")\n",
    "    \n",
    "    print(f\"Celsius ||  Fahrenheit\")\n",
    "    print(\"-----------\")\n",
    "    for i in range(11):\n",
    "        celsius = i * 10\n",
    "        fahrenheit = (9/5) * celsius + 32\n",
    "\n",
    "\n",
    "        print(f\"{celsius} || {fahrenheit}\")"
   ]
  },
  {
   "cell_type": "code",
   "execution_count": 51,
   "id": "c9b5ce64",
   "metadata": {},
   "outputs": [
    {
     "name": "stdout",
     "output_type": "stream",
     "text": [
      "This program will convert celsius temperature to fahrenheit!\n",
      "Celsius ||  Fahrenheit\n",
      "-----------\n",
      "0 || 32.0\n",
      "10 || 50.0\n",
      "20 || 68.0\n",
      "30 || 86.0\n",
      "40 || 104.0\n",
      "50 || 122.0\n",
      "60 || 140.0\n",
      "70 || 158.0\n",
      "80 || 176.0\n",
      "90 || 194.0\n",
      "100 || 212.0\n"
     ]
    }
   ],
   "source": [
    "convert()"
   ]
  },
  {
   "cell_type": "markdown",
   "id": "8d7cc231",
   "metadata": {},
   "source": [
    "## 6"
   ]
  },
  {
   "cell_type": "code",
   "execution_count": 52,
   "id": "68a63f2a",
   "metadata": {},
   "outputs": [],
   "source": [
    "def futval():\n",
    "    print(\"This program calculates the value of an investment carried 10 years into the future\")\n",
    "    \n",
    "    principal = eval(input(\"Enter the initial principle: \"))\n",
    "    n = eval(input(\"How many years will this investment last? \"))\n",
    "    apr = eval(input(\"Enter the annual interest rate in decimals: \"))\n",
    "    \n",
    "    for i in range(n):\n",
    "        principal = principal * (1+apr)\n",
    "        \n",
    "    print(f\"The value in {n} years is: ${round(principal,2)}\")"
   ]
  },
  {
   "cell_type": "code",
   "execution_count": 53,
   "id": "f7c39def",
   "metadata": {},
   "outputs": [
    {
     "name": "stdout",
     "output_type": "stream",
     "text": [
      "This program calculates the value of an investment carried 10 years into the future\n",
      "Enter the initial principle: 100\n",
      "How many years will this investment last? 5\n",
      "Enter the annual interest rate in decimals: .1\n",
      "The value in 5 years is: $161.05\n"
     ]
    }
   ],
   "source": [
    "futval()"
   ]
  },
  {
   "cell_type": "markdown",
   "id": "6f039859",
   "metadata": {},
   "source": [
    "## 7"
   ]
  },
  {
   "cell_type": "code",
   "execution_count": 63,
   "id": "150f66c5",
   "metadata": {},
   "outputs": [],
   "source": [
    "def futval():\n",
    "    print(\"This program calculates the value of an investment carried 10 years into the future\")\n",
    "    \n",
    "    periodic_payment = eval(input(\"How much will you add each year: \"))\n",
    "    n = eval(input(\"How many years will this investment last? \"))\n",
    "    apr = eval(input(\"Enter the annual interest rate in decimals: \"))\n",
    "    total = 0\n",
    "    \n",
    "    for i in range(n):\n",
    "        total = (total + periodic_payment) * (1+apr)\n",
    "        \n",
    "    print(f\"The value in {n} years is: ${round(total,2)}\")"
   ]
  },
  {
   "cell_type": "code",
   "execution_count": 64,
   "id": "82d3e884",
   "metadata": {},
   "outputs": [
    {
     "name": "stdout",
     "output_type": "stream",
     "text": [
      "This program calculates the value of an investment carried 10 years into the future\n",
      "How much will you add each year: 100\n",
      "How many years will this investment last? 5\n",
      "Enter the annual interest rate in decimals: .03\n",
      "The value in 5 years is: $546.84\n"
     ]
    }
   ],
   "source": [
    "futval()"
   ]
  },
  {
   "cell_type": "markdown",
   "id": "8cbddb01",
   "metadata": {},
   "source": [
    "## 8"
   ]
  },
  {
   "cell_type": "code",
   "execution_count": 77,
   "id": "30d8de05",
   "metadata": {},
   "outputs": [],
   "source": [
    "def futval():\n",
    "    print(\"This program calculates the value of an investment carried 10 years into the future\")\n",
    "    \n",
    "    principal = eval(input(\"What is your starting principle: \"))\n",
    "    periodic_payment = eval(input(\"How much will you add each year: \"))\n",
    "    n = eval(input(\"How many years will this investment last? \"))\n",
    "    periods = eval(input(\"How many periods will the interest accrue per year: \"))\n",
    "    apr = eval(input(\"Enter the annual interest rate in decimals: \"))\n",
    "    total = principal\n",
    "    period_interest = apr/periods\n",
    "    \n",
    "    for i in range(n):\n",
    "        for i in range(periods):\n",
    "            total = (total) * (1+period_interest)\n",
    "        total +=  periodic_payment\n",
    "    \n",
    "    print('\\n')\n",
    "    print(f\"The value in {n} years is: ${round(total,2)}\")"
   ]
  },
  {
   "cell_type": "code",
   "execution_count": 78,
   "id": "aa864a93",
   "metadata": {},
   "outputs": [
    {
     "name": "stdout",
     "output_type": "stream",
     "text": [
      "This program calculates the value of an investment carried 10 years into the future\n",
      "What is your starting principle: 100\n",
      "How much will you add each year: 100\n",
      "How many years will this investment last? 5\n",
      "How many periods will the interest accrue per year: 4\n",
      "Enter the annual interest rate in decimals: .03\n",
      "\n",
      "\n",
      "The value in 5 years is: $647.39\n"
     ]
    }
   ],
   "source": [
    "futval()"
   ]
  },
  {
   "cell_type": "markdown",
   "id": "2941d2e8",
   "metadata": {},
   "source": [
    "## 9"
   ]
  },
  {
   "cell_type": "code",
   "execution_count": 82,
   "id": "a683ff9c",
   "metadata": {},
   "outputs": [],
   "source": [
    "def convert():\n",
    "    print(\"This program will convert fahrenheit temperature to celsius!\")\n",
    "    \n",
    "    fahrenheit = eval(input(\"What is the temperature in Fahrenheit? \"))\n",
    "    celsius = (fahrenheit - 32) / (9/5)\n",
    "    \n",
    "    print(f\"The temperature in celsius is {round(celsius,2)}\")"
   ]
  },
  {
   "cell_type": "code",
   "execution_count": 83,
   "id": "cd771cdb",
   "metadata": {},
   "outputs": [
    {
     "name": "stdout",
     "output_type": "stream",
     "text": [
      "This program will convert fahrenheit temperature to celsius!\n",
      "What is the temperature in Fahrenheit? 212\n",
      "The temperature in celsius is 100.0\n"
     ]
    }
   ],
   "source": [
    "convert()"
   ]
  },
  {
   "cell_type": "markdown",
   "id": "bbfdf8df",
   "metadata": {},
   "source": [
    "## 10"
   ]
  },
  {
   "cell_type": "code",
   "execution_count": 86,
   "id": "636f4759",
   "metadata": {},
   "outputs": [],
   "source": [
    "def kilo_miles():\n",
    "    \n",
    "    kilometers = eval(input(\"Enter Kilometers: \"))\n",
    "    miles = kilometers * .62\n",
    "    \n",
    "    print(f\"{kilometers} Kilometers is {miles} Miles\")"
   ]
  },
  {
   "cell_type": "code",
   "execution_count": 87,
   "id": "0921fab5",
   "metadata": {},
   "outputs": [
    {
     "name": "stdout",
     "output_type": "stream",
     "text": [
      "Enter Kilometers: 100\n",
      "100 Kilometers is 62.0 Miles\n"
     ]
    }
   ],
   "source": [
    "kilo_miles()"
   ]
  },
  {
   "cell_type": "markdown",
   "id": "953496e2",
   "metadata": {},
   "source": [
    "# 11"
   ]
  },
  {
   "cell_type": "code",
   "execution_count": 90,
   "id": "4beff9e4",
   "metadata": {},
   "outputs": [],
   "source": [
    "def feet_inches():\n",
    "    print(\"THis program converts feet to inches\")\n",
    "    \n",
    "    feet = eval(input(\"Give an amount in feet: \"))\n",
    "    inches = feet *12\n",
    "    \n",
    "    \n",
    "    \n",
    "    print(f\"{feet} Feet is equal to {inches} Inches\")"
   ]
  },
  {
   "cell_type": "code",
   "execution_count": 91,
   "id": "8063fab0",
   "metadata": {},
   "outputs": [
    {
     "name": "stdout",
     "output_type": "stream",
     "text": [
      "THis program converts feet to inches\n",
      "Give an amount in feet: 6\n",
      "6 Feet is equal to 72 Inches\n"
     ]
    }
   ],
   "source": [
    "feet_inches()"
   ]
  },
  {
   "cell_type": "markdown",
   "id": "a983ad24",
   "metadata": {},
   "source": [
    "## 12"
   ]
  },
  {
   "cell_type": "code",
   "execution_count": 92,
   "id": "ec632296",
   "metadata": {},
   "outputs": [],
   "source": [
    "def math_expression():\n",
    "    \n",
    "    print(\"This program lets you execute math expressions; please no variables just numbers!\")\n",
    "    d\n",
    "    while True:\n",
    "        result = eval(input(\"Make a math expression: \"))\n",
    "        print(result)\n",
    "        ask = input(\"Keep going? \")\n",
    "        if ask.upper() == \"NO\":\n",
    "            break"
   ]
  },
  {
   "cell_type": "code",
   "execution_count": 93,
   "id": "1ed46d67",
   "metadata": {},
   "outputs": [
    {
     "name": "stdout",
     "output_type": "stream",
     "text": [
      "This program lets you execute math expressions; please no variables just numbers!\n",
      "Make a math expression: 2+2\n",
      "4\n",
      "Keep going? y\n",
      "Make a math expression: 4*8\n",
      "32\n",
      "Keep going? No\n"
     ]
    }
   ],
   "source": [
    "math_expression()"
   ]
  }
 ],
 "metadata": {
  "kernelspec": {
   "display_name": "Python 3 (ipykernel)",
   "language": "python",
   "name": "python3"
  },
  "language_info": {
   "codemirror_mode": {
    "name": "ipython",
    "version": 3
   },
   "file_extension": ".py",
   "mimetype": "text/x-python",
   "name": "python",
   "nbconvert_exporter": "python",
   "pygments_lexer": "ipython3",
   "version": "3.9.13"
  }
 },
 "nbformat": 4,
 "nbformat_minor": 5
}
